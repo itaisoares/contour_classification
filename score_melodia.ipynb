{
 "cells": [
  {
   "cell_type": "code",
   "execution_count": 3,
   "metadata": {
    "collapsed": false
   },
   "outputs": [],
   "source": [
    "import os\n",
    "import glob\n",
    "import mir_eval\n",
    "import json\n",
    "import sys\n",
    "import properties as prop"
   ]
  },
  {
   "cell_type": "code",
   "execution_count": 4,
   "metadata": {
    "collapsed": false
   },
   "outputs": [],
   "source": [
    "melodia_output_path = prop.melodiaOutput\n",
    "\n",
    "mel1_refpath = prop.annotationsRoot + \"/MELODY1\"\n",
    "\n",
    "mel1_refpath = prop.annotationsRoot + \"/MELODY2\"\n",
    "\n",
    "melodyJsons = prop.testDataName + \"/\" +  prop.melodyTrackIdsJson\n",
    "with open(melodyJsons, 'r') as f:\n",
    "    melody_trackids = json.load(f)\n",
    "    melody_trackids = melody_trackids['tracks']\n",
    "    \n"
   ]
  },
  {
   "cell_type": "code",
   "execution_count": 5,
   "metadata": {
    "collapsed": false
   },
   "outputs": [],
   "source": [
    "melodia_outdirs = glob.glob(os.path.join(melodia_output_path, \"nu_*\"))"
   ]
  },
  {
   "cell_type": "code",
   "execution_count": 6,
   "metadata": {
    "collapsed": false
   },
   "outputs": [
    {
     "data": {
      "text/plain": [
       "[]"
      ]
     },
     "execution_count": 6,
     "metadata": {},
     "output_type": "execute_result"
    }
   ],
   "source": [
    "melodia_outdirs"
   ]
  },
  {
   "cell_type": "code",
   "execution_count": 7,
   "metadata": {
    "collapsed": false
   },
   "outputs": [],
   "source": [
    "for outdir in melodia_outdirs:\n",
    "    res_path_mel1 = \"melodia_scores/melody1/%s_melody1.json\" % os.path.basename(outdir)\n",
    "    res_path_mel2 = \"melodia_scores/melody2/%s_melody2.json\" % os.path.basename(outdir)\n",
    "    \n",
    "    if os.path.exists(res_path_mel1) or os.path.exists(res_path_mel1):\n",
    "        continue\n",
    "    \n",
    "    mel1_results = dict.fromkeys(melody_trackids)\n",
    "    mel2_results = dict.fromkeys(melody_trackids)\n",
    "    \n",
    "    print(\"Scoring for \", outdir)\n",
    "    \n",
    "    for track in melody_trackids:\n",
    "        est_fname = \"%s_MIX_vamp_mtg-melodia-nu_melodianu_melody.csv\" % str(track)\n",
    "        est_fpath = os.path.join(outdir, est_fname)\n",
    "        est_t, est_f0 = mir_eval.io.load_time_series(est_fpath, delimiter=',')\n",
    "        \n",
    "        ref1_fname = \"%s_MELODY1.csv\" % str(track)\n",
    "        ref1_fpath = os.path.join(mel1_refpath, ref1_fname)\n",
    "        ref1_t, ref1_f0 = mir_eval.io.load_time_series(ref1_fpath, delimiter=',')\n",
    "        \n",
    "        ref2_fname = \"%s_MELODY2.csv\" % str(track)\n",
    "        ref2_fpath = os.path.join(mel2_refpath, ref2_fname)\n",
    "        ref2_t, ref2_f0 = mir_eval.io.load_time_series(ref2_fpath, delimiter=',')\n",
    "        \n",
    "        mel1_results[track] = mir_eval.melody.evaluate(ref1_t, ref1_f0, est_t, est_f0)\n",
    "        mel2_results[track] = mir_eval.melody.evaluate(ref2_t, ref2_f0, est_t, est_f0)\n",
    "        \n",
    "        sys.stdout.write('.')\n",
    "    \n",
    "    with open(res_path_mel1, 'w') as fhandle:\n",
    "        json.dump(mel1_results, fhandle)\n",
    "        \n",
    "    with open(res_path_mel2, 'w') as fhandle:\n",
    "        json.dump(mel2_results, fhandle)\n",
    "            \n",
    "    print(\"\")"
   ]
  },
  {
   "cell_type": "code",
   "execution_count": null,
   "metadata": {
    "collapsed": false
   },
   "outputs": [],
   "source": []
  }
 ],
 "metadata": {
  "kernelspec": {
   "display_name": "Python 3",
   "language": "python",
   "name": "python3"
  },
  "language_info": {
   "codemirror_mode": {
    "name": "ipython",
    "version": 3
   },
   "file_extension": ".py",
   "mimetype": "text/x-python",
   "name": "python",
   "nbconvert_exporter": "python",
   "pygments_lexer": "ipython3",
   "version": "3.5.1"
  }
 },
 "nbformat": 4,
 "nbformat_minor": 0
}
