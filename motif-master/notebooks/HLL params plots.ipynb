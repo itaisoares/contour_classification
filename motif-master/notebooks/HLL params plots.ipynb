{
 "cells": [
  {
   "cell_type": "code",
   "execution_count": 61,
   "metadata": {
    "collapsed": false
   },
   "outputs": [],
   "source": [
    "import pandas as pd\n",
    "import numpy as np\n",
    "import matplotlib.pyplot as plt\n",
    "import seaborn as sns\n",
    "sns.set()\n",
    "sns.set_context('paper')\n",
    "%matplotlib inline"
   ]
  },
  {
   "cell_type": "code",
   "execution_count": 226,
   "metadata": {
    "collapsed": true
   },
   "outputs": [],
   "source": [
    "df = pd.read_csv('/Users/rabitt/Dropbox/MARL/repos/loopy/HLL_params_df.csv')"
   ]
  },
  {
   "cell_type": "code",
   "execution_count": 227,
   "metadata": {
    "collapsed": false
   },
   "outputs": [],
   "source": [
    "df.fillna(value=0, inplace=True)\n",
    "df['min_contour_len'] = (df['min_contour_len_samples']/44100).round(decimals=4)"
   ]
  },
  {
   "cell_type": "code",
   "execution_count": 228,
   "metadata": {
    "collapsed": false
   },
   "outputs": [
    {
     "data": {
      "text/html": [
       "<div>\n",
       "<table border=\"1\" class=\"dataframe\">\n",
       "  <thead>\n",
       "    <tr style=\"text-align: right;\">\n",
       "      <th></th>\n",
       "      <th>Unnamed: 0</th>\n",
       "      <th>accuracy-mean</th>\n",
       "      <th>accuracy-std</th>\n",
       "      <th>precision-mean</th>\n",
       "      <th>precision-std</th>\n",
       "      <th>recall-mean</th>\n",
       "      <th>recall-std</th>\n",
       "      <th>amplitude-threshold</th>\n",
       "      <th>f_cutoff</th>\n",
       "      <th>min_contour_len_samples</th>\n",
       "      <th>n_harmonics</th>\n",
       "      <th>tracking_gain</th>\n",
       "      <th>tracking_update_threhold</th>\n",
       "      <th>weighted-f3</th>\n",
       "      <th>weighted-f5</th>\n",
       "      <th>weighted-f10</th>\n",
       "      <th>min_contour_len</th>\n",
       "    </tr>\n",
       "  </thead>\n",
       "  <tbody>\n",
       "    <tr>\n",
       "      <th>count</th>\n",
       "      <td>381.000000</td>\n",
       "      <td>381.000000</td>\n",
       "      <td>381.000000</td>\n",
       "      <td>381.000000</td>\n",
       "      <td>381.000000</td>\n",
       "      <td>381.000000</td>\n",
       "      <td>381.000000</td>\n",
       "      <td>381.000000</td>\n",
       "      <td>381.0</td>\n",
       "      <td>381.000000</td>\n",
       "      <td>381.000000</td>\n",
       "      <td>381.000000</td>\n",
       "      <td>381.000000</td>\n",
       "      <td>381.000000</td>\n",
       "      <td>381.000000</td>\n",
       "      <td>381.000000</td>\n",
       "      <td>381.000000</td>\n",
       "    </tr>\n",
       "    <tr>\n",
       "      <th>mean</th>\n",
       "      <td>761.065617</td>\n",
       "      <td>0.192362</td>\n",
       "      <td>0.050822</td>\n",
       "      <td>0.377233</td>\n",
       "      <td>0.068996</td>\n",
       "      <td>0.385250</td>\n",
       "      <td>0.068601</td>\n",
       "      <td>0.043405</td>\n",
       "      <td>30.0</td>\n",
       "      <td>1064.748031</td>\n",
       "      <td>4.031496</td>\n",
       "      <td>0.001063</td>\n",
       "      <td>52.125984</td>\n",
       "      <td>0.354031</td>\n",
       "      <td>0.371600</td>\n",
       "      <td>0.381501</td>\n",
       "      <td>0.024141</td>\n",
       "    </tr>\n",
       "    <tr>\n",
       "      <th>std</th>\n",
       "      <td>448.332857</td>\n",
       "      <td>0.121555</td>\n",
       "      <td>0.031718</td>\n",
       "      <td>0.251546</td>\n",
       "      <td>0.042990</td>\n",
       "      <td>0.281694</td>\n",
       "      <td>0.041648</td>\n",
       "      <td>0.188457</td>\n",
       "      <td>0.0</td>\n",
       "      <td>943.145507</td>\n",
       "      <td>1.559033</td>\n",
       "      <td>0.001029</td>\n",
       "      <td>30.940433</td>\n",
       "      <td>0.240708</td>\n",
       "      <td>0.263326</td>\n",
       "      <td>0.276579</td>\n",
       "      <td>0.021390</td>\n",
       "    </tr>\n",
       "    <tr>\n",
       "      <th>min</th>\n",
       "      <td>9.000000</td>\n",
       "      <td>0.000000</td>\n",
       "      <td>0.000000</td>\n",
       "      <td>0.000000</td>\n",
       "      <td>0.000000</td>\n",
       "      <td>0.000000</td>\n",
       "      <td>0.000000</td>\n",
       "      <td>0.000001</td>\n",
       "      <td>30.0</td>\n",
       "      <td>0.000000</td>\n",
       "      <td>1.000000</td>\n",
       "      <td>0.000080</td>\n",
       "      <td>5.000000</td>\n",
       "      <td>0.000000</td>\n",
       "      <td>0.000000</td>\n",
       "      <td>0.000000</td>\n",
       "      <td>0.000000</td>\n",
       "    </tr>\n",
       "    <tr>\n",
       "      <th>25%</th>\n",
       "      <td>376.000000</td>\n",
       "      <td>0.087257</td>\n",
       "      <td>0.022961</td>\n",
       "      <td>0.207055</td>\n",
       "      <td>0.050283</td>\n",
       "      <td>0.093419</td>\n",
       "      <td>0.037018</td>\n",
       "      <td>0.000010</td>\n",
       "      <td>30.0</td>\n",
       "      <td>441.000000</td>\n",
       "      <td>3.000000</td>\n",
       "      <td>0.000500</td>\n",
       "      <td>20.000000</td>\n",
       "      <td>0.102372</td>\n",
       "      <td>0.096671</td>\n",
       "      <td>0.094235</td>\n",
       "      <td>0.010000</td>\n",
       "    </tr>\n",
       "    <tr>\n",
       "      <th>50%</th>\n",
       "      <td>741.000000</td>\n",
       "      <td>0.218131</td>\n",
       "      <td>0.059121</td>\n",
       "      <td>0.343845</td>\n",
       "      <td>0.073354</td>\n",
       "      <td>0.413538</td>\n",
       "      <td>0.081799</td>\n",
       "      <td>0.000100</td>\n",
       "      <td>30.0</td>\n",
       "      <td>441.000000</td>\n",
       "      <td>4.000000</td>\n",
       "      <td>0.001000</td>\n",
       "      <td>50.000000</td>\n",
       "      <td>0.425308</td>\n",
       "      <td>0.417987</td>\n",
       "      <td>0.414674</td>\n",
       "      <td>0.010000</td>\n",
       "    </tr>\n",
       "    <tr>\n",
       "      <th>75%</th>\n",
       "      <td>1158.000000</td>\n",
       "      <td>0.294101</td>\n",
       "      <td>0.070281</td>\n",
       "      <td>0.591349</td>\n",
       "      <td>0.094175</td>\n",
       "      <td>0.671038</td>\n",
       "      <td>0.094153</td>\n",
       "      <td>0.001000</td>\n",
       "      <td>30.0</td>\n",
       "      <td>2205.000000</td>\n",
       "      <td>5.000000</td>\n",
       "      <td>0.001000</td>\n",
       "      <td>80.000000</td>\n",
       "      <td>0.589147</td>\n",
       "      <td>0.641386</td>\n",
       "      <td>0.663597</td>\n",
       "      <td>0.050000</td>\n",
       "    </tr>\n",
       "    <tr>\n",
       "      <th>max</th>\n",
       "      <td>1489.000000</td>\n",
       "      <td>0.391061</td>\n",
       "      <td>0.132733</td>\n",
       "      <td>0.879874</td>\n",
       "      <td>0.368985</td>\n",
       "      <td>0.788827</td>\n",
       "      <td>0.159081</td>\n",
       "      <td>1.000000</td>\n",
       "      <td>30.0</td>\n",
       "      <td>2205.000000</td>\n",
       "      <td>6.000000</td>\n",
       "      <td>0.005000</td>\n",
       "      <td>100.000000</td>\n",
       "      <td>0.643794</td>\n",
       "      <td>0.703372</td>\n",
       "      <td>0.764370</td>\n",
       "      <td>0.050000</td>\n",
       "    </tr>\n",
       "  </tbody>\n",
       "</table>\n",
       "</div>"
      ],
      "text/plain": [
       "        Unnamed: 0  accuracy-mean  accuracy-std  precision-mean  \\\n",
       "count   381.000000     381.000000    381.000000      381.000000   \n",
       "mean    761.065617       0.192362      0.050822        0.377233   \n",
       "std     448.332857       0.121555      0.031718        0.251546   \n",
       "min       9.000000       0.000000      0.000000        0.000000   \n",
       "25%     376.000000       0.087257      0.022961        0.207055   \n",
       "50%     741.000000       0.218131      0.059121        0.343845   \n",
       "75%    1158.000000       0.294101      0.070281        0.591349   \n",
       "max    1489.000000       0.391061      0.132733        0.879874   \n",
       "\n",
       "       precision-std  recall-mean  recall-std  amplitude-threshold  f_cutoff  \\\n",
       "count     381.000000   381.000000  381.000000           381.000000     381.0   \n",
       "mean        0.068996     0.385250    0.068601             0.043405      30.0   \n",
       "std         0.042990     0.281694    0.041648             0.188457       0.0   \n",
       "min         0.000000     0.000000    0.000000             0.000001      30.0   \n",
       "25%         0.050283     0.093419    0.037018             0.000010      30.0   \n",
       "50%         0.073354     0.413538    0.081799             0.000100      30.0   \n",
       "75%         0.094175     0.671038    0.094153             0.001000      30.0   \n",
       "max         0.368985     0.788827    0.159081             1.000000      30.0   \n",
       "\n",
       "       min_contour_len_samples  n_harmonics  tracking_gain  \\\n",
       "count               381.000000   381.000000     381.000000   \n",
       "mean               1064.748031     4.031496       0.001063   \n",
       "std                 943.145507     1.559033       0.001029   \n",
       "min                   0.000000     1.000000       0.000080   \n",
       "25%                 441.000000     3.000000       0.000500   \n",
       "50%                 441.000000     4.000000       0.001000   \n",
       "75%                2205.000000     5.000000       0.001000   \n",
       "max                2205.000000     6.000000       0.005000   \n",
       "\n",
       "       tracking_update_threhold  weighted-f3  weighted-f5  weighted-f10  \\\n",
       "count                381.000000   381.000000   381.000000    381.000000   \n",
       "mean                  52.125984     0.354031     0.371600      0.381501   \n",
       "std                   30.940433     0.240708     0.263326      0.276579   \n",
       "min                    5.000000     0.000000     0.000000      0.000000   \n",
       "25%                   20.000000     0.102372     0.096671      0.094235   \n",
       "50%                   50.000000     0.425308     0.417987      0.414674   \n",
       "75%                   80.000000     0.589147     0.641386      0.663597   \n",
       "max                  100.000000     0.643794     0.703372      0.764370   \n",
       "\n",
       "       min_contour_len  \n",
       "count       381.000000  \n",
       "mean          0.024141  \n",
       "std           0.021390  \n",
       "min           0.000000  \n",
       "25%           0.010000  \n",
       "50%           0.010000  \n",
       "75%           0.050000  \n",
       "max           0.050000  "
      ]
     },
     "execution_count": 228,
     "metadata": {},
     "output_type": "execute_result"
    }
   ],
   "source": [
    "df = df[df['min_contour_len_samples'] <= 2205]\n",
    "df = df[df['amplitude-threshold'] > 0]\n",
    "df = df[df['tracking_update_threhold'] < 500]\n",
    "df.describe()"
   ]
  },
  {
   "cell_type": "code",
   "execution_count": 169,
   "metadata": {
    "collapsed": true
   },
   "outputs": [],
   "source": [
    "def get_param_results(joined_frames, param, metric):\n",
    "    param_vals = list(set(joined_frames[param]))\n",
    "    data = []\n",
    "    for param_val in param_vals:\n",
    "        val_data = joined_frames[joined_frames[param] == param_val][metric].values\n",
    "        data.append(val_data)\n",
    "    dat_means = np.array([np.mean(m) for m in data])\n",
    "    dat_stds = np.array([np.std(m) for m in data])\n",
    "    dat_max = np.array([np.max(m) for m in data])\n",
    "    dat_idx = np.argsort(param_vals)\n",
    "    return (\n",
    "        np.array(param_vals)[dat_idx], dat_means[dat_idx],\n",
    "        dat_stds[dat_idx], dat_max[dat_idx], [data[i] for i in dat_idx]\n",
    "    )"
   ]
  },
  {
   "cell_type": "code",
   "execution_count": 232,
   "metadata": {
    "collapsed": true
   },
   "outputs": [],
   "source": [
    "x_dict = {\n",
    "    'n_harmonics': '$H$',\n",
    "    'amplitude-threshold': '$a_{min}$',\n",
    "    'tracking_update_threhold': '$\\epsilon_{max}$',\n",
    "    'min_contour_len': '$n_{min}$ (seconds)',\n",
    "    'tracking_gain': '$g$'\n",
    "}\n",
    "\n",
    "y_dict = {\n",
    "    'weighted-f3': r'$F-3$',\n",
    "    'weighted-f5': r'$F-5$',\n",
    "    'weighted-f10': r'$F-10$',\n",
    "    'recall-mean': 'recall'\n",
    "}\n",
    "\n",
    "def errbar_plot(param, metric, color='b', ylab=True):\n",
    "    p, mu, sigma, dmax, dat = get_param_results(df, param, metric)\n",
    "    xvals = range(len(p))\n",
    "    plt.plot(xvals, dmax, 'o-', color=color)\n",
    "    argmax_dmax = np.argmax(dmax)\n",
    "    plt.plot(xvals[argmax_dmax], dmax[argmax_dmax], '*', color=color, markersize=15)\n",
    "    plt.xticks(xvals, p)\n",
    "    plt.xlim([-0.5, len(p) - 0.5])\n",
    "\n",
    "    plt.xlabel(x_dict[param])\n",
    "    if ylab:\n",
    "        plt.ylabel(y_dict[metric])"
   ]
  },
  {
   "cell_type": "code",
   "execution_count": 233,
   "metadata": {
    "collapsed": false
   },
   "outputs": [
    {
     "data": {
      "image/png": "[encoded data removed]",
      "text/plain": [
       "<matplotlib.figure.Figure at 0x118dd1210>"
      ]
     },
     "metadata": {},
     "output_type": "display_data"
    }
   ],
   "source": [
    "from matplotlib import figure\n",
    "c1, c2, c3, c4, c5 = sns.color_palette('deep', 5)\n",
    "col = 'weighted-f5' # 'recall-mean'#\n",
    "spp = figure.SubplotParams(\n",
    "    left=None, bottom=None, right=None, top=None, wspace=0.15, hspace=None\n",
    ")\n",
    "plt.figure(figsize=(12, 6), subplotpars=spp)\n",
    "\n",
    "plt.subplot(2, 3, 1)\n",
    "errbar_plot('n_harmonics', col, color=c1)\n",
    "\n",
    "plt.subplot(2, 3, 2)\n",
    "errbar_plot('amplitude-threshold', col, color=c2, ylab=False)\n",
    "# plt.ylim([0.75, 0.85])\n",
    "\n",
    "plt.subplot(2, 3, 3)\n",
    "errbar_plot('tracking_update_threhold', col, color=c3, ylab=False)\n",
    "# plt.ylim([0.75, 0.85])\n",
    "\n",
    "plt.subplot(2, 2, 3)\n",
    "errbar_plot('min_contour_len', col, color=c5)\n",
    "\n",
    "plt.subplot(2, 2, 4)\n",
    "errbar_plot('tracking_gain', col, color=c4, ylab=False)\n",
    "\n",
    "plt.savefig('hll_tracking_params.pdf', format='pdf', bbox_inches='tight')"
   ]
  },
  {
   "cell_type": "code",
   "execution_count": 222,
   "metadata": {
    "collapsed": false
   },
   "outputs": [
    {
     "name": "stdout",
     "output_type": "stream",
     "text": [
      "Unnamed: 0                   173.000000\n",
      "accuracy-mean                  0.259639\n",
      "accuracy-std                   0.043028\n",
      "precision-mean                 0.287563\n",
      "precision-std                  0.054787\n",
      "recall-mean                    0.746552\n",
      "recall-std                     0.051566\n",
      "amplitude-threshold            0.001000\n",
      "f_cutoff                      30.000000\n",
      "min_contour_len_samples     2205.000000\n",
      "n_harmonics                    5.000000\n",
      "tracking_gain                  0.001000\n",
      "tracking_update_threhold      80.000000\n",
      "weighted-f3                    0.643794\n",
      "weighted-f5                    0.703372\n",
      "weighted-f10                   0.734938\n",
      "min_contour_len                0.050000\n",
      "Name: 173, dtype: float64\n"
     ]
    }
   ],
   "source": [
    "print df.ix[df['weighted-f5'].argmax()]"
   ]
  },
  {
   "cell_type": "code",
   "execution_count": 230,
   "metadata": {
    "collapsed": false,
    "scrolled": true
   },
   "outputs": [
    {
     "name": "stdout",
     "output_type": "stream",
     "text": [
      "Unnamed: 0                   677.000000\n",
      "accuracy-mean                  0.177229\n",
      "accuracy-std                   0.063858\n",
      "precision-mean                 0.186411\n",
      "precision-std                  0.068735\n",
      "recall-mean                    0.788827\n",
      "recall-std                     0.078675\n",
      "amplitude-threshold            0.001000\n",
      "f_cutoff                      30.000000\n",
      "min_contour_len_samples     2205.000000\n",
      "n_harmonics                    5.000000\n",
      "tracking_gain                  0.000800\n",
      "tracking_update_threhold     100.000000\n",
      "weighted-f3                    0.596167\n",
      "weighted-f5                    0.701620\n",
      "weighted-f10                   0.764370\n",
      "min_contour_len                0.050000\n",
      "Name: 677, dtype: float64\n"
     ]
    }
   ],
   "source": [
    "print df.ix[df['recall-mean'].argmax()]"
   ]
  },
  {
   "cell_type": "code",
   "execution_count": 174,
   "metadata": {
    "collapsed": false
   },
   "outputs": [
    {
     "data": {
      "image/png": "[encoded data removed]",
      "text/plain": [
       "<matplotlib.figure.Figure at 0x118a2f850>"
      ]
     },
     "metadata": {},
     "output_type": "display_data"
    }
   ],
   "source": [
    "c1, c2, c3, c4, c5 = sns.color_palette('deep', 5)\n",
    "col = 'weighted-f'\n",
    "spp = figure.SubplotParams(\n",
    "    left=None, bottom=None, right=None, top=None, wspace=None, hspace=None\n",
    ")\n",
    "plt.figure(figsize=(10, 6), subplotpars=spp)\n",
    "\n",
    "plt.subplot(2, 3, 1)\n",
    "sns.boxplot(x='n_harmonics', y=col, data=df)\n",
    "\n",
    "plt.subplot(2, 3, 2)\n",
    "sns.boxplot(x='amplitude-threshold', y=col, data=df)\n",
    "\n",
    "plt.subplot(2, 3, 3)\n",
    "sns.boxplot(x='tracking_update_threhold', y=col, data=df)\n",
    "\n",
    "plt.subplot(2, 2, 3)\n",
    "sns.boxplot(x='min_contour_len', y=col, data=df)\n",
    "\n",
    "plt.subplot(2, 2, 4)\n",
    "sns.boxplot(x='tracking_gain', y=col, data=df)\n",
    "\n",
    "plt.savefig('hll_tracking_params_boxplots.pdf', format='pdf', bbox_inches='tight')"
   ]
  },
  {
   "cell_type": "code",
   "execution_count": null,
   "metadata": {
    "collapsed": true
   },
   "outputs": [],
   "source": []
  }
 ],
 "metadata": {
  "kernelspec": {
   "display_name": "Python 2",
   "language": "python",
   "name": "python2"
  },
  "language_info": {
   "codemirror_mode": {
    "name": "ipython",
    "version": 2
   },
   "file_extension": ".py",
   "mimetype": "text/x-python",
   "name": "python",
   "nbconvert_exporter": "python",
   "pygments_lexer": "ipython2",
   "version": "2.7.9"
  }
 },
 "nbformat": 4,
 "nbformat_minor": 0
}
