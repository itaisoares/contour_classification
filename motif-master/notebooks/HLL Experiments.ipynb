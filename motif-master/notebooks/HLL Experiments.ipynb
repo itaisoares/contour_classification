{
 "cells": [
  {
   "cell_type": "code",
   "execution_count": 1,
   "metadata": {
    "collapsed": false
   },
   "outputs": [
    {
     "name": "stdout",
     "output_type": "stream",
     "text": [
      "/Users/rachelbittner/Dropbox/MARL/repos/motif\n"
     ]
    }
   ],
   "source": [
    "cd ../"
   ]
  },
  {
   "cell_type": "code",
   "execution_count": 2,
   "metadata": {
    "collapsed": true
   },
   "outputs": [],
   "source": [
    "import motif\n",
    "import os\n",
    "import tempfile as tmp\n",
    "import matplotlib.pyplot as plt\n",
    "%matplotlib inline\n",
    "import seaborn as sns\n",
    "sns.set()"
   ]
  },
  {
   "cell_type": "markdown",
   "metadata": {},
   "source": [
    "# Make Ground Truth Seeds"
   ]
  },
  {
   "cell_type": "code",
   "execution_count": 3,
   "metadata": {
    "collapsed": true
   },
   "outputs": [],
   "source": [
    "import medleydb as mdb\n",
    "import numpy as np\n",
    "import mir_eval\n",
    "import csv"
   ]
  },
  {
   "cell_type": "code",
   "execution_count": 4,
   "metadata": {
    "collapsed": true
   },
   "outputs": [],
   "source": [
    "mtracks = mdb.load_melody_multitracks()"
   ]
  },
  {
   "cell_type": "code",
   "execution_count": 5,
   "metadata": {
    "collapsed": false
   },
   "outputs": [],
   "source": [
    "def get_ground_truth_seeds(mtrack):\n",
    "    sns.set_style(\"dark\")\n",
    "    print mtrack.track_id\n",
    "    mtrack.load_melody_annotations()\n",
    "    data = np.array(mtrack.melody3_annotation)\n",
    "    mel3 = data[:, 1:]\n",
    "    times = data[:, 0]\n",
    "    n_times, n_mels = mel3.shape\n",
    "\n",
    "    c_index = []\n",
    "    c_times = []\n",
    "    c_freqs = []\n",
    "\n",
    "    seeds = []\n",
    "    idx = 0\n",
    "    plt.figure()\n",
    "    for mel_num in range(n_mels):\n",
    "        nonzero = mel3[:, mel_num] > 0\n",
    "        nonzero_diff = np.diff(nonzero.astype(int))\n",
    "\n",
    "        contour_starts = list(np.where(nonzero_diff == 1)[0] + 1)\n",
    "        contour_ends = list(np.where(nonzero_diff == -1)[0] + 1)\n",
    "\n",
    "        if contour_ends[0] < contour_starts[0]:\n",
    "            contour_starts.insert(0, 0)\n",
    "\n",
    "        if len(contour_ends) < len(contour_starts):\n",
    "            contour_ends.append(len(nonzero_diff))\n",
    "\n",
    "        for s, e in zip(contour_starts, contour_ends):\n",
    "\n",
    "            t = times[s:e]\n",
    "            f = mel3[s:e, mel_num]\n",
    "\n",
    "            contour_diff = np.abs(np.diff(mir_eval.melody.hz2cents(f)))\n",
    "\n",
    "            splits = list(np.where(contour_diff > 50)[0] + 1)\n",
    "\n",
    "            if len(splits) > 0:\n",
    "                if splits[-1] == len(contour_diff):\n",
    "                    splits = splits[:-1]\n",
    "                split_starts = [0] + splits\n",
    "                split_ends = splits + [len(t) - 1]\n",
    "\n",
    "                for ss, se in zip(split_starts, split_ends):\n",
    "\n",
    "                    tt = t[ss:se]\n",
    "                    ii = idx * np.ones(tt.shape)\n",
    "                    idx += 1\n",
    "                    ff = f[ss:se]\n",
    "                    c_index.append(ii)\n",
    "                    c_times.append(tt)\n",
    "                    c_freqs.append(ff)\n",
    "                    seed_idx = int(round(len(tt)/2))\n",
    "                    seeds.append([int(round(44100*tt[seed_idx])), ff[seed_idx]])\n",
    "                    plt.plot(tt, ff)\n",
    "            else:\n",
    "                i = idx * np.ones(t.shape)\n",
    "                idx += 1\n",
    "                c_index.append(i)\n",
    "                c_times.append(t)\n",
    "                c_freqs.append(f)\n",
    "                seed_idx = int(round(len(t)/2))\n",
    "                seeds.append([int(round(44100*t[seed_idx])), f[seed_idx]])\n",
    "                plt.plot(t, f)\n",
    "\n",
    "    plt.tick_params(axis='x', which='both', bottom='off', top='off', labelbottom='off')\n",
    "    plt.tick_params(axis='y', which='both', bottom='off', top='off', labelleft='off' )\n",
    "#     plt.show()\n",
    "    return seeds, c_index, c_times, c_freqs"
   ]
  },
  {
   "cell_type": "code",
   "execution_count": 6,
   "metadata": {
    "collapsed": false
   },
   "outputs": [],
   "source": [
    "track_ids = []\n",
    "for mtrack in mtracks:\n",
    "\n",
    "#     output_path = '/Users/rachelbittner/Documents/HLL_Data/mdb_seeds_mel3/{}_gt_seeds.csv'.format(mtrack.track_id)\n",
    "#     if os.path.exists(output_path):\n",
    "#         continue\n",
    "\n",
    "    track_ids.append(mtrack.track_id)\n",
    "#     seeds, _, _, _ = get_ground_truth_seeds(mtrack)\n",
    "#     plt.savefig('/Users/rachelbittner/Desktop/contour_art/{}.pdf'.format(mtrack.track_id))\n",
    "#     with open(output_path, 'w') as fhandle:\n",
    "#         writer = csv.writer(fhandle, delimiter=',')\n",
    "#         writer.writerows(seeds)\n"
   ]
  },
  {
   "cell_type": "code",
   "execution_count": 7,
   "metadata": {
    "collapsed": false
   },
   "outputs": [
    {
     "data": {
      "text/plain": [
       "['AClassicEducation_NightOwl',\n",
       " 'AimeeNorwich_Child',\n",
       " 'AimeeNorwich_Flying',\n",
       " 'AlexanderRoss_GoodbyeBolero',\n",
       " 'AlexanderRoss_VelvetCurtain',\n",
       " 'AmarLal_Rest',\n",
       " 'AmarLal_SpringDay1',\n",
       " 'Auctioneer_OurFutureFaces',\n",
       " 'AvaLuna_Waterduct',\n",
       " 'BigTroubles_Phantom',\n",
       " 'BrandonWebster_DontHearAThing',\n",
       " 'BrandonWebster_YesSirICanFly',\n",
       " 'CelestialShore_DieForUs',\n",
       " 'ChrisJacoby_BoothShotLincoln',\n",
       " 'ChrisJacoby_PigsFoot',\n",
       " 'ClaraBerryAndWooldog_AirTraffic',\n",
       " 'ClaraBerryAndWooldog_Boys',\n",
       " 'ClaraBerryAndWooldog_Stella',\n",
       " 'ClaraBerryAndWooldog_TheBadGuys',\n",
       " 'ClaraBerryAndWooldog_WaltzForMyVictims',\n",
       " 'Creepoid_OldTree',\n",
       " 'CroqueMadame_Oil',\n",
       " 'CroqueMadame_Pilot',\n",
       " 'Debussy_LenfantProdigue',\n",
       " 'DreamersOfTheGhetto_HeavyLove',\n",
       " 'EthanHein_1930sSynthAndUprightBass',\n",
       " 'EthanHein_GirlOnABridge',\n",
       " 'FacesOnFilm_WaitingForGa',\n",
       " 'FamilyBand_Again',\n",
       " 'Handel_TornamiAVagheggiar',\n",
       " 'HeladoNegro_MitadDelMundo',\n",
       " 'HezekiahJones_BorrowedHeart',\n",
       " 'HopAlong_SisterCities',\n",
       " 'InvisibleFamiliars_DisturbingWildlife',\n",
       " 'JoelHelander_Definition',\n",
       " 'JoelHelander_ExcessiveResistancetoChange',\n",
       " 'JoelHelander_IntheAtticBedroom',\n",
       " 'KarimDouaidy_Hopscotch',\n",
       " 'KarimDouaidy_Yatora',\n",
       " 'LizNelson_Coldwar',\n",
       " 'LizNelson_ImComingHome',\n",
       " 'LizNelson_Rainfall',\n",
       " 'MatthewEntwistle_DontYouEver',\n",
       " 'MatthewEntwistle_FairerHopes',\n",
       " 'MatthewEntwistle_ImpressionsOfSaturn',\n",
       " 'MatthewEntwistle_Lontano',\n",
       " 'MatthewEntwistle_TheArch',\n",
       " 'MatthewEntwistle_TheFlaxenField',\n",
       " 'Meaxic_TakeAStep',\n",
       " 'Meaxic_YouListen',\n",
       " 'MichaelKropf_AllGoodThings',\n",
       " 'Mozart_BesterJungling',\n",
       " 'Mozart_DiesBildnis',\n",
       " 'MusicDelta_80sRock',\n",
       " 'MusicDelta_Beatles',\n",
       " 'MusicDelta_BebopJazz',\n",
       " 'MusicDelta_Beethoven',\n",
       " 'MusicDelta_Britpop',\n",
       " 'MusicDelta_ChineseChaoZhou',\n",
       " 'MusicDelta_ChineseDrama',\n",
       " 'MusicDelta_ChineseHenan',\n",
       " 'MusicDelta_ChineseJiangNan',\n",
       " 'MusicDelta_ChineseXinJing',\n",
       " 'MusicDelta_ChineseYaoZu',\n",
       " 'MusicDelta_CoolJazz',\n",
       " 'MusicDelta_Country1',\n",
       " 'MusicDelta_Country2',\n",
       " 'MusicDelta_Disco',\n",
       " 'MusicDelta_FreeJazz',\n",
       " 'MusicDelta_FunkJazz',\n",
       " 'MusicDelta_FusionJazz',\n",
       " 'MusicDelta_Gospel',\n",
       " 'MusicDelta_GriegTrolltog',\n",
       " 'MusicDelta_Grunge',\n",
       " 'MusicDelta_Hendrix',\n",
       " 'MusicDelta_InTheHalloftheMountainKing',\n",
       " 'MusicDelta_LatinJazz',\n",
       " 'MusicDelta_ModalJazz',\n",
       " 'MusicDelta_Pachelbel',\n",
       " 'MusicDelta_Punk',\n",
       " 'MusicDelta_Reggae',\n",
       " 'MusicDelta_Rock',\n",
       " 'MusicDelta_Rockabilly',\n",
       " 'MusicDelta_Shadows',\n",
       " 'MusicDelta_SpeedMetal',\n",
       " 'MusicDelta_SwingJazz',\n",
       " 'MusicDelta_Vivaldi',\n",
       " 'MusicDelta_Zeppelin',\n",
       " 'NightPanther_Fire',\n",
       " 'Phoenix_BrokenPledgeChicagoReel',\n",
       " 'Phoenix_ColliersDaughter',\n",
       " 'Phoenix_ElzicsFarewell',\n",
       " 'Phoenix_LarkOnTheStrandDrummondCastle',\n",
       " 'Phoenix_ScotchMorris',\n",
       " 'Phoenix_SeanCaughlinsTheScartaglen',\n",
       " 'PortStWillow_StayEven',\n",
       " 'PurlingHiss_Lolita',\n",
       " 'Schubert_Erstarrung',\n",
       " 'Schumann_Mignon',\n",
       " 'SecretMountains_HighHorse',\n",
       " 'Snowmine_Curfews',\n",
       " 'StevenClark_Bounty',\n",
       " 'StrandOfOaks_Spacestation',\n",
       " 'SweetLights_YouLetMeDown',\n",
       " 'TheDistricts_Vermont',\n",
       " 'TheScarletBrand_LesFleursDuMal',\n",
       " 'TheSoSoGlos_Emergency',\n",
       " 'Wolf_DieBekherte']"
      ]
     },
     "execution_count": 7,
     "metadata": {},
     "output_type": "execute_result"
    }
   ],
   "source": [
    "track_ids"
   ]
  },
  {
   "cell_type": "markdown",
   "metadata": {},
   "source": [
    "# HLL Parameter Search"
   ]
  },
  {
   "cell_type": "code",
   "execution_count": 8,
   "metadata": {
    "collapsed": true
   },
   "outputs": [],
   "source": [
    "import random\n",
    "import glob\n",
    "import pandas as pd"
   ]
  },
  {
   "cell_type": "code",
   "execution_count": 90,
   "metadata": {
    "collapsed": false
   },
   "outputs": [],
   "source": [
    "n_harmonics_grid = [1, 2, 3, 4, 5, 6]\n",
    "tracking_gain_grid = [8e-5, 1e-4, 3e-4, 5e-4, 8e-4, 1e-3, 2e-3, 3e-3, 5e-3]\n",
    "min_contour_len_grid = [0, 10, 441, 2205, 4410, 11025, 22050, 44100, 88200, 132300, 176400, 220500, 441000]\n",
    "amplitude_threshold_grid = [0, 1e-6, 1e-5, 1e-4, 1e-3, 1e-2, 1e-1, 1]\n",
    "tracking_update_grid = [5, 10, 20, 30, 40, 50, 60, 70, 80, 90, 100, 500]\n",
    "\n",
    "# reduced grids...\n",
    "# n_harmonics_grid = [3, 4, 5, 6]\n",
    "# tracking_gain_grid = [1e-3]\n",
    "# min_contour_len_grid = [441, 2205, 4410, 11025, 22050]\n",
    "# amplitude_threshold_grid = [1e-6, 1e-5]\n",
    "# tracking_update_grid = [10, 20, 30, 40, 50, 60, 70, 80, 90, 100]\n",
    "\n",
    "def parametrize_hll():\n",
    "    etr = motif.contour_extractors.hll.HLL()\n",
    "    etr.n_harmonics = random.choice(n_harmonics_grid)\n",
    "    etr.f_cutoff = 30\n",
    "    etr.tracking_gain = random.choice(tracking_gain_grid)\n",
    "    etr.min_contour_len_samples = random.choice(min_contour_len_grid)\n",
    "    etr.amplitude_threshold = np.random.choice(amplitude_threshold_grid)\n",
    "    etr.tracking_update_threshold = np.random.choice(tracking_update_grid)\n",
    "\n",
    "    return etr"
   ]
  },
  {
   "cell_type": "code",
   "execution_count": 10,
   "metadata": {
    "collapsed": true
   },
   "outputs": [],
   "source": [
    "def load_melody3_multif0(fpath):\n",
    "    times = []\n",
    "    freqs = []\n",
    "    with open(fpath, 'r') as fhandle:\n",
    "        reader = csv.reader(fhandle, delimiter=',')\n",
    "        for line in reader:\n",
    "            times.append(float(line[0]))\n",
    "            f = np.array(line[1:], dtype=float)\n",
    "            f = f[f > 0]\n",
    "            freqs.append(f)\n",
    "    return np.array(times), freqs"
   ]
  },
  {
   "cell_type": "code",
   "execution_count": 11,
   "metadata": {
    "collapsed": false
   },
   "outputs": [],
   "source": [
    "def run_hll(etr, audio_filepath, seed_fpath):\n",
    "    tmp_audio = etr._preprocess_audio(\n",
    "        audio_filepath, normalize_format=True, normalize_volume=True\n",
    "    )\n",
    "\n",
    "    contours_fpath = tmp.mktemp('.csv')\n",
    "\n",
    "    args = [\n",
    "        \"hll\",\n",
    "        \"{}\".format(tmp_audio),\n",
    "        \"{}\".format(seed_fpath),\n",
    "        \"{}\".format(contours_fpath),\n",
    "        \"{}\".format(etr.n_harmonics),\n",
    "        \"{}\".format(etr.f_cutoff),\n",
    "        \"{}\".format(etr.tracking_gain),\n",
    "        \"{}\".format(etr.min_contour_len_samples),\n",
    "        \"{}\".format(etr.amplitude_threshold),\n",
    "        \"{}\".format(etr.tracking_update_threshold)\n",
    "    ]\n",
    "\n",
    "    os.system(' '.join(args))\n",
    "\n",
    "    if not os.path.exists(contours_fpath):\n",
    "        raise IOError(\n",
    "            \"Unable to find HLL output file {}\".format(contours_fpath)\n",
    "        )\n",
    "\n",
    "    c_numbers, c_times, c_freqs, c_sal = etr._load_contours(contours_fpath)\n",
    "\n",
    "    os.remove(contours_fpath)\n",
    "    os.remove(tmp_audio)\n",
    "\n",
    "    return motif.core.Contours(\n",
    "        c_numbers, c_times, c_freqs, c_sal, etr.sample_rate, audio_filepath\n",
    "    )"
   ]
  },
  {
   "cell_type": "code",
   "execution_count": 27,
   "metadata": {
    "collapsed": false
   },
   "outputs": [
    {
     "name": "stdout",
     "output_type": "stream",
     "text": [
      "['MusicDelta_Country1', 'MusicDelta_Beatles', 'ClaraBerryAndWooldog_Boys', 'MusicDelta_Rockabilly', 'Schubert_Erstarrung', 'AmarLal_SpringDay1']\n"
     ]
    }
   ],
   "source": [
    "SEED_PATH = '/Users/rachelbittner/Documents/HLL_Data/mdb_seeds_mel3/'\n",
    "AUDIO_PATH = '/Datasets/MedleyDB_Mixes/'\n",
    "ANNOT_PATH = '/Users/rachelbittner/Dropbox/MARL/repos/medleydb/Annotations/'\n",
    "\n",
    "grid_search_trackids = [\n",
    "    'MusicDelta_Country1', 'MusicDelta_Beatles', 'ClaraBerryAndWooldog_Boys',\n",
    "    'MusicDelta_Rockabilly', 'Schubert_Erstarrung', 'AmarLal_SpringDay1'\n",
    "]\n",
    "file_triples = []\n",
    "for tid in grid_search_trackids:\n",
    "    audio_file = os.path.join(AUDIO_PATH, '{}_MIX.wav'.format(tid))\n",
    "    seed_file = os.path.join(SEED_PATH, '{}_gt_seeds.csv'.format(tid))\n",
    "    annot_file = os.path.join(ANNOT_PATH, '{}_ANNOTATIONS'.format(tid), '{}_MELODY3.csv'.format(tid))\n",
    "    file_triples.append((audio_file, seed_file, annot_file))\n",
    "print grid_search_trackids"
   ]
  },
  {
   "cell_type": "code",
   "execution_count": 15,
   "metadata": {
    "collapsed": true
   },
   "outputs": [],
   "source": [
    "row_data = []\n",
    "n_iter = 1000"
   ]
  },
  {
   "cell_type": "code",
   "execution_count": null,
   "metadata": {
    "collapsed": false
   },
   "outputs": [
    {
     "name": "stdout",
     "output_type": "stream",
     "text": [
      "running iteration 1497\n",
      "    MusicDelta_Country1_MIX.wav\n",
      "    MusicDelta_Beatles_MIX.wav\n",
      "    ClaraBerryAndWooldog_Boys_MIX.wav"
     ]
    }
   ],
   "source": [
    "for i in range(1497, 2000):\n",
    "    print(\"running iteration {}\".format(i))\n",
    "\n",
    "    etr = parametrize_hll()\n",
    "\n",
    "    recall = []\n",
    "    precision = []\n",
    "    accuracy = []\n",
    "    for audio_file, seed_file, annot_file in file_triples:\n",
    "        print(\"    {}\".format(os.path.basename(audio_file)))\n",
    "\n",
    "        ctr = run_hll(etr, audio_file, seed_file)\n",
    "        est_time, est_freqs = ctr.to_multif0_format()\n",
    "        ref_time, ref_freqs = load_melody3_multif0(annot_file)\n",
    "        try:\n",
    "            scores = mir_eval.multipitch.evaluate(np.array(ref_time), ref_freqs, np.array(est_time), est_freqs)\n",
    "            recall.append(scores['Recall'])\n",
    "            precision.append(scores['Precision'])\n",
    "            accuracy.append(scores['Accuracy'])\n",
    "        except ValueError:\n",
    "            continue\n",
    "\n",
    "    row = [\n",
    "        np.mean(accuracy), np.std(accuracy), np.mean(precision), np.std(precision), np.mean(recall), np.std(recall),\n",
    "        etr.amplitude_threshold, etr.f_cutoff, etr.min_contour_len_samples, etr.n_harmonics,\n",
    "        etr.tracking_gain, etr.tracking_update_threshold\n",
    "    ]\n",
    "    row_data.append(row)\n"
   ]
  },
  {
   "cell_type": "code",
   "execution_count": 82,
   "metadata": {
    "collapsed": false
   },
   "outputs": [
    {
     "data": {
      "text/html": [
       "<div>\n",
       "<table border=\"1\" class=\"dataframe\">\n",
       "  <thead>\n",
       "    <tr style=\"text-align: right;\">\n",
       "      <th></th>\n",
       "      <th>accuracy-mean</th>\n",
       "      <th>accuracy-std</th>\n",
       "      <th>precision-mean</th>\n",
       "      <th>precision-std</th>\n",
       "      <th>recall-mean</th>\n",
       "      <th>recall-std</th>\n",
       "      <th>amplitude-threshold</th>\n",
       "      <th>f_cutoff</th>\n",
       "      <th>min_contour_len_samples</th>\n",
       "      <th>n_harmonics</th>\n",
       "      <th>tracking_gain</th>\n",
       "      <th>tracking_update_threhold</th>\n",
       "    </tr>\n",
       "  </thead>\n",
       "  <tbody>\n",
       "    <tr>\n",
       "      <th>count</th>\n",
       "      <td>1497.000000</td>\n",
       "      <td>1497.000000</td>\n",
       "      <td>1497.000000</td>\n",
       "      <td>1497.000000</td>\n",
       "      <td>1497.000000</td>\n",
       "      <td>1497.000000</td>\n",
       "      <td>1497.000000</td>\n",
       "      <td>1497.0</td>\n",
       "      <td>1497.000000</td>\n",
       "      <td>1497.000000</td>\n",
       "      <td>1497.000000</td>\n",
       "      <td>1497.000000</td>\n",
       "    </tr>\n",
       "    <tr>\n",
       "      <th>mean</th>\n",
       "      <td>0.159217</td>\n",
       "      <td>0.041700</td>\n",
       "      <td>0.232839</td>\n",
       "      <td>0.051287</td>\n",
       "      <td>0.639933</td>\n",
       "      <td>0.072991</td>\n",
       "      <td>0.046177</td>\n",
       "      <td>30.0</td>\n",
       "      <td>45790.057448</td>\n",
       "      <td>4.104876</td>\n",
       "      <td>0.001072</td>\n",
       "      <td>64.148297</td>\n",
       "    </tr>\n",
       "    <tr>\n",
       "      <th>std</th>\n",
       "      <td>0.106580</td>\n",
       "      <td>0.025946</td>\n",
       "      <td>0.200528</td>\n",
       "      <td>0.034420</td>\n",
       "      <td>0.257150</td>\n",
       "      <td>0.031710</td>\n",
       "      <td>0.197717</td>\n",
       "      <td>0.0</td>\n",
       "      <td>90332.648090</td>\n",
       "      <td>1.466318</td>\n",
       "      <td>0.001053</td>\n",
       "      <td>80.117473</td>\n",
       "    </tr>\n",
       "    <tr>\n",
       "      <th>min</th>\n",
       "      <td>0.000000</td>\n",
       "      <td>0.000000</td>\n",
       "      <td>0.000000</td>\n",
       "      <td>0.000000</td>\n",
       "      <td>0.000000</td>\n",
       "      <td>0.000000</td>\n",
       "      <td>0.000000</td>\n",
       "      <td>30.0</td>\n",
       "      <td>0.000000</td>\n",
       "      <td>1.000000</td>\n",
       "      <td>0.000080</td>\n",
       "      <td>5.000000</td>\n",
       "    </tr>\n",
       "    <tr>\n",
       "      <th>25%</th>\n",
       "      <td>0.055268</td>\n",
       "      <td>0.018346</td>\n",
       "      <td>0.069117</td>\n",
       "      <td>0.020345</td>\n",
       "      <td>0.537035</td>\n",
       "      <td>0.056534</td>\n",
       "      <td>0.000001</td>\n",
       "      <td>30.0</td>\n",
       "      <td>2205.000000</td>\n",
       "      <td>3.000000</td>\n",
       "      <td>0.000500</td>\n",
       "      <td>20.000000</td>\n",
       "    </tr>\n",
       "    <tr>\n",
       "      <th>50%</th>\n",
       "      <td>0.158711</td>\n",
       "      <td>0.044263</td>\n",
       "      <td>0.187177</td>\n",
       "      <td>0.050916</td>\n",
       "      <td>0.736141</td>\n",
       "      <td>0.072371</td>\n",
       "      <td>0.000010</td>\n",
       "      <td>30.0</td>\n",
       "      <td>11025.000000</td>\n",
       "      <td>4.000000</td>\n",
       "      <td>0.001000</td>\n",
       "      <td>50.000000</td>\n",
       "    </tr>\n",
       "    <tr>\n",
       "      <th>75%</th>\n",
       "      <td>0.250341</td>\n",
       "      <td>0.059637</td>\n",
       "      <td>0.325391</td>\n",
       "      <td>0.074644</td>\n",
       "      <td>0.832013</td>\n",
       "      <td>0.090121</td>\n",
       "      <td>0.001000</td>\n",
       "      <td>30.0</td>\n",
       "      <td>44100.000000</td>\n",
       "      <td>5.000000</td>\n",
       "      <td>0.001000</td>\n",
       "      <td>80.000000</td>\n",
       "    </tr>\n",
       "    <tr>\n",
       "      <th>max</th>\n",
       "      <td>0.391061</td>\n",
       "      <td>0.133173</td>\n",
       "      <td>0.879874</td>\n",
       "      <td>0.368985</td>\n",
       "      <td>0.941972</td>\n",
       "      <td>0.199055</td>\n",
       "      <td>1.000000</td>\n",
       "      <td>30.0</td>\n",
       "      <td>441000.000000</td>\n",
       "      <td>6.000000</td>\n",
       "      <td>0.005000</td>\n",
       "      <td>500.000000</td>\n",
       "    </tr>\n",
       "  </tbody>\n",
       "</table>\n",
       "</div>"
      ],
      "text/plain": [
       "       accuracy-mean  accuracy-std  precision-mean  precision-std  \\\n",
       "count    1497.000000   1497.000000     1497.000000    1497.000000   \n",
       "mean        0.159217      0.041700        0.232839       0.051287   \n",
       "std         0.106580      0.025946        0.200528       0.034420   \n",
       "min         0.000000      0.000000        0.000000       0.000000   \n",
       "25%         0.055268      0.018346        0.069117       0.020345   \n",
       "50%         0.158711      0.044263        0.187177       0.050916   \n",
       "75%         0.250341      0.059637        0.325391       0.074644   \n",
       "max         0.391061      0.133173        0.879874       0.368985   \n",
       "\n",
       "       recall-mean   recall-std  amplitude-threshold  f_cutoff  \\\n",
       "count  1497.000000  1497.000000          1497.000000    1497.0   \n",
       "mean      0.639933     0.072991             0.046177      30.0   \n",
       "std       0.257150     0.031710             0.197717       0.0   \n",
       "min       0.000000     0.000000             0.000000      30.0   \n",
       "25%       0.537035     0.056534             0.000001      30.0   \n",
       "50%       0.736141     0.072371             0.000010      30.0   \n",
       "75%       0.832013     0.090121             0.001000      30.0   \n",
       "max       0.941972     0.199055             1.000000      30.0   \n",
       "\n",
       "       min_contour_len_samples  n_harmonics  tracking_gain  \\\n",
       "count              1497.000000  1497.000000    1497.000000   \n",
       "mean              45790.057448     4.104876       0.001072   \n",
       "std               90332.648090     1.466318       0.001053   \n",
       "min                   0.000000     1.000000       0.000080   \n",
       "25%                2205.000000     3.000000       0.000500   \n",
       "50%               11025.000000     4.000000       0.001000   \n",
       "75%               44100.000000     5.000000       0.001000   \n",
       "max              441000.000000     6.000000       0.005000   \n",
       "\n",
       "       tracking_update_threhold  \n",
       "count               1497.000000  \n",
       "mean                  64.148297  \n",
       "std                   80.117473  \n",
       "min                    5.000000  \n",
       "25%                   20.000000  \n",
       "50%                   50.000000  \n",
       "75%                   80.000000  \n",
       "max                  500.000000  "
      ]
     },
     "execution_count": 82,
     "metadata": {},
     "output_type": "execute_result"
    }
   ],
   "source": [
    "columns = [\n",
    "    'accuracy-mean', 'accuracy-std', 'precision-mean', 'precision-std', 'recall-mean', 'recall-std',\n",
    "    'amplitude-threshold', 'f_cutoff', 'min_contour_len_samples', 'n_harmonics',\n",
    "    'tracking_gain', 'tracking_update_threhold'\n",
    "]\n",
    "df = pd.DataFrame(row_data, columns=columns)\n",
    "df.describe()"
   ]
  },
  {
   "cell_type": "code",
   "execution_count": 83,
   "metadata": {
    "collapsed": false
   },
   "outputs": [
    {
     "data": {
      "text/plain": [
       "accuracy-mean                  0.391061\n",
       "accuracy-std                   0.111615\n",
       "precision-mean                 0.577887\n",
       "precision-std                  0.104368\n",
       "recall-mean                    0.545232\n",
       "recall-std                     0.146212\n",
       "amplitude-threshold            0.001000\n",
       "f_cutoff                      30.000000\n",
       "min_contour_len_samples     2205.000000\n",
       "n_harmonics                    5.000000\n",
       "tracking_gain                  0.000300\n",
       "tracking_update_threhold      30.000000\n",
       "Name: 563, dtype: float64"
      ]
     },
     "execution_count": 83,
     "metadata": {},
     "output_type": "execute_result"
    }
   ],
   "source": [
    "best_accuracy_idx = df['accuracy-mean'].argmax()\n",
    "df.ix[best_accuracy_idx]"
   ]
  },
  {
   "cell_type": "code",
   "execution_count": 84,
   "metadata": {
    "collapsed": false
   },
   "outputs": [
    {
     "data": {
      "text/plain": [
       "accuracy-mean                   0.007368\n",
       "accuracy-std                    0.003806\n",
       "precision-mean                  0.007373\n",
       "precision-std                   0.003811\n",
       "recall-mean                     0.941972\n",
       "recall-std                      0.020729\n",
       "amplitude-threshold             0.000001\n",
       "f_cutoff                       30.000000\n",
       "min_contour_len_samples     44100.000000\n",
       "n_harmonics                     6.000000\n",
       "tracking_gain                   0.000800\n",
       "tracking_update_threhold      500.000000\n",
       "Name: 248, dtype: float64"
      ]
     },
     "execution_count": 84,
     "metadata": {},
     "output_type": "execute_result"
    }
   ],
   "source": [
    "best_recall_idx = df['recall-mean'].argmax()\n",
    "df.ix[best_recall_idx]"
   ]
  },
  {
   "cell_type": "code",
   "execution_count": 88,
   "metadata": {
    "collapsed": false
   },
   "outputs": [
    {
     "name": "stdout",
     "output_type": "stream",
     "text": [
      "accuracy-mean                   0.285223\n",
      "accuracy-std                    0.038876\n",
      "precision-mean                  0.321173\n",
      "precision-std                   0.056803\n",
      "recall-mean                     0.743237\n",
      "recall-std                      0.065013\n",
      "amplitude-threshold             0.000100\n",
      "f_cutoff                       30.000000\n",
      "min_contour_len_samples     11025.000000\n",
      "n_harmonics                     4.000000\n",
      "tracking_gain                   0.001000\n",
      "tracking_update_threhold       40.000000\n",
      "weighted-f3                     0.656910\n",
      "weighted-f5                     0.707479\n",
      "weighted-f10                    0.733691\n",
      "Name: 163, dtype: float64\n"
     ]
    }
   ],
   "source": [
    "beta = 3.0\n",
    "rec = df['recall-mean']\n",
    "pre = df['precision-mean']\n",
    "weighted_f3 = (1.0 + beta**2.0)*(pre * rec)/((beta**2.0 * pre) + rec)\n",
    "weighted_f3 = pd.DataFrame(weighted_f3, columns=['weighted-f3'])\n",
    "\n",
    "beta = 5.0\n",
    "weighted_f5 = (1.0 + beta**2.0)*(pre * rec)/((beta**2.0 * pre) + rec)\n",
    "weighted_f5 = pd.DataFrame(weighted_f5, columns=['weighted-f5'])\n",
    "\n",
    "beta=10.0\n",
    "weighted_f10 = (1.0 + beta**2.0)*(pre * rec)/((beta**2.0 * pre) + rec)\n",
    "weighted_f10 = pd.DataFrame(weighted_f10, columns=['weighted-f10'])\n",
    "\n",
    "df2 = pd.concat([df, weighted_f3, weighted_f5, weighted_f10], axis=1)\n",
    "print df2.ix[df2['weighted-f3'].argmax()]"
   ]
  },
  {
   "cell_type": "code",
   "execution_count": 89,
   "metadata": {
    "collapsed": true
   },
   "outputs": [],
   "source": [
    "df2.to_csv('/Users/rachelbittner/Dropbox/MARL/repos/loopy/HLL_params_df.csv')"
   ]
  },
  {
   "cell_type": "code",
   "execution_count": null,
   "metadata": {
    "collapsed": true
   },
   "outputs": [],
   "source": []
  },
  {
   "cell_type": "code",
   "execution_count": null,
   "metadata": {
    "collapsed": true
   },
   "outputs": [],
   "source": []
  }
 ],
 "metadata": {
  "kernelspec": {
   "display_name": "Python 2",
   "language": "python",
   "name": "python2"
  },
  "language_info": {
   "codemirror_mode": {
    "name": "ipython",
    "version": 2
   },
   "file_extension": ".py",
   "mimetype": "text/x-python",
   "name": "python",
   "nbconvert_exporter": "python",
   "pygments_lexer": "ipython2",
   "version": "2.7.9"
  }
 },
 "nbformat": 4,
 "nbformat_minor": 0
}
