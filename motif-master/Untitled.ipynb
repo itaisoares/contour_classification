{
 "cells": [
  {
   "cell_type": "code",
   "execution_count": 2,
   "metadata": {
    "collapsed": true
   },
   "outputs": [
    {
     "name": "stdout",
     "output_type": "stream",
     "text": [
      "/Volumes/Dados/Google Drive/Estudos/Mestrado/workspace/python/contour_classification/motif-master/tests/data/input.wav\n",
      "/Volumes/Dados/Google Drive/Estudos/Mestrado/workspace/python/contour_classification/motif-master/tests/data/short.wav"
     ]
    },
    {
     "name": "stderr",
     "output_type": "stream",
     "text": [
      "/Users/itaisoares/anaconda/lib/python3.5/site-packages/mir_eval-0.4-py3.5.egg/mir_eval/melody.py:77: UserWarning: Reference melody has no voiced frames.\n",
      "/Users/itaisoares/anaconda/lib/python3.5/site-packages/mir_eval-0.4-py3.5.egg/mir_eval/melody.py:231: UserWarning: Non-uniform timescale passed to resample_melody_series.  Pitch will be linearly interpolated, which will result in undesirable behavior if silences are indicated by missing values.  Silences should be indicated by nonpositive frequency values.\n",
      "/Users/itaisoares/anaconda/lib/python3.5/site-packages/mir_eval-0.4-py3.5.egg/mir_eval/melody.py:77: UserWarning: Reference melody has no voiced frames.\n"
     ]
    },
    {
     "name": "stdout",
     "output_type": "stream",
     "text": [
      "\n"
     ]
    },
    {
     "name": "stderr",
     "output_type": "stream",
     "text": [
      "/Users/itaisoares/anaconda/lib/python3.5/site-packages/mir_eval-0.4-py3.5.egg/mir_eval/melody.py:231: UserWarning: Non-uniform timescale passed to resample_melody_series.  Pitch will be linearly interpolated, which will result in undesirable behavior if silences are indicated by missing values.  Silences should be indicated by nonpositive frequency values.\n"
     ]
    }
   ],
   "source": [
    "from motif.run import process\n",
    "import os\n",
    "\n",
    "\n",
    "def relpath(f):\n",
    "    return os.path.join(os.getcwd(), f)\n",
    "\n",
    "SHORT_AUDIO_FILE = relpath(\"tests/data/short.wav\")\n",
    "TRAIN_AUDIO_FILE = relpath(\"tests/data/input.wav\")\n",
    "ANNOTATION_FILE = relpath('tests/data/input_annotation.csv')\n",
    "\n",
    "\n",
    "\n",
    "audio_files = [SHORT_AUDIO_FILE]\n",
    "training_pairs = [(TRAIN_AUDIO_FILE, ANNOTATION_FILE)]\n",
    "testing_pairs = [(SHORT_AUDIO_FILE, ANNOTATION_FILE)]\n",
    "# print(training_pairs)\n",
    "# print(testing_pairs)\n",
    "process(\n",
    "            audio_files=audio_files, training_pairs=training_pairs,\n",
    "            testing_pairs=testing_pairs, extract_id='salamon',\n",
    "            feature_id='melodia', classifier_id='random_forest'\n",
    "        )"
   ]
  },
  {
   "cell_type": "code",
   "execution_count": null,
   "metadata": {
    "collapsed": true
   },
   "outputs": [],
   "source": []
  }
 ],
 "metadata": {
  "kernelspec": {
   "display_name": "Python 3",
   "language": "python",
   "name": "python3"
  },
  "language_info": {
   "codemirror_mode": {
    "name": "ipython",
    "version": 3
   },
   "file_extension": ".py",
   "mimetype": "text/x-python",
   "name": "python",
   "nbconvert_exporter": "python",
   "pygments_lexer": "ipython3",
   "version": "3.5.1"
  }
 },
 "nbformat": 4,
 "nbformat_minor": 0
}
