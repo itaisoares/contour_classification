{
 "cells": [
  {
   "cell_type": "code",
   "execution_count": 6,
   "metadata": {
    "collapsed": false
   },
   "outputs": [],
   "source": [
    "import pandas as pd\n",
    "import json\n",
    "import glob\n",
    "import os\n",
    "import numpy as np\n",
    "import matplotlib.pyplot as plt\n",
    "%matplotlib inline\n",
    "import seaborn as sns\n",
    "sns.set()"
   ]
  },
  {
   "cell_type": "code",
   "execution_count": 7,
   "metadata": {
    "collapsed": false
   },
   "outputs": [],
   "source": [
    "from src import experiment_utils as eu"
   ]
  },
  {
   "cell_type": "code",
   "execution_count": 8,
   "metadata": {
    "collapsed": false
   },
   "outputs": [],
   "source": [
    "mdb_files, splitter = eu.create_splits()"
   ]
  },
  {
   "cell_type": "code",
   "execution_count": 9,
   "metadata": {
    "collapsed": false
   },
   "outputs": [],
   "source": [
    "split = {}\n",
    "for i, (train, test) in enumerate(splitter):\n",
    "    train_tracks = mdb_files[train]\n",
    "    test_tracks = mdb_files[test]\n",
    "    split[i+1] = {'train': [str(t) for t in train_tracks], 'test': [str(t) for t in test_tracks]}\n",
    "    \n",
    "    \n",
    "with open('test_data/experiment_splits.json', 'w') as fhandle:\n",
    "    json.dump(split, fhandle, indent=2)"
   ]
  },
  {
   "cell_type": "code",
   "execution_count": 11,
   "metadata": {
    "collapsed": false
   },
   "outputs": [],
   "source": [
    "with open('test_data/experiment_splits.json', 'r') as fhandle:\n",
    "    splits = json.load(fhandle)"
   ]
  },
  {
   "cell_type": "code",
   "execution_count": 12,
   "metadata": {
    "collapsed": false
   },
   "outputs": [
    {
     "ename": "KeyError",
     "evalue": "'the label [Overall Accuracy] is not in the [index]'",
     "output_type": "error",
     "traceback": [
      "\u001b[1;31m---------------------------------------------------------------------------\u001b[0m",
      "\u001b[1;31mKeyError\u001b[0m                                  Traceback (most recent call last)",
      "\u001b[1;32m/home/compmus/anaconda3/lib/python3.5/site-packages/pandas/core/indexing.py\u001b[0m in \u001b[0;36m_has_valid_type\u001b[1;34m(self, key, axis)\u001b[0m\n\u001b[0;32m   1382\u001b[0m                 \u001b[1;32mif\u001b[0m \u001b[0mkey\u001b[0m \u001b[1;32mnot\u001b[0m \u001b[1;32min\u001b[0m \u001b[0max\u001b[0m\u001b[1;33m:\u001b[0m\u001b[1;33m\u001b[0m\u001b[0m\n\u001b[1;32m-> 1383\u001b[1;33m                     \u001b[0merror\u001b[0m\u001b[1;33m(\u001b[0m\u001b[1;33m)\u001b[0m\u001b[1;33m\u001b[0m\u001b[0m\n\u001b[0m\u001b[0;32m   1384\u001b[0m             \u001b[1;32mexcept\u001b[0m \u001b[0mTypeError\u001b[0m \u001b[1;32mas\u001b[0m \u001b[0me\u001b[0m\u001b[1;33m:\u001b[0m\u001b[1;33m\u001b[0m\u001b[0m\n",
      "\u001b[1;32m/home/compmus/anaconda3/lib/python3.5/site-packages/pandas/core/indexing.py\u001b[0m in \u001b[0;36merror\u001b[1;34m()\u001b[0m\n\u001b[0;32m   1377\u001b[0m                 raise KeyError(\"the label [%s] is not in the [%s]\" %\n\u001b[1;32m-> 1378\u001b[1;33m                                (key, self.obj._get_axis_name(axis)))\n\u001b[0m\u001b[0;32m   1379\u001b[0m \u001b[1;33m\u001b[0m\u001b[0m\n",
      "\u001b[1;31mKeyError\u001b[0m: 'the label [Overall Accuracy] is not in the [index]'",
      "\nDuring handling of the above exception, another exception occurred:\n",
      "\u001b[1;31mKeyError\u001b[0m                                  Traceback (most recent call last)",
      "\u001b[1;32m<ipython-input-12-bb4b44570804>\u001b[0m in \u001b[0;36m<module>\u001b[1;34m()\u001b[0m\n\u001b[0;32m     44\u001b[0m         \u001b[0msplit_summary_mel2_test\u001b[0m\u001b[1;33m.\u001b[0m\u001b[0mloc\u001b[0m\u001b[1;33m[\u001b[0m\u001b[1;33m:\u001b[0m\u001b[1;33m,\u001b[0m \u001b[0mnu\u001b[0m\u001b[1;33m]\u001b[0m \u001b[1;33m=\u001b[0m \u001b[0mdf2\u001b[0m\u001b[1;33m.\u001b[0m\u001b[0mloc\u001b[0m\u001b[1;33m[\u001b[0m\u001b[0mtest\u001b[0m\u001b[1;33m,\u001b[0m \u001b[1;33m:\u001b[0m\u001b[1;33m]\u001b[0m\u001b[1;33m.\u001b[0m\u001b[0mmean\u001b[0m\u001b[1;33m(\u001b[0m\u001b[1;33m)\u001b[0m\u001b[1;33m\u001b[0m\u001b[0m\n\u001b[0;32m     45\u001b[0m \u001b[1;33m\u001b[0m\u001b[0m\n\u001b[1;32m---> 46\u001b[1;33m     \u001b[0mplt\u001b[0m\u001b[1;33m.\u001b[0m\u001b[0mplot\u001b[0m\u001b[1;33m(\u001b[0m\u001b[0msplit_summary_mel1\u001b[0m\u001b[1;33m.\u001b[0m\u001b[0mcolumns\u001b[0m\u001b[1;33m,\u001b[0m \u001b[0msplit_summary_mel1\u001b[0m\u001b[1;33m.\u001b[0m\u001b[0mloc\u001b[0m\u001b[1;33m[\u001b[0m\u001b[1;34m'Overall Accuracy'\u001b[0m\u001b[1;33m,\u001b[0m \u001b[1;33m:\u001b[0m\u001b[1;33m]\u001b[0m\u001b[1;33m,\u001b[0m \u001b[0mlabel\u001b[0m\u001b[1;33m=\u001b[0m\u001b[1;34m'melody1 train'\u001b[0m\u001b[1;33m)\u001b[0m\u001b[1;33m\u001b[0m\u001b[0m\n\u001b[0m\u001b[0;32m     47\u001b[0m     \u001b[0mplt\u001b[0m\u001b[1;33m.\u001b[0m\u001b[0mplot\u001b[0m\u001b[1;33m(\u001b[0m\u001b[0msplit_summary_mel1_test\u001b[0m\u001b[1;33m.\u001b[0m\u001b[0mcolumns\u001b[0m\u001b[1;33m,\u001b[0m \u001b[0msplit_summary_mel1_test\u001b[0m\u001b[1;33m.\u001b[0m\u001b[0mloc\u001b[0m\u001b[1;33m[\u001b[0m\u001b[1;34m'Overall Accuracy'\u001b[0m\u001b[1;33m,\u001b[0m \u001b[1;33m:\u001b[0m\u001b[1;33m]\u001b[0m\u001b[1;33m,\u001b[0m \u001b[1;34m'--'\u001b[0m\u001b[1;33m,\u001b[0m \u001b[0mlabel\u001b[0m\u001b[1;33m=\u001b[0m\u001b[1;34m'melody1 test'\u001b[0m\u001b[1;33m)\u001b[0m\u001b[1;33m\u001b[0m\u001b[0m\n\u001b[0;32m     48\u001b[0m     \u001b[0mplt\u001b[0m\u001b[1;33m.\u001b[0m\u001b[0mplot\u001b[0m\u001b[1;33m(\u001b[0m\u001b[0msplit_summary_mel2\u001b[0m\u001b[1;33m.\u001b[0m\u001b[0mcolumns\u001b[0m\u001b[1;33m,\u001b[0m \u001b[0msplit_summary_mel2\u001b[0m\u001b[1;33m.\u001b[0m\u001b[0mloc\u001b[0m\u001b[1;33m[\u001b[0m\u001b[1;34m'Overall Accuracy'\u001b[0m\u001b[1;33m,\u001b[0m \u001b[1;33m:\u001b[0m\u001b[1;33m]\u001b[0m\u001b[1;33m,\u001b[0m \u001b[0mlabel\u001b[0m\u001b[1;33m=\u001b[0m\u001b[1;34m'melody2 train'\u001b[0m\u001b[1;33m)\u001b[0m\u001b[1;33m\u001b[0m\u001b[0m\n",
      "\u001b[1;32m/home/compmus/anaconda3/lib/python3.5/site-packages/pandas/core/indexing.py\u001b[0m in \u001b[0;36m__getitem__\u001b[1;34m(self, key)\u001b[0m\n\u001b[0;32m   1282\u001b[0m     \u001b[1;32mdef\u001b[0m \u001b[0m__getitem__\u001b[0m\u001b[1;33m(\u001b[0m\u001b[0mself\u001b[0m\u001b[1;33m,\u001b[0m \u001b[0mkey\u001b[0m\u001b[1;33m)\u001b[0m\u001b[1;33m:\u001b[0m\u001b[1;33m\u001b[0m\u001b[0m\n\u001b[0;32m   1283\u001b[0m         \u001b[1;32mif\u001b[0m \u001b[0mtype\u001b[0m\u001b[1;33m(\u001b[0m\u001b[0mkey\u001b[0m\u001b[1;33m)\u001b[0m \u001b[1;32mis\u001b[0m \u001b[0mtuple\u001b[0m\u001b[1;33m:\u001b[0m\u001b[1;33m\u001b[0m\u001b[0m\n\u001b[1;32m-> 1284\u001b[1;33m             \u001b[1;32mreturn\u001b[0m \u001b[0mself\u001b[0m\u001b[1;33m.\u001b[0m\u001b[0m_getitem_tuple\u001b[0m\u001b[1;33m(\u001b[0m\u001b[0mkey\u001b[0m\u001b[1;33m)\u001b[0m\u001b[1;33m\u001b[0m\u001b[0m\n\u001b[0m\u001b[0;32m   1285\u001b[0m         \u001b[1;32melse\u001b[0m\u001b[1;33m:\u001b[0m\u001b[1;33m\u001b[0m\u001b[0m\n\u001b[0;32m   1286\u001b[0m             \u001b[1;32mreturn\u001b[0m \u001b[0mself\u001b[0m\u001b[1;33m.\u001b[0m\u001b[0m_getitem_axis\u001b[0m\u001b[1;33m(\u001b[0m\u001b[0mkey\u001b[0m\u001b[1;33m,\u001b[0m \u001b[0maxis\u001b[0m\u001b[1;33m=\u001b[0m\u001b[1;36m0\u001b[0m\u001b[1;33m)\u001b[0m\u001b[1;33m\u001b[0m\u001b[0m\n",
      "\u001b[1;32m/home/compmus/anaconda3/lib/python3.5/site-packages/pandas/core/indexing.py\u001b[0m in \u001b[0;36m_getitem_tuple\u001b[1;34m(self, tup)\u001b[0m\n\u001b[0;32m    778\u001b[0m     \u001b[1;32mdef\u001b[0m \u001b[0m_getitem_tuple\u001b[0m\u001b[1;33m(\u001b[0m\u001b[0mself\u001b[0m\u001b[1;33m,\u001b[0m \u001b[0mtup\u001b[0m\u001b[1;33m)\u001b[0m\u001b[1;33m:\u001b[0m\u001b[1;33m\u001b[0m\u001b[0m\n\u001b[0;32m    779\u001b[0m         \u001b[1;32mtry\u001b[0m\u001b[1;33m:\u001b[0m\u001b[1;33m\u001b[0m\u001b[0m\n\u001b[1;32m--> 780\u001b[1;33m             \u001b[1;32mreturn\u001b[0m \u001b[0mself\u001b[0m\u001b[1;33m.\u001b[0m\u001b[0m_getitem_lowerdim\u001b[0m\u001b[1;33m(\u001b[0m\u001b[0mtup\u001b[0m\u001b[1;33m)\u001b[0m\u001b[1;33m\u001b[0m\u001b[0m\n\u001b[0m\u001b[0;32m    781\u001b[0m         \u001b[1;32mexcept\u001b[0m \u001b[0mIndexingError\u001b[0m\u001b[1;33m:\u001b[0m\u001b[1;33m\u001b[0m\u001b[0m\n\u001b[0;32m    782\u001b[0m             \u001b[1;32mpass\u001b[0m\u001b[1;33m\u001b[0m\u001b[0m\n",
      "\u001b[1;32m/home/compmus/anaconda3/lib/python3.5/site-packages/pandas/core/indexing.py\u001b[0m in \u001b[0;36m_getitem_lowerdim\u001b[1;34m(self, tup)\u001b[0m\n\u001b[0;32m    902\u001b[0m         \u001b[1;32mfor\u001b[0m \u001b[0mi\u001b[0m\u001b[1;33m,\u001b[0m \u001b[0mkey\u001b[0m \u001b[1;32min\u001b[0m \u001b[0menumerate\u001b[0m\u001b[1;33m(\u001b[0m\u001b[0mtup\u001b[0m\u001b[1;33m)\u001b[0m\u001b[1;33m:\u001b[0m\u001b[1;33m\u001b[0m\u001b[0m\n\u001b[0;32m    903\u001b[0m             \u001b[1;32mif\u001b[0m \u001b[0mis_label_like\u001b[0m\u001b[1;33m(\u001b[0m\u001b[0mkey\u001b[0m\u001b[1;33m)\u001b[0m \u001b[1;32mor\u001b[0m \u001b[0misinstance\u001b[0m\u001b[1;33m(\u001b[0m\u001b[0mkey\u001b[0m\u001b[1;33m,\u001b[0m \u001b[0mtuple\u001b[0m\u001b[1;33m)\u001b[0m\u001b[1;33m:\u001b[0m\u001b[1;33m\u001b[0m\u001b[0m\n\u001b[1;32m--> 904\u001b[1;33m                 \u001b[0msection\u001b[0m \u001b[1;33m=\u001b[0m \u001b[0mself\u001b[0m\u001b[1;33m.\u001b[0m\u001b[0m_getitem_axis\u001b[0m\u001b[1;33m(\u001b[0m\u001b[0mkey\u001b[0m\u001b[1;33m,\u001b[0m \u001b[0maxis\u001b[0m\u001b[1;33m=\u001b[0m\u001b[0mi\u001b[0m\u001b[1;33m)\u001b[0m\u001b[1;33m\u001b[0m\u001b[0m\n\u001b[0m\u001b[0;32m    905\u001b[0m \u001b[1;33m\u001b[0m\u001b[0m\n\u001b[0;32m    906\u001b[0m                 \u001b[1;31m# we have yielded a scalar ?\u001b[0m\u001b[1;33m\u001b[0m\u001b[1;33m\u001b[0m\u001b[0m\n",
      "\u001b[1;32m/home/compmus/anaconda3/lib/python3.5/site-packages/pandas/core/indexing.py\u001b[0m in \u001b[0;36m_getitem_axis\u001b[1;34m(self, key, axis)\u001b[0m\n\u001b[0;32m   1427\u001b[0m \u001b[1;33m\u001b[0m\u001b[0m\n\u001b[0;32m   1428\u001b[0m         \u001b[1;31m# fall thru to straight lookup\u001b[0m\u001b[1;33m\u001b[0m\u001b[1;33m\u001b[0m\u001b[0m\n\u001b[1;32m-> 1429\u001b[1;33m         \u001b[0mself\u001b[0m\u001b[1;33m.\u001b[0m\u001b[0m_has_valid_type\u001b[0m\u001b[1;33m(\u001b[0m\u001b[0mkey\u001b[0m\u001b[1;33m,\u001b[0m \u001b[0maxis\u001b[0m\u001b[1;33m)\u001b[0m\u001b[1;33m\u001b[0m\u001b[0m\n\u001b[0m\u001b[0;32m   1430\u001b[0m         \u001b[1;32mreturn\u001b[0m \u001b[0mself\u001b[0m\u001b[1;33m.\u001b[0m\u001b[0m_get_label\u001b[0m\u001b[1;33m(\u001b[0m\u001b[0mkey\u001b[0m\u001b[1;33m,\u001b[0m \u001b[0maxis\u001b[0m\u001b[1;33m=\u001b[0m\u001b[0maxis\u001b[0m\u001b[1;33m)\u001b[0m\u001b[1;33m\u001b[0m\u001b[0m\n\u001b[0;32m   1431\u001b[0m \u001b[1;33m\u001b[0m\u001b[0m\n",
      "\u001b[1;32m/home/compmus/anaconda3/lib/python3.5/site-packages/pandas/core/indexing.py\u001b[0m in \u001b[0;36m_has_valid_type\u001b[1;34m(self, key, axis)\u001b[0m\n\u001b[0;32m   1389\u001b[0m                 \u001b[1;32mraise\u001b[0m\u001b[1;33m\u001b[0m\u001b[0m\n\u001b[0;32m   1390\u001b[0m             \u001b[1;32mexcept\u001b[0m\u001b[1;33m:\u001b[0m\u001b[1;33m\u001b[0m\u001b[0m\n\u001b[1;32m-> 1391\u001b[1;33m                 \u001b[0merror\u001b[0m\u001b[1;33m(\u001b[0m\u001b[1;33m)\u001b[0m\u001b[1;33m\u001b[0m\u001b[0m\n\u001b[0m\u001b[0;32m   1392\u001b[0m \u001b[1;33m\u001b[0m\u001b[0m\n\u001b[0;32m   1393\u001b[0m         \u001b[1;32mreturn\u001b[0m \u001b[1;32mTrue\u001b[0m\u001b[1;33m\u001b[0m\u001b[0m\n",
      "\u001b[1;32m/home/compmus/anaconda3/lib/python3.5/site-packages/pandas/core/indexing.py\u001b[0m in \u001b[0;36merror\u001b[1;34m()\u001b[0m\n\u001b[0;32m   1376\u001b[0m                                     \"key\")\n\u001b[0;32m   1377\u001b[0m                 raise KeyError(\"the label [%s] is not in the [%s]\" %\n\u001b[1;32m-> 1378\u001b[1;33m                                (key, self.obj._get_axis_name(axis)))\n\u001b[0m\u001b[0;32m   1379\u001b[0m \u001b[1;33m\u001b[0m\u001b[0m\n\u001b[0;32m   1380\u001b[0m             \u001b[1;32mtry\u001b[0m\u001b[1;33m:\u001b[0m\u001b[1;33m\u001b[0m\u001b[0m\n",
      "\u001b[1;31mKeyError\u001b[0m: 'the label [Overall Accuracy] is not in the [index]'"
     ]
    }
   ],
   "source": [
    "opt_nu = pd.DataFrame(index=splits.keys(), columns=['melody1', 'melody2'])\n",
    "\n",
    "for split in splits.keys():\n",
    "    train = [str(t) for t in splits[split]['train']]\n",
    "    test = splits[split]['test']\n",
    "    \n",
    "    mel1_scores = glob.glob(\"melodia_scores/melody1/*.json\")\n",
    "    nu_vals = [-10, -9, -8, -7, -6, -5, -4, -3, -2, -1.5, -1, -0.5, \n",
    "               0, 1, 2, 3, 4, 5, 6, 7, 8, 9, 10]\n",
    "    split_summary_mel1 = pd.DataFrame(columns=nu_vals)\n",
    "    split_summary_mel1_test = pd.DataFrame(columns=nu_vals)\n",
    "    \n",
    "    for nu_scores in mel1_scores:\n",
    "        df1 = pd.io.json.read_json(nu_scores, orient='index')\n",
    "        nu = os.path.basename(nu_scores).split('_')[1]\n",
    "        if nu[0] == 'n':\n",
    "            if len(nu[1:]) == 3:\n",
    "                nu = -int(nu[1:])/10.0\n",
    "            else:\n",
    "                nu = -int(nu[1:])\n",
    "        else:\n",
    "            nu = int(nu)\n",
    "        \n",
    "        split_summary_mel1.loc[:, nu] = df1.loc[train, :].mean()\n",
    "        split_summary_mel1_test.loc[:, nu] = df1.loc[test, :].mean()\n",
    "        \n",
    "    mel2_scores = glob.glob(\"melodia_scores/melody2/*.json\")\n",
    "    nu_vals = [-10, -9, -8, -7, -6, -5, -4, -3, -2, -1.5, -1, -0.5, \n",
    "               0, 1, 2, 3, 4, 5, 6, 7, 8, 9, 10]\n",
    "    split_summary_mel2 = pd.DataFrame(columns=nu_vals)\n",
    "    split_summary_mel2_test = pd.DataFrame(columns=nu_vals)\n",
    "    \n",
    "    for nu_scores in mel2_scores:\n",
    "        df2 = pd.io.json.read_json(nu_scores, orient='index')\n",
    "        nu = os.path.basename(nu_scores).split('_')[1]\n",
    "        if nu[0] == 'n':\n",
    "            if len(nu[1:]) == 3:\n",
    "                nu = -int(nu[1:])/10.0\n",
    "            else:\n",
    "                nu = -int(nu[1:])\n",
    "        else:\n",
    "            nu = int(nu)\n",
    "        split_summary_mel2.loc[:, nu] = df2.loc[train, :].mean()\n",
    "        split_summary_mel2_test.loc[:, nu] = df2.loc[test, :].mean()\n",
    "    \n",
    "    plt.plot(split_summary_mel1.columns, split_summary_mel1.loc['Overall Accuracy', :], label='melody1 train')\n",
    "    plt.plot(split_summary_mel1_test.columns, split_summary_mel1_test.loc['Overall Accuracy', :], '--', label='melody1 test')\n",
    "    plt.plot(split_summary_mel2.columns, split_summary_mel2.loc['Overall Accuracy', :], label='melody2 train')\n",
    "    plt.plot(split_summary_mel2_test.columns, split_summary_mel2_test.loc['Overall Accuracy', :], '--', label='melody2 test')\n",
    "    plt.legend()\n",
    "    plt.title('Split number %s' % split)\n",
    "    plt.show()\n",
    "    \n",
    "    opt_nu.loc[split, 'melody1'] = split_summary_mel1.loc['Overall Accuracy', :].idxmax(axis=1)\n",
    "    opt_nu.loc[split, 'melody2'] = split_summary_mel2.loc['Overall Accuracy', :].idxmax(axis=1)\n",
    "opt_nu"
   ]
  },
  {
   "cell_type": "code",
   "execution_count": 8,
   "metadata": {
    "collapsed": false
   },
   "outputs": [
    {
     "data": {
      "text/plain": [
       "-1.5"
      ]
     },
     "execution_count": 8,
     "metadata": {},
     "output_type": "execute_result"
    }
   ],
   "source": [
    "split_summary_mel1.loc['Overall Accuracy', :].idxmax(axis=1)"
   ]
  },
  {
   "cell_type": "code",
   "execution_count": 8,
   "metadata": {
    "collapsed": false
   },
   "outputs": [
    {
     "data": {
      "text/html": [
       "<div style=\"max-height:1000px;max-width:1500px;overflow:auto;\">\n",
       "<table border=\"1\" class=\"dataframe\">\n",
       "  <thead>\n",
       "    <tr style=\"text-align: right;\">\n",
       "      <th></th>\n",
       "      <th>melody1</th>\n",
       "      <th>melody2</th>\n",
       "    </tr>\n",
       "  </thead>\n",
       "  <tbody>\n",
       "    <tr>\n",
       "      <th>1</th>\n",
       "      <td>-1.5</td>\n",
       "      <td>-0.5</td>\n",
       "    </tr>\n",
       "    <tr>\n",
       "      <th>3</th>\n",
       "      <td>-1.5</td>\n",
       "      <td>-0.5</td>\n",
       "    </tr>\n",
       "    <tr>\n",
       "      <th>2</th>\n",
       "      <td>-1.5</td>\n",
       "      <td>-0.5</td>\n",
       "    </tr>\n",
       "    <tr>\n",
       "      <th>5</th>\n",
       "      <td>-1.5</td>\n",
       "      <td>-1</td>\n",
       "    </tr>\n",
       "    <tr>\n",
       "      <th>4</th>\n",
       "      <td>-1.5</td>\n",
       "      <td>-0.5</td>\n",
       "    </tr>\n",
       "  </tbody>\n",
       "</table>\n",
       "</div>"
      ],
      "text/plain": [
       "  melody1 melody2\n",
       "1    -1.5    -0.5\n",
       "3    -1.5    -0.5\n",
       "2    -1.5    -0.5\n",
       "5    -1.5      -1\n",
       "4    -1.5    -0.5"
      ]
     },
     "execution_count": 8,
     "metadata": {},
     "output_type": "execute_result"
    }
   ],
   "source": [
    "opt_nu"
   ]
  },
  {
   "cell_type": "code",
   "execution_count": 42,
   "metadata": {
    "collapsed": false
   },
   "outputs": [],
   "source": [
    "OA = pd.DataFrame(index=splits.keys(), columns=['oa_mu1', 'oa_sig1', 'oa_mu2', 'oa_sig2'])\n",
    "RFA = pd.DataFrame(index=splits.keys(), columns=['vr_mu1', 'vr_sig1', 'vr_mu2', 'vr_sig2',\\\n",
    "                                                 'vfa_mu1', 'vfa_sig1', 'vfa_mu2', 'vfa_sig2'])\n",
    "PC = pd.DataFrame(index=splits.keys(), columns=['rp_mu1', 'rp_sig1', 'rp_mu2', 'rp_sig2',\\\n",
    "                                                 'rc_mu1', 'rc_sig1', 'rc_mu2', 'rc_sig2'])\n",
    "OA_inst = pd.DataFrame(index=splits.keys(), columns=['oa_mu1', 'oa_sig1', 'oa_mu2', 'oa_sig2'])\n",
    "OA_voc = pd.DataFrame(index=splits.keys(), columns=['oa_mu1', 'oa_sig1', 'oa_mu2', 'oa_sig2'])\n",
    "\n",
    "with open(\"v_i_splits.json\", 'r') as fhandle:\n",
    "    vi_dict = json.load(fhandle)\n",
    "\n",
    "inst = [k for k in vi_dict.keys() if vi_dict[k] == \"i\"]\n",
    "voc = [k for k in vi_dict.keys() if vi_dict[k] == \"v\"]\n",
    "\n",
    "for split in splits.keys():\n",
    "    test = splits[split]['test']\n",
    "    \n",
    "    nu = opt_nu.loc[split, 'melody1']\n",
    "    if nu == -1.5:\n",
    "        nu_str = 'n015'\n",
    "    elif nu == -0.5:\n",
    "        nu_str = 'n005'\n",
    "    else:\n",
    "        nu_str = 'n005'\n",
    "    df1 = pd.io.json.read_json(\"melodia_scores/melody1/nu_%s_melody1.json\" % nu_str, orient='index')\n",
    "    df1 = df1.loc[test, :]\n",
    "    OA.loc[split, 'oa_mu1'] = df1['Overall Accuracy'].mean()\n",
    "    OA.loc[split, 'oa_sig1'] = df1['Overall Accuracy'].std()\n",
    "    RFA.loc[split, 'vr_mu1'] = df1['Voicing Recall'].mean()\n",
    "    RFA.loc[split, 'vr_sig1'] = df1['Voicing Recall'].std()\n",
    "    RFA.loc[split, 'vfa_mu1'] = df1['Voicing False Alarm'].mean()\n",
    "    RFA.loc[split, 'vfa_sig1'] = df1['Voicing False Alarm'].std()\n",
    "    PC.loc[split, 'rp_mu1'] = df1['Raw Pitch Accuracy'].mean()\n",
    "    PC.loc[split, 'rp_sig1'] = df1['Raw Pitch Accuracy'].std()\n",
    "    PC.loc[split, 'rc_mu1'] = df1['Raw Chroma Accuracy'].mean()\n",
    "    PC.loc[split, 'rc_sig1'] = df1['Raw Chroma Accuracy'].std()\n",
    "    \n",
    "    OA_inst.loc[split, 'oa_mu1'] = df1.loc[inst, 'Overall Accuracy'].mean()\n",
    "    OA_inst.loc[split, 'oa_sig1'] = df1.loc[inst, 'Overall Accuracy'].std()\n",
    "    OA_voc.loc[split, 'oa_mu1'] = df1.loc[voc, 'Overall Accuracy'].mean()\n",
    "    OA_voc.loc[split, 'oa_sig1'] = df1.loc[voc, 'Overall Accuracy'].std()\n",
    "    \n",
    "    nu = opt_nu.loc[split, 'melody2']\n",
    "    if nu == -1.5:\n",
    "        nu_str = 'n015'\n",
    "    elif nu == -0.5:\n",
    "        nu_str = 'n005'\n",
    "    else:\n",
    "        nu_str = 'n005'    \n",
    "    df2 = pd.io.json.read_json(\"melodia_scores/melody2/nu_%s_melody2.json\" % nu_str, orient='index')\n",
    "    df2 = df2.loc[test, :]\n",
    "    OA.loc[split, 'oa_mu2'] = df2['Overall Accuracy'].mean()\n",
    "    OA.loc[split, 'oa_sig2'] = df2['Overall Accuracy'].std()\n",
    "    RFA.loc[split, 'vr_mu2'] = df2['Voicing Recall'].mean()\n",
    "    RFA.loc[split, 'vr_sig2'] = df2['Voicing Recall'].std()\n",
    "    RFA.loc[split, 'vfa_mu2'] = df2['Voicing False Alarm'].mean()\n",
    "    RFA.loc[split, 'vfa_sig2'] = df2['Voicing False Alarm'].std()\n",
    "    PC.loc[split, 'rp_mu2'] = df2['Raw Pitch Accuracy'].mean()\n",
    "    PC.loc[split, 'rp_sig2'] = df2['Raw Pitch Accuracy'].std()\n",
    "    PC.loc[split, 'rc_mu2'] = df2['Raw Chroma Accuracy'].mean()\n",
    "    PC.loc[split, 'rc_sig2'] = df2['Raw Chroma Accuracy'].std()\n",
    "    \n",
    "    OA_inst.loc[split, 'oa_mu2'] = df2.loc[inst, 'Overall Accuracy'].mean()\n",
    "    OA_inst.loc[split, 'oa_sig2'] = df2.loc[inst, 'Overall Accuracy'].std()\n",
    "    OA_voc.loc[split, 'oa_mu2'] = df2.loc[voc, 'Overall Accuracy'].mean()\n",
    "    OA_voc.loc[split, 'oa_sig2'] = df2.loc[voc, 'Overall Accuracy'].std()\n",
    "    \n",
    "    OA.sort_index(inplace=True)\n",
    "    RFA.sort_index(inplace=True)\n",
    "    PC.sort_index(inplace=True)"
   ]
  },
  {
   "cell_type": "code",
   "execution_count": 43,
   "metadata": {
    "collapsed": false
   },
   "outputs": [
    {
     "data": {
      "text/html": [
       "<div style=\"max-height:1000px;max-width:1500px;overflow:auto;\">\n",
       "<table border=\"1\" class=\"dataframe\">\n",
       "  <thead>\n",
       "    <tr style=\"text-align: right;\">\n",
       "      <th></th>\n",
       "      <th>oa_mu1</th>\n",
       "      <th>oa_sig1</th>\n",
       "      <th>oa_mu2</th>\n",
       "      <th>oa_sig2</th>\n",
       "    </tr>\n",
       "  </thead>\n",
       "  <tbody>\n",
       "    <tr>\n",
       "      <th>1</th>\n",
       "      <td>0.4611308</td>\n",
       "      <td>0.1979423</td>\n",
       "      <td>0.439134</td>\n",
       "      <td>0.154582</td>\n",
       "    </tr>\n",
       "    <tr>\n",
       "      <th>3</th>\n",
       "      <td>0.4309163</td>\n",
       "      <td>0.1898921</td>\n",
       "      <td>0.462058</td>\n",
       "      <td>0.1691504</td>\n",
       "    </tr>\n",
       "    <tr>\n",
       "      <th>2</th>\n",
       "      <td>0.4577948</td>\n",
       "      <td>0.2024942</td>\n",
       "      <td>0.3778529</td>\n",
       "      <td>0.1897983</td>\n",
       "    </tr>\n",
       "    <tr>\n",
       "      <th>5</th>\n",
       "      <td>0.4140301</td>\n",
       "      <td>0.1290595</td>\n",
       "      <td>0.5153651</td>\n",
       "      <td>0.08567236</td>\n",
       "    </tr>\n",
       "    <tr>\n",
       "      <th>4</th>\n",
       "      <td>0.3858988</td>\n",
       "      <td>0.1546838</td>\n",
       "      <td>0.3838139</td>\n",
       "      <td>0.1019325</td>\n",
       "    </tr>\n",
       "  </tbody>\n",
       "</table>\n",
       "</div>"
      ],
      "text/plain": [
       "      oa_mu1    oa_sig1     oa_mu2     oa_sig2\n",
       "1  0.4611308  0.1979423   0.439134    0.154582\n",
       "3  0.4309163  0.1898921   0.462058   0.1691504\n",
       "2  0.4577948  0.2024942  0.3778529   0.1897983\n",
       "5  0.4140301  0.1290595  0.5153651  0.08567236\n",
       "4  0.3858988  0.1546838  0.3838139   0.1019325"
      ]
     },
     "execution_count": 43,
     "metadata": {},
     "output_type": "execute_result"
    }
   ],
   "source": [
    "OA_inst"
   ]
  },
  {
   "cell_type": "code",
   "execution_count": 30,
   "metadata": {
    "collapsed": false
   },
   "outputs": [
    {
     "data": {
      "text/plain": [
       "rp_mu1     0.491225\n",
       "rp_sig1    0.239246\n",
       "rp_mu2     0.536113\n",
       "rp_sig2    0.210671\n",
       "rc_mu1     0.679087\n",
       "rc_sig1    0.177725\n",
       "rc_mu2     0.675143\n",
       "rc_sig2    0.148651\n",
       "dtype: float64"
      ]
     },
     "execution_count": 30,
     "metadata": {},
     "output_type": "execute_result"
    }
   ],
   "source": [
    "PC.mean()"
   ]
  },
  {
   "cell_type": "code",
   "execution_count": 27,
   "metadata": {
    "collapsed": false
   },
   "outputs": [],
   "source": [
    "meltype=1"
   ]
  },
  {
   "cell_type": "code",
   "execution_count": 25,
   "metadata": {
    "collapsed": false
   },
   "outputs": [],
   "source": [
    "if meltype==1:\n",
    "    olap=0.4\n",
    "else:\n",
    "    olap=0.5\n",
    "    \n",
    "olap_dir = \"olap_%s\" % olap\n",
    "mel_dir = \"/Users/rachelbittner/Desktop/exper_output/ver1/CC_exper_mel%s\" % meltype\n",
    "melscore_dat = {}\n",
    "melscore_var = {}\n",
    "\n",
    "for split in range(1, 6):\n",
    "    split_dir = \"splitnum_%s\" % split\n",
    "    temp_path = os.path.join(mel_dir, split_dir, olap_dir)\n",
    "    \n",
    "    mel_score_fpath = os.path.join(temp_path, \"mel_score_summary.csv\")\n",
    "    temp_df = pd.read_csv(mel_score_fpath, index_col=0)\n",
    "    melscore_dat[split] = temp_df.iloc[1, :].convert_objects(convert_numeric=True)\n",
    "    melscore_var[split] = temp_df.iloc[2, :].convert_objects(convert_numeric=True)\n",
    "\n",
    "melmeans = pd.concat(melscore_dat, axis=1)\n",
    "melstd = pd.concat(melscore_var, axis=1)\n",
    "melscore_dict_avg = pd.concat(melscore_dat).groupby(level=0).mean()\n",
    "melscore_dict_std = pd.concat(melscore_dat).groupby(level=0).std()\n"
   ]
  },
  {
   "cell_type": "code",
   "execution_count": 21,
   "metadata": {
    "collapsed": false
   },
   "outputs": [
    {
     "data": {
      "text/plain": [
       "VR     0.773424\n",
       "VFA    0.466247\n",
       "RPA    0.505600\n",
       "RCA    0.600497\n",
       "OA     0.507091\n",
       "dtype: float64"
      ]
     },
     "execution_count": 21,
     "metadata": {},
     "output_type": "execute_result"
    }
   ],
   "source": [
    "melmeans.mean(axis=1)"
   ]
  },
  {
   "cell_type": "code",
   "execution_count": 141,
   "metadata": {
    "collapsed": false
   },
   "outputs": [
    {
     "data": {
      "image/png": "[encoded data removed]",
      "text/plain": [
       "<matplotlib.figure.Figure at 0x10b9eed50>"
      ]
     },
     "metadata": {},
     "output_type": "display_data"
    }
   ],
   "source": [
    "fig = plt.figure(figsize=(10.5,4))\n",
    "\n",
    "plt.subplot(1, 5, 1)\n",
    "xvals = np.array([int(i) for i in OA.index])\n",
    "plt.errorbar(xvals+0.2, OA['oa_mu%s'% meltype], yerr=OA['oa_sig%s' % meltype], fmt='o', color='red', label='Melodia', capsize=0)\n",
    "plt.errorbar(xvals-0.2, melmeans.loc['OA', :], yerr=melstd.loc['OA', :], fmt='o', color='m', label='Classifier', capsize=0)\n",
    "plt.errorbar(6+0.2, OA['oa_mu%s'% meltype].mean(), OA['oa_sig%s'% meltype].mean(), fmt='D', color='red', capsize=0)\n",
    "plt.errorbar(6-0.2, melmeans.loc['OA', :].mean(), melstd.loc['OA', :].mean(), fmt='D', color='m', capsize=0)\n",
    "plt.legend(loc=3)\n",
    "plt.xlim([0, 7])\n",
    "plt.ylim([0, 1])\n",
    "plt.xticks([1,2,3,4,5,6], ('1','2','3','4','5','$\\mu$'))\n",
    "plt.xlabel('Split Number')\n",
    "plt.title('Overall Accuracy')\n",
    "\n",
    "plt.subplot(1, 5, 2)\n",
    "xvals = np.array([int(i) for i in RFA.index])\n",
    "plt.errorbar(xvals+0.2, RFA['vr_mu%s'% meltype], yerr=RFA['vr_sig%s'% meltype], fmt='o', color='red', label='Melodia', capsize=0)\n",
    "plt.errorbar(xvals-0.2, melmeans.loc['VR', :], yerr=melstd.loc['VR', :], fmt='o', color='m', label='Classifier', capsize=0)\n",
    "plt.errorbar(6+0.2, RFA['vr_mu%s'% meltype].mean(), RFA['vr_sig%s'% meltype].mean(), fmt='D', color='red', capsize=0)\n",
    "plt.errorbar(6-0.2, melmeans.loc['VR', :].mean(), melstd.loc['VR', :].mean(), fmt='D', color='m', capsize=0)\n",
    "plt.legend(loc=3)\n",
    "plt.xlim([0, 7])\n",
    "plt.ylim([0, 1])\n",
    "plt.xticks([1,2,3,4,5,6], ('1','2','3','4','5','$\\mu$'))\n",
    "plt.tick_params(axis='y', which='both', bottom='off', top='off', labelleft='off' )\n",
    "plt.xlabel('Split Number')\n",
    "plt.title('Voicing Recall')\n",
    "\n",
    "plt.subplot(1, 5, 3)\n",
    "xvals = np.array([int(i) for i in RFA.index])\n",
    "plt.errorbar(xvals+0.2, RFA['vfa_mu%s'% meltype], yerr=RFA['vfa_sig%s'% meltype], fmt='o', color='red', label='Melodia', capsize=0)\n",
    "plt.errorbar(xvals-0.2, melmeans.loc['VFA', :], yerr=melstd.loc['VFA', :], fmt='o', color='m', label='Classifier', capsize=0)\n",
    "plt.errorbar(6+0.2, RFA['vfa_mu%s'% meltype].mean(), RFA['vfa_sig%s'% meltype].mean(), fmt='D', color='red', capsize=0)\n",
    "plt.errorbar(6-0.2, melmeans.loc['VFA', :].mean(), melstd.loc['VFA', :].mean(), fmt='D', color='m', capsize=0)\n",
    "plt.legend(loc=2)\n",
    "plt.xlim([0, 7])\n",
    "plt.ylim([0, 1])\n",
    "plt.xticks([1,2,3,4,5,6], ('1','2','3','4','5','$\\mu$'))\n",
    "plt.tick_params(axis='y', which='both', bottom='off', top='off', labelleft='off' )\n",
    "plt.xlabel('Split Number')\n",
    "plt.title('Voicing False Alarm')\n",
    "\n",
    "plt.subplot(1, 5, 4)\n",
    "xvals = np.array([int(i) for i in PC.index])\n",
    "plt.errorbar(xvals+0.2, PC['rp_mu%s'% meltype], yerr=PC['rp_sig%s'% meltype], fmt='o', color='red', label='Melodia', capsize=0)\n",
    "plt.errorbar(xvals-0.2, melmeans.loc['RPA', :], yerr=melstd.loc['RPA', :], fmt='o', color='m', label='Classifier', capsize=0)\n",
    "plt.errorbar(6+0.2, PC['rp_mu%s'% meltype].mean(), PC['rp_sig%s'% meltype].mean(), fmt='D', color='red', capsize=0)\n",
    "plt.errorbar(6-0.2, melmeans.loc['RPA', :].mean(), melstd.loc['RPA', :].mean(), fmt='D', color='m', capsize=0)\n",
    "plt.legend(loc=3)\n",
    "plt.xlim([0, 7])\n",
    "plt.ylim([0, 1])\n",
    "plt.xticks([1,2,3,4,5,6], ('1','2','3','4','5','$\\mu$'))\n",
    "plt.tick_params(axis='y', which='both', bottom='off', top='off', labelleft='off' )\n",
    "plt.xlabel('Split Number')\n",
    "plt.title('Raw Pitch Accuracy')\n",
    "\n",
    "plt.subplot(1, 5, 5)\n",
    "xvals = np.array([int(i) for i in PC.index])\n",
    "plt.errorbar(xvals+0.2, PC['rc_mu%s'% meltype], yerr=PC['rc_sig%s'% meltype], fmt='o', color='red', label='Melodia', capsize=0)\n",
    "plt.errorbar(xvals-0.2, melmeans.loc['RCA', :], yerr=melstd.loc['RCA', :], fmt='o', color='m', label='Classifier', capsize=0)\n",
    "plt.errorbar(6+0.2, PC['rc_mu%s'% meltype].mean(), PC['rc_sig%s'% meltype].mean(), fmt='D', color='red', capsize=0)\n",
    "plt.errorbar(6-0.2, melmeans.loc['RCA', :].mean(), melstd.loc['RCA', :].mean(), fmt='D', color='m', capsize=0)\n",
    "plt.legend(loc=3)\n",
    "plt.xlim([0, 7])\n",
    "plt.ylim([0, 1])\n",
    "plt.xticks([1,2,3,4,5,6], ('1','2','3','4','5','$\\mu$'))\n",
    "plt.tick_params(axis='y', which='both', bottom='off', top='off', labelleft='off' )\n",
    "plt.xlabel('Split Number')\n",
    "plt.title('Raw Chroma Accuracy')\n",
    "\n",
    "#fig.suptitle(\"Melodia vs. Classifier\", fontsize=13, y=1.05)\n",
    "plt.savefig('/Users/rachelbittner/Desktop/melodia_v_clf_mel%s.eps'% meltype, format='eps')\n"
   ]
  },
  {
   "cell_type": "code",
   "execution_count": 28,
   "metadata": {
    "collapsed": false
   },
   "outputs": [
    {
     "name": "stdout",
     "output_type": "stream",
     "text": [
      "0.5121178406\n",
      "0.56025081566\n"
     ]
    }
   ],
   "source": [
    "print melmeans.loc['OA', :].mean()\n",
    "print OA['oa_mu%s'% meltype].mean()"
   ]
  },
  {
   "cell_type": "code",
   "execution_count": 66,
   "metadata": {
    "collapsed": false
   },
   "outputs": [
    {
     "data": {
      "image/png": "[encoded data removed]",
      "text/plain": [
       "<matplotlib.figure.Figure at 0x10c6ea290>"
      ]
     },
     "metadata": {},
     "output_type": "display_data"
    }
   ],
   "source": [
    "meltype=1\n",
    "olap=0.4\n",
    "\n",
    "olap_dir = \"olap_%s\" % olap\n",
    "mel_dir = \"/Users/rachelbittner/Desktop/exper_output/ver1/CC_exper_mel%s\" % meltype\n",
    "melscore_dat = {}\n",
    "melscore_var = {}\n",
    "voc_scores_mean = {}\n",
    "inst_scores_mean = {}\n",
    "\n",
    "for split in splits.keys():\n",
    "    split_dir = \"splitnum_%s\" % split\n",
    "    temp_path = os.path.join(mel_dir, split_dir, olap_dir)\n",
    "    \n",
    "    mel_score_fpath = os.path.join(temp_path, \"mel_score_summary.csv\")\n",
    "    temp_df = pd.read_csv(mel_score_fpath, index_col=0)\n",
    "    melscore_dat[split] = temp_df.iloc[1, :].convert_objects(convert_numeric=True)\n",
    "    melscore_var[split] = temp_df.iloc[2, :].convert_objects(convert_numeric=True)\n",
    "    \n",
    "    all_mels_fpath = os.path.join(temp_path, \"all_mel_scores.csv\")\n",
    "    temp_df = pd.read_csv(all_mels_fpath, index_col=0)\n",
    "    test = splits[split]['test']\n",
    "    temp_df = temp_df.loc[test, :]\n",
    "    voc_scores_mean[split] = temp_df.loc[voc, 'OA'].mean()\n",
    "    inst_scores_mean[split] = temp_df.loc[inst, 'OA'].mean()\n",
    "    \n",
    "melmeans = pd.concat(melscore_dat, axis=1)\n",
    "melstd = pd.concat(melscore_var, axis=1)\n",
    "melscore_dict_avg = pd.concat(melscore_dat).groupby(level=0).mean()\n",
    "melscore_dict_std = pd.concat(melscore_dat).groupby(level=0).std()\n",
    "\n",
    "c2, c1 = sns.color_palette('deep', 2)\n",
    "\n",
    "fig = plt.figure(figsize=(8,3))\n",
    "\n",
    "plt.subplot(1,2,1)\n",
    "\n",
    "plt.errorbar(7-0.1, np.mean(inst_scores_mean.values()), np.std(inst_scores_mean.values()), fmt='o', color=c2, capsize=0)\n",
    "plt.errorbar(7+0.1, OA_inst['oa_mu%s' % meltype].mean(), OA_inst['oa_mu%s' % meltype].std(), fmt='o', color=c1, capsize=0)\n",
    "\n",
    "plt.errorbar(6-0.1, np.mean(voc_scores_mean.values()), np.std(voc_scores_mean.values()), fmt='o', color=c2, capsize=0)\n",
    "plt.errorbar(6+0.1, OA_voc['oa_mu%s' % meltype].mean(), OA_voc['oa_mu%s' % meltype].std(), fmt='o', color=c1, capsize=0)\n",
    "\n",
    "plt.errorbar(5-0.1, melmeans.loc['OA', :].mean(), melmeans.loc['OA', :].std(), fmt='o', color=c2, capsize=0, label=\"Proposed Method\")\n",
    "plt.errorbar(5+0.1, OA['oa_mu%s' % meltype].mean(), OA['oa_mu%s' % meltype].std(), fmt='o', color=c1, capsize=0, label=\"Melodia\")\n",
    "\n",
    "plt.errorbar(1+0.1, RFA['vr_mu%s' % meltype].mean(), RFA['vr_mu%s' % meltype].std(), fmt='o', color=c1, capsize=0)\n",
    "plt.errorbar(1-0.1, melmeans.loc['VR', :].mean(), melmeans.loc['VR', :].std(), fmt='o', color=c2, capsize=0)\n",
    "\n",
    "plt.errorbar(2+0.1, RFA['vfa_mu%s' % meltype].mean(), RFA['vfa_mu%s'  % meltype].std(), fmt='o', color=c1, capsize=0)\n",
    "plt.errorbar(2-0.1, melmeans.loc['VFA', :].mean(), melmeans.loc['VFA', :].std(), fmt='o', color=c2, capsize=0)\n",
    "\n",
    "plt.errorbar(3+0.1, PC['rp_mu%s' % meltype].mean(), PC['rp_mu%s' % meltype].std(), fmt='o', color=c1, capsize=0)\n",
    "plt.errorbar(3-0.1, melmeans.loc['RPA', :].mean(), melmeans.loc['RPA', :].std(), fmt='o', color=c2, capsize=0)\n",
    "\n",
    "plt.errorbar(4+0.1, PC['rc_mu%s' % meltype].mean(), PC['rc_mu%s' % meltype].std(), fmt='o', color=c1, capsize=0)\n",
    "plt.errorbar(4-0.1, melmeans.loc['RCA', :].mean(), melmeans.loc['RCA', :].std(), fmt='o', color=c2, capsize=0)\n",
    "\n",
    "plt.xlim([0.5,7.5])\n",
    "plt.ylim([0,1])\n",
    "lgd = plt.legend(loc=4, fontsize=12, frameon=True)\n",
    "lgd.get_frame().set_edgecolor('k')\n",
    "plt.title(\"Melody 1\", fontsize=12)\n",
    "plt.xticks([1,2,3,4,5,6,7], ('VR','VFA','RPA','RCA','OA','OA-V','OA-I'), fontsize=12)\n",
    "\n",
    "####################\n",
    "meltype=2\n",
    "olap=0.5\n",
    "\n",
    "olap_dir = \"olap_%s\" % olap\n",
    "mel_dir = \"/Users/rachelbittner/Desktop/exper_output/ver1/CC_exper_mel%s\" % meltype\n",
    "melscore_dat = {}\n",
    "melscore_var = {}\n",
    "voc_scores_mean = {}\n",
    "inst_scores_mean = {}\n",
    "\n",
    "for split in splits.keys():\n",
    "    split_dir = \"splitnum_%s\" % split\n",
    "    temp_path = os.path.join(mel_dir, split_dir, olap_dir)\n",
    "    \n",
    "    mel_score_fpath = os.path.join(temp_path, \"mel_score_summary.csv\")\n",
    "    temp_df = pd.read_csv(mel_score_fpath, index_col=0)\n",
    "    melscore_dat[split] = temp_df.iloc[1, :].convert_objects(convert_numeric=True)\n",
    "    melscore_var[split] = temp_df.iloc[2, :].convert_objects(convert_numeric=True)\n",
    "    \n",
    "    all_mels_fpath = os.path.join(temp_path, \"all_mel_scores.csv\")\n",
    "    temp_df = pd.read_csv(all_mels_fpath, index_col=0)\n",
    "    test = splits[split]['test']\n",
    "    temp_df = temp_df.loc[test, :]\n",
    "    voc_scores_mean[split] = temp_df.loc[voc, 'OA'].mean()\n",
    "    inst_scores_mean[split] = temp_df.loc[inst, 'OA'].mean()\n",
    "\n",
    "melmeans = pd.concat(melscore_dat, axis=1)\n",
    "melstd = pd.concat(melscore_var, axis=1)\n",
    "melscore_dict_avg = pd.concat(melscore_dat).groupby(level=0).mean()\n",
    "melscore_dict_std = pd.concat(melscore_dat).groupby(level=0).std()\n",
    "\n",
    "plt.subplot(1,2,2)\n",
    "\n",
    "plt.errorbar(7-0.1, np.mean(inst_scores_mean.values()), np.std(inst_scores_mean.values()), fmt='o', color=c2, capsize=0)\n",
    "plt.errorbar(7+0.1, OA_inst['oa_mu%s' % meltype].mean(), OA_inst['oa_mu%s' % meltype].std(), fmt='o', color=c1, capsize=0)\n",
    "\n",
    "plt.errorbar(6-0.1, np.mean(voc_scores_mean.values()), np.std(voc_scores_mean.values()), fmt='o', color=c2, capsize=0)\n",
    "plt.errorbar(6+0.1, OA_voc['oa_mu%s' % meltype].mean(), OA_voc['oa_mu%s' % meltype].std(), fmt='o', color=c1, capsize=0)\n",
    "\n",
    "plt.errorbar(5-0.1, melmeans.loc['OA', :].mean(), melmeans.loc['OA', :].std(), fmt='o', color=c2, capsize=0, label=\"Proposed Method\")\n",
    "plt.errorbar(5+0.1, OA['oa_mu%s' % meltype].mean(), OA['oa_mu%s' % meltype].std(), fmt='o', color=c1, capsize=0, label=\"Melodia\")\n",
    "\n",
    "plt.errorbar(1+0.1, RFA['vr_mu%s' % meltype].mean(), RFA['vr_mu%s' % meltype].std(), fmt='o', color=c1, capsize=0)\n",
    "plt.errorbar(1-0.1, melmeans.loc['VR', :].mean(), melmeans.loc['VR', :].std(), fmt='o', color=c2, capsize=0)\n",
    "\n",
    "plt.errorbar(2+0.1, RFA['vfa_mu%s' % meltype].mean(), RFA['vfa_mu%s'  % meltype].std(), fmt='o', color=c1, capsize=0)\n",
    "plt.errorbar(2-0.1, melmeans.loc['VFA', :].mean(), melmeans.loc['VFA', :].std(), fmt='o', color=c2, capsize=0)\n",
    "\n",
    "plt.errorbar(3+0.1, PC['rp_mu%s' % meltype].mean(), PC['rp_mu%s' % meltype].std(), fmt='o', color=c1, capsize=0)\n",
    "plt.errorbar(3-0.1, melmeans.loc['RPA', :].mean(), melmeans.loc['RPA', :].std(), fmt='o', color=c2, capsize=0)\n",
    "\n",
    "plt.errorbar(4+0.1, PC['rc_mu%s' % meltype].mean(), PC['rc_mu%s' % meltype].std(), fmt='o', color=c1, capsize=0)\n",
    "plt.errorbar(4-0.1, melmeans.loc['RCA', :].mean(), melmeans.loc['RCA', :].std(), fmt='o', color=c2, capsize=0)\n",
    "\n",
    "plt.xlim([0.5,7.5])\n",
    "plt.ylim([0,1])\n",
    "lgd = plt.legend(loc=4, fontsize=12, frameon=True)\n",
    "lgd.get_frame().set_edgecolor('k')\n",
    "plt.title('Melody 2', fontsize=12)\n",
    "plt.xticks([1,2,3,4,5,6,7], ('VR','VFA','RPA','RCA','OA','OA-V','OA-I'), fontsize=12)\n",
    "plt.tick_params(axis='y', which='both', bottom='off', top='off', labelleft='off')\n",
    "fig.tight_layout()\n",
    "\n",
    "plt.savefig('/Users/rachelbittner/Desktop/melodia_v_clf.eps', format='eps')"
   ]
  },
  {
   "cell_type": "code",
   "execution_count": 1,
   "metadata": {
    "collapsed": false
   },
   "outputs": [
    {
     "ename": "NameError",
     "evalue": "name 'melmeans' is not defined",
     "output_type": "error",
     "traceback": [
      "\u001b[0;31m---------------------------------------------------------------------------\u001b[0m\n\u001b[0;31mNameError\u001b[0m                                 Traceback (most recent call last)",
      "\u001b[0;32m<ipython-input-1-a58cae623c3b>\u001b[0m in \u001b[0;36m<module>\u001b[0;34m()\u001b[0m\n\u001b[0;32m----> 1\u001b[0;31m \u001b[0mmelmeans\u001b[0m\u001b[0;34m\u001b[0m\u001b[0m\n\u001b[0m",
      "\u001b[0;31mNameError\u001b[0m: name 'melmeans' is not defined"
     ]
    }
   ],
   "source": [
    "melmeans"
   ]
  },
  {
   "cell_type": "code",
   "execution_count": null,
   "metadata": {
    "collapsed": false
   },
   "outputs": [],
   "source": []
  }
 ],
 "metadata": {
  "kernelspec": {
   "display_name": "Python 3",
   "language": "python",
   "name": "python3"
  },
  "language_info": {
   "codemirror_mode": {
    "name": "ipython",
    "version": 3
   },
   "file_extension": ".py",
   "mimetype": "text/x-python",
   "name": "python",
   "nbconvert_exporter": "python",
   "pygments_lexer": "ipython3",
   "version": "3.5.2"
  }
 },
 "nbformat": 4,
 "nbformat_minor": 0
}
