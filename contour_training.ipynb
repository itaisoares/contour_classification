{
 "cells": [
  {
   "cell_type": "code",
   "execution_count": 1,
   "metadata": {
    "collapsed": false
   },
   "outputs": [],
   "source": [
    "from src import contour_utils as cc\n",
    "from src import experiment_utils as eu\n",
    "from src import mv_gaussian as mv\n",
    "from src import clf_utils as cu\n",
    "from src import generate_melody as gm\n",
    "from sklearn.ensemble import RandomForestClassifier as RFC\n",
    "from sklearn.cross_validation import KFold\n",
    "from sklearn import cross_validation\n",
    "from sklearn import metrics\n",
    "import sklearn\n",
    "import pandas as pd\n",
    "import numpy as np\n",
    "import random\n",
    "import glob\n",
    "import os\n",
    "import json\n",
    "import importlib\n",
    "import matplotlib.pyplot as plt\n",
    "%matplotlib inline\n",
    "import seaborn as sns\n",
    "sns.set()\n",
    "from scipy.stats import boxcox"
   ]
  },
  {
   "cell_type": "markdown",
   "metadata": {},
   "source": [
    "### Create train/test split"
   ]
  },
  {
   "cell_type": "markdown",
   "metadata": {},
   "source": [
    "Splits are chosen such that each split contains unique artists."
   ]
  },
  {
   "cell_type": "code",
   "execution_count": 2,
   "metadata": {
    "collapsed": false
   },
   "outputs": [
    {
     "name": "stdout",
     "output_type": "stream",
     "text": [
      "Generating features...                                                                                      |\n",
      "CelestialShore_DieForUs\n",
      "melodia_contours/CelestialShore_DieForUs_MIX_vamp_melodia-contours_melodia-contours_contoursall.csv\n"
     ]
    },
    {
     "ename": "OSError",
     "evalue": "File b'melodia_contours/CelestialShore_DieForUs_MIX_vamp_melodia-contours_melodia-contours_contoursall.csv' does not exist",
     "output_type": "error",
     "traceback": [
      "\u001b[0;31m---------------------------------------------------------------------------\u001b[0m",
      "\u001b[0;31mOSError\u001b[0m                                   Traceback (most recent call last)",
      "\u001b[0;32m<ipython-input-2-f00fbeccf6a1>\u001b[0m in \u001b[0;36m<module>\u001b[0;34m()\u001b[0m\n\u001b[1;32m      9\u001b[0m \u001b[0mmdb_files\u001b[0m\u001b[0;34m,\u001b[0m \u001b[0msplitter\u001b[0m \u001b[0;34m=\u001b[0m \u001b[0meu\u001b[0m\u001b[0;34m.\u001b[0m\u001b[0mcreate_splits\u001b[0m\u001b[0;34m(\u001b[0m\u001b[0mtest_size\u001b[0m\u001b[0;34m=\u001b[0m\u001b[0;36m0.15\u001b[0m\u001b[0;34m)\u001b[0m\u001b[0;34m\u001b[0m\u001b[0m\n\u001b[1;32m     10\u001b[0m \u001b[0;34m\u001b[0m\u001b[0m\n\u001b[0;32m---> 11\u001b[0;31m \u001b[0mdset_contour_dict\u001b[0m\u001b[0;34m,\u001b[0m \u001b[0mdset_annot_dict\u001b[0m \u001b[0;34m=\u001b[0m         \u001b[0meu\u001b[0m\u001b[0;34m.\u001b[0m\u001b[0mcompute_all_overlaps\u001b[0m\u001b[0;34m(\u001b[0m\u001b[0mtrack_list\u001b[0m\u001b[0;34m,\u001b[0m \u001b[0mmeltype\u001b[0m\u001b[0;34m=\u001b[0m\u001b[0;36m2\u001b[0m\u001b[0;34m)\u001b[0m\u001b[0;34m\u001b[0m\u001b[0m\n\u001b[0m\u001b[1;32m     12\u001b[0m \u001b[0;34m\u001b[0m\u001b[0m\n\u001b[1;32m     13\u001b[0m \u001b[0mmdb_files\u001b[0m\u001b[0;34m,\u001b[0m \u001b[0msplitter\u001b[0m \u001b[0;34m=\u001b[0m \u001b[0meu\u001b[0m\u001b[0;34m.\u001b[0m\u001b[0mcreate_splits\u001b[0m\u001b[0;34m(\u001b[0m\u001b[0mtest_size\u001b[0m\u001b[0;34m=\u001b[0m\u001b[0;36m0.15\u001b[0m\u001b[0;34m)\u001b[0m\u001b[0;34m\u001b[0m\u001b[0m\n",
      "\u001b[0;32m/Volumes/Dados/Google Drive/Estudos/Mestrado/workspace/python/contour_classification/src/experiment_utils.py\u001b[0m in \u001b[0;36mcompute_all_overlaps\u001b[0;34m(track_list, meltype)\u001b[0m\n\u001b[1;32m    105\u001b[0m \u001b[0;34m\u001b[0m\u001b[0m\n\u001b[1;32m    106\u001b[0m     \u001b[0;32mfor\u001b[0m \u001b[0mtrack\u001b[0m \u001b[0;32min\u001b[0m \u001b[0mtrack_list\u001b[0m\u001b[0;34m:\u001b[0m\u001b[0;34m\u001b[0m\u001b[0m\n\u001b[0;32m--> 107\u001b[0;31m         \u001b[0mcdat\u001b[0m\u001b[0;34m,\u001b[0m \u001b[0madat\u001b[0m \u001b[0;34m=\u001b[0m \u001b[0mget_data_files\u001b[0m\u001b[0;34m(\u001b[0m\u001b[0mtrack\u001b[0m\u001b[0;34m,\u001b[0m \u001b[0mmeltype\u001b[0m\u001b[0;34m=\u001b[0m\u001b[0mmeltype\u001b[0m\u001b[0;34m)\u001b[0m\u001b[0;34m\u001b[0m\u001b[0m\n\u001b[0m\u001b[1;32m    108\u001b[0m         \u001b[0mdset_annot_dict\u001b[0m\u001b[0;34m[\u001b[0m\u001b[0mtrack\u001b[0m\u001b[0;34m]\u001b[0m \u001b[0;34m=\u001b[0m \u001b[0madat\u001b[0m\u001b[0;34m.\u001b[0m\u001b[0mcopy\u001b[0m\u001b[0;34m(\u001b[0m\u001b[0;34m)\u001b[0m\u001b[0;34m\u001b[0m\u001b[0m\n\u001b[1;32m    109\u001b[0m         \u001b[0mdset_contour_dict\u001b[0m\u001b[0;34m[\u001b[0m\u001b[0mtrack\u001b[0m\u001b[0;34m]\u001b[0m \u001b[0;34m=\u001b[0m \u001b[0mcc\u001b[0m\u001b[0;34m.\u001b[0m\u001b[0mcompute_overlap\u001b[0m\u001b[0;34m(\u001b[0m\u001b[0mcdat\u001b[0m\u001b[0;34m,\u001b[0m \u001b[0madat\u001b[0m\u001b[0;34m)\u001b[0m\u001b[0;34m\u001b[0m\u001b[0m\n",
      "\u001b[0;32m/Volumes/Dados/Google Drive/Estudos/Mestrado/workspace/python/contour_classification/src/experiment_utils.py\u001b[0m in \u001b[0;36mget_data_files\u001b[0;34m(track, meltype)\u001b[0m\n\u001b[1;32m     73\u001b[0m     \u001b[0mannot_fpath\u001b[0m \u001b[0;34m=\u001b[0m \u001b[0mos\u001b[0m\u001b[0;34m.\u001b[0m\u001b[0mpath\u001b[0m\u001b[0;34m.\u001b[0m\u001b[0mjoin\u001b[0m\u001b[0;34m(\u001b[0m\u001b[0mannot_path\u001b[0m\u001b[0;34m,\u001b[0m \u001b[0mannot_fname\u001b[0m\u001b[0;34m)\u001b[0m\u001b[0;34m\u001b[0m\u001b[0m\n\u001b[1;32m     74\u001b[0m \u001b[0;34m\u001b[0m\u001b[0m\n\u001b[0;32m---> 75\u001b[0;31m     \u001b[0mcdat\u001b[0m \u001b[0;34m=\u001b[0m \u001b[0mcc\u001b[0m\u001b[0;34m.\u001b[0m\u001b[0mload_contour_data\u001b[0m\u001b[0;34m(\u001b[0m\u001b[0mcontour_fpath\u001b[0m\u001b[0;34m,\u001b[0m \u001b[0mnormalize\u001b[0m\u001b[0;34m=\u001b[0m\u001b[0;32mTrue\u001b[0m\u001b[0;34m)\u001b[0m\u001b[0;34m\u001b[0m\u001b[0m\n\u001b[0m\u001b[1;32m     76\u001b[0m     \u001b[0madat\u001b[0m \u001b[0;34m=\u001b[0m \u001b[0mcc\u001b[0m\u001b[0;34m.\u001b[0m\u001b[0mload_annotation\u001b[0m\u001b[0;34m(\u001b[0m\u001b[0mannot_fpath\u001b[0m\u001b[0;34m)\u001b[0m\u001b[0;34m\u001b[0m\u001b[0m\n\u001b[1;32m     77\u001b[0m \u001b[0;34m\u001b[0m\u001b[0m\n",
      "\u001b[0;32m/Volumes/Dados/Google Drive/Estudos/Mestrado/workspace/python/contour_classification/src/contour_utils.py\u001b[0m in \u001b[0;36mload_contour_data\u001b[0;34m(fpath, normalize)\u001b[0m\n\u001b[1;32m     25\u001b[0m     \u001b[0mprint\u001b[0m\u001b[0;34m(\u001b[0m\u001b[0mfpath\u001b[0m\u001b[0;34m)\u001b[0m\u001b[0;34m\u001b[0m\u001b[0m\n\u001b[1;32m     26\u001b[0m     contour_data = pd.read_csv(fpath, header=None, index_col=None,\n\u001b[0;32m---> 27\u001b[0;31m                                delimiter=',')\n\u001b[0m\u001b[1;32m     28\u001b[0m     \u001b[0;32mdel\u001b[0m \u001b[0mcontour_data\u001b[0m\u001b[0;34m[\u001b[0m\u001b[0;36m0\u001b[0m\u001b[0;34m]\u001b[0m  \u001b[0;31m# all zeros\u001b[0m\u001b[0;34m\u001b[0m\u001b[0m\n\u001b[1;32m     29\u001b[0m     \u001b[0;32mdel\u001b[0m \u001b[0mcontour_data\u001b[0m\u001b[0;34m[\u001b[0m\u001b[0;36m1\u001b[0m\u001b[0;34m]\u001b[0m  \u001b[0;31m# just an unnecessary  index\u001b[0m\u001b[0;34m\u001b[0m\u001b[0m\n",
      "\u001b[0;32m/Users/itaisoares/anaconda/lib/python3.5/site-packages/pandas/io/parsers.py\u001b[0m in \u001b[0;36mparser_f\u001b[0;34m(filepath_or_buffer, sep, dialect, compression, doublequote, escapechar, quotechar, quoting, skipinitialspace, lineterminator, header, index_col, names, prefix, skiprows, skipfooter, skip_footer, na_values, true_values, false_values, delimiter, converters, dtype, usecols, engine, delim_whitespace, as_recarray, na_filter, compact_ints, use_unsigned, low_memory, buffer_lines, warn_bad_lines, error_bad_lines, keep_default_na, thousands, comment, decimal, parse_dates, keep_date_col, dayfirst, date_parser, memory_map, float_precision, nrows, iterator, chunksize, verbose, encoding, squeeze, mangle_dupe_cols, tupleize_cols, infer_datetime_format, skip_blank_lines)\u001b[0m\n\u001b[1;32m    496\u001b[0m                     skip_blank_lines=skip_blank_lines)\n\u001b[1;32m    497\u001b[0m \u001b[0;34m\u001b[0m\u001b[0m\n\u001b[0;32m--> 498\u001b[0;31m         \u001b[0;32mreturn\u001b[0m \u001b[0m_read\u001b[0m\u001b[0;34m(\u001b[0m\u001b[0mfilepath_or_buffer\u001b[0m\u001b[0;34m,\u001b[0m \u001b[0mkwds\u001b[0m\u001b[0;34m)\u001b[0m\u001b[0;34m\u001b[0m\u001b[0m\n\u001b[0m\u001b[1;32m    499\u001b[0m \u001b[0;34m\u001b[0m\u001b[0m\n\u001b[1;32m    500\u001b[0m     \u001b[0mparser_f\u001b[0m\u001b[0;34m.\u001b[0m\u001b[0m__name__\u001b[0m \u001b[0;34m=\u001b[0m \u001b[0mname\u001b[0m\u001b[0;34m\u001b[0m\u001b[0m\n",
      "\u001b[0;32m/Users/itaisoares/anaconda/lib/python3.5/site-packages/pandas/io/parsers.py\u001b[0m in \u001b[0;36m_read\u001b[0;34m(filepath_or_buffer, kwds)\u001b[0m\n\u001b[1;32m    273\u001b[0m \u001b[0;34m\u001b[0m\u001b[0m\n\u001b[1;32m    274\u001b[0m     \u001b[0;31m# Create the parser.\u001b[0m\u001b[0;34m\u001b[0m\u001b[0;34m\u001b[0m\u001b[0m\n\u001b[0;32m--> 275\u001b[0;31m     \u001b[0mparser\u001b[0m \u001b[0;34m=\u001b[0m \u001b[0mTextFileReader\u001b[0m\u001b[0;34m(\u001b[0m\u001b[0mfilepath_or_buffer\u001b[0m\u001b[0;34m,\u001b[0m \u001b[0;34m**\u001b[0m\u001b[0mkwds\u001b[0m\u001b[0;34m)\u001b[0m\u001b[0;34m\u001b[0m\u001b[0m\n\u001b[0m\u001b[1;32m    276\u001b[0m \u001b[0;34m\u001b[0m\u001b[0m\n\u001b[1;32m    277\u001b[0m     \u001b[0;32mif\u001b[0m \u001b[0;34m(\u001b[0m\u001b[0mnrows\u001b[0m \u001b[0;32mis\u001b[0m \u001b[0;32mnot\u001b[0m \u001b[0;32mNone\u001b[0m\u001b[0;34m)\u001b[0m \u001b[0;32mand\u001b[0m \u001b[0;34m(\u001b[0m\u001b[0mchunksize\u001b[0m \u001b[0;32mis\u001b[0m \u001b[0;32mnot\u001b[0m \u001b[0;32mNone\u001b[0m\u001b[0;34m)\u001b[0m\u001b[0;34m:\u001b[0m\u001b[0;34m\u001b[0m\u001b[0m\n",
      "\u001b[0;32m/Users/itaisoares/anaconda/lib/python3.5/site-packages/pandas/io/parsers.py\u001b[0m in \u001b[0;36m__init__\u001b[0;34m(self, f, engine, **kwds)\u001b[0m\n\u001b[1;32m    588\u001b[0m             \u001b[0mself\u001b[0m\u001b[0;34m.\u001b[0m\u001b[0moptions\u001b[0m\u001b[0;34m[\u001b[0m\u001b[0;34m'has_index_names'\u001b[0m\u001b[0;34m]\u001b[0m \u001b[0;34m=\u001b[0m \u001b[0mkwds\u001b[0m\u001b[0;34m[\u001b[0m\u001b[0;34m'has_index_names'\u001b[0m\u001b[0;34m]\u001b[0m\u001b[0;34m\u001b[0m\u001b[0m\n\u001b[1;32m    589\u001b[0m \u001b[0;34m\u001b[0m\u001b[0m\n\u001b[0;32m--> 590\u001b[0;31m         \u001b[0mself\u001b[0m\u001b[0;34m.\u001b[0m\u001b[0m_make_engine\u001b[0m\u001b[0;34m(\u001b[0m\u001b[0mself\u001b[0m\u001b[0;34m.\u001b[0m\u001b[0mengine\u001b[0m\u001b[0;34m)\u001b[0m\u001b[0;34m\u001b[0m\u001b[0m\n\u001b[0m\u001b[1;32m    591\u001b[0m \u001b[0;34m\u001b[0m\u001b[0m\n\u001b[1;32m    592\u001b[0m     \u001b[0;32mdef\u001b[0m \u001b[0m_get_options_with_defaults\u001b[0m\u001b[0;34m(\u001b[0m\u001b[0mself\u001b[0m\u001b[0;34m,\u001b[0m \u001b[0mengine\u001b[0m\u001b[0;34m)\u001b[0m\u001b[0;34m:\u001b[0m\u001b[0;34m\u001b[0m\u001b[0m\n",
      "\u001b[0;32m/Users/itaisoares/anaconda/lib/python3.5/site-packages/pandas/io/parsers.py\u001b[0m in \u001b[0;36m_make_engine\u001b[0;34m(self, engine)\u001b[0m\n\u001b[1;32m    729\u001b[0m     \u001b[0;32mdef\u001b[0m \u001b[0m_make_engine\u001b[0m\u001b[0;34m(\u001b[0m\u001b[0mself\u001b[0m\u001b[0;34m,\u001b[0m \u001b[0mengine\u001b[0m\u001b[0;34m=\u001b[0m\u001b[0;34m'c'\u001b[0m\u001b[0;34m)\u001b[0m\u001b[0;34m:\u001b[0m\u001b[0;34m\u001b[0m\u001b[0m\n\u001b[1;32m    730\u001b[0m         \u001b[0;32mif\u001b[0m \u001b[0mengine\u001b[0m \u001b[0;34m==\u001b[0m \u001b[0;34m'c'\u001b[0m\u001b[0;34m:\u001b[0m\u001b[0;34m\u001b[0m\u001b[0m\n\u001b[0;32m--> 731\u001b[0;31m             \u001b[0mself\u001b[0m\u001b[0;34m.\u001b[0m\u001b[0m_engine\u001b[0m \u001b[0;34m=\u001b[0m \u001b[0mCParserWrapper\u001b[0m\u001b[0;34m(\u001b[0m\u001b[0mself\u001b[0m\u001b[0;34m.\u001b[0m\u001b[0mf\u001b[0m\u001b[0;34m,\u001b[0m \u001b[0;34m**\u001b[0m\u001b[0mself\u001b[0m\u001b[0;34m.\u001b[0m\u001b[0moptions\u001b[0m\u001b[0;34m)\u001b[0m\u001b[0;34m\u001b[0m\u001b[0m\n\u001b[0m\u001b[1;32m    732\u001b[0m         \u001b[0;32melse\u001b[0m\u001b[0;34m:\u001b[0m\u001b[0;34m\u001b[0m\u001b[0m\n\u001b[1;32m    733\u001b[0m             \u001b[0;32mif\u001b[0m \u001b[0mengine\u001b[0m \u001b[0;34m==\u001b[0m \u001b[0;34m'python'\u001b[0m\u001b[0;34m:\u001b[0m\u001b[0;34m\u001b[0m\u001b[0m\n",
      "\u001b[0;32m/Users/itaisoares/anaconda/lib/python3.5/site-packages/pandas/io/parsers.py\u001b[0m in \u001b[0;36m__init__\u001b[0;34m(self, src, **kwds)\u001b[0m\n\u001b[1;32m   1101\u001b[0m         \u001b[0mkwds\u001b[0m\u001b[0;34m[\u001b[0m\u001b[0;34m'allow_leading_cols'\u001b[0m\u001b[0;34m]\u001b[0m \u001b[0;34m=\u001b[0m \u001b[0mself\u001b[0m\u001b[0;34m.\u001b[0m\u001b[0mindex_col\u001b[0m \u001b[0;32mis\u001b[0m \u001b[0;32mnot\u001b[0m \u001b[0;32mFalse\u001b[0m\u001b[0;34m\u001b[0m\u001b[0m\n\u001b[1;32m   1102\u001b[0m \u001b[0;34m\u001b[0m\u001b[0m\n\u001b[0;32m-> 1103\u001b[0;31m         \u001b[0mself\u001b[0m\u001b[0;34m.\u001b[0m\u001b[0m_reader\u001b[0m \u001b[0;34m=\u001b[0m \u001b[0m_parser\u001b[0m\u001b[0;34m.\u001b[0m\u001b[0mTextReader\u001b[0m\u001b[0;34m(\u001b[0m\u001b[0msrc\u001b[0m\u001b[0;34m,\u001b[0m \u001b[0;34m**\u001b[0m\u001b[0mkwds\u001b[0m\u001b[0;34m)\u001b[0m\u001b[0;34m\u001b[0m\u001b[0m\n\u001b[0m\u001b[1;32m   1104\u001b[0m \u001b[0;34m\u001b[0m\u001b[0m\n\u001b[1;32m   1105\u001b[0m         \u001b[0;31m# XXX\u001b[0m\u001b[0;34m\u001b[0m\u001b[0;34m\u001b[0m\u001b[0m\n",
      "\u001b[0;32mpandas/parser.pyx\u001b[0m in \u001b[0;36mpandas.parser.TextReader.__cinit__ (pandas/parser.c:3246)\u001b[0;34m()\u001b[0m\n",
      "\u001b[0;32mpandas/parser.pyx\u001b[0m in \u001b[0;36mpandas.parser.TextReader._setup_parser_source (pandas/parser.c:6111)\u001b[0;34m()\u001b[0m\n",
      "\u001b[0;31mOSError\u001b[0m: File b'melodia_contours/CelestialShore_DieForUs_MIX_vamp_melodia-contours_melodia-contours_contoursall.csv' does not exist"
     ]
    }
   ],
   "source": [
    "mel_type=1\n",
    "\n",
    "importlib.reload(eu)\n",
    "\n",
    "with open('test_data/melody_trackids.json', 'r') as fhandle:\n",
    "    track_list = json.load(fhandle)\n",
    "track_list = track_list['tracks']\n",
    "\n",
    "mdb_files, splitter = eu.create_splits(test_size=0.15)\n",
    "\n",
    "dset_contour_dict, dset_annot_dict = \\\n",
    "        eu.compute_all_overlaps(track_list, meltype=2)\n",
    "\n",
    "mdb_files, splitter = eu.create_splits(test_size=0.15)\n",
    "\n",
    "for train, test in splitter:\n",
    "    random.shuffle(train)\n",
    "    n_train = len(train) - (len(test)/2)\n",
    "    train_tracks = mdb_files[train[:n_train]]\n",
    "    valid_tracks = mdb_files[train[n_train:]]\n",
    "    test_tracks = mdb_files[test]\n",
    "    break\n",
    "    \n",
    "train_contour_dict = {k: dset_contour_dict[k] for k in train_tracks}\n",
    "valid_contour_dict = {k: dset_contour_dict[k] for k in valid_tracks}\n",
    "test_contour_dict = {k: dset_contour_dict[k] for k in test_tracks}\n",
    "\n",
    "train_annot_dict = {k: dset_annot_dict[k] for k in train_tracks}\n",
    "valid_annot_dict = {k: dset_annot_dict[k] for k in valid_tracks}\n",
    "test_annot_dict = {k: dset_annot_dict[k] for k in test_tracks}"
   ]
  },
  {
   "cell_type": "markdown",
   "metadata": {},
   "source": [
    "### Split out features and compute labels"
   ]
  },
  {
   "cell_type": "markdown",
   "metadata": {},
   "source": [
    "#### Compute overlap statistics of contours with partial overlap"
   ]
  },
  {
   "cell_type": "code",
   "execution_count": 4,
   "metadata": {
    "collapsed": false
   },
   "outputs": [],
   "source": [
    "importlib.reload(eu)\n",
    "olap_stats, zero_olap_stats = eu.olap_stats(train_contour_dict)"
   ]
  },
  {
   "cell_type": "markdown",
   "metadata": {},
   "source": [
    "#### Compute Labels using Overlap Threshold"
   ]
  },
  {
   "cell_type": "code",
   "execution_count": 5,
   "metadata": {
    "collapsed": false
   },
   "outputs": [],
   "source": [
    "OLAP_THRESH = 0.5\n",
    "train_contour_dict, valid_contour_dict, test_contour_dict = \\\n",
    "    eu.label_all_contours(train_contour_dict, valid_contour_dict, \\\n",
    "                          test_contour_dict, olap_thresh=OLAP_THRESH)"
   ]
  },
  {
   "cell_type": "code",
   "execution_count": 6,
   "metadata": {
    "collapsed": false
   },
   "outputs": [],
   "source": [
    "X_train, Y_train = cc.pd_to_sklearn(train_contour_dict)\n",
    "X_valid, Y_valid = cc.pd_to_sklearn(valid_contour_dict)\n",
    "X_test, Y_test = cc.pd_to_sklearn(test_contour_dict)"
   ]
  },
  {
   "cell_type": "markdown",
   "metadata": {},
   "source": [
    "### Score with Multivariate Gaussian"
   ]
  },
  {
   "cell_type": "markdown",
   "metadata": {},
   "source": [
    "Transform data using boxcox transform, and fit multivariate gaussians."
   ]
  },
  {
   "cell_type": "code",
   "execution_count": 7,
   "metadata": {
    "collapsed": false
   },
   "outputs": [],
   "source": [
    "X_train_boxcox, X_test_boxcox = mv.transform_features(X_train, X_test)\n",
    "rv_pos, rv_neg = mv.fit_gaussians(X_train_boxcox, Y_train)"
   ]
  },
  {
   "cell_type": "markdown",
   "metadata": {},
   "source": [
    "Compute melodiness scores on train and test set"
   ]
  },
  {
   "cell_type": "code",
   "execution_count": 8,
   "metadata": {
    "collapsed": false
   },
   "outputs": [],
   "source": [
    "M_train, M_test = mv.compute_all_melodiness(X_train_boxcox, X_test_boxcox, rv_pos, rv_neg)"
   ]
  },
  {
   "cell_type": "markdown",
   "metadata": {},
   "source": [
    "Compute various metrics based on melodiness scores."
   ]
  },
  {
   "cell_type": "code",
   "execution_count": 31,
   "metadata": {
    "collapsed": false
   },
   "outputs": [
    {
     "name": "stdout",
     "output_type": "stream",
     "text": [
      "max prediction value = 480.961144402\n",
      "min prediction value = 3.11328060769e-06\n"
     ]
    },
    {
     "data": {
      "image/png": "[encoded data removed]",
      "text/plain": [
       "<matplotlib.figure.Figure at 0x14ab61a90>"
      ]
     },
     "metadata": {},
     "output_type": "display_data"
    },
    {
     "name": "stdout",
     "output_type": "stream",
     "text": [
      "besth threshold = 0.910846244607\n",
      "maximum achieved f score = 0.487888707038\n",
      "{'test': {'auc score': 0.7238952696657619, 'confusion matrix': array([[10678,  4280],\n",
      "       [ 1798,  2879]]), 'accuracy': 0.69045072574484334}, 'train': {'auc score': 0.81310072891815677, 'confusion matrix': array([[39890, 14215],\n",
      "       [ 3331,  9435]]), 'accuracy': 0.73761421243887482}}\n"
     ]
    }
   ],
   "source": [
    "importlib.reload(mv)\n",
    "importlib.reload(eu)\n",
    "melodiness_scores = mv.melodiness_metrics(M_train, M_test, Y_train, Y_test)\n",
    "best_thresh, max_fscore = eu.get_best_threshold(Y_test, M_test)\n",
    "print (\"besth threshold = %s\" % best_thresh)\n",
    "print (\"maximum achieved f score = %s\" % max_fscore)\n",
    "print (melodiness_scores)"
   ]
  },
  {
   "cell_type": "markdown",
   "metadata": {},
   "source": [
    "### Train Classifier"
   ]
  },
  {
   "cell_type": "markdown",
   "metadata": {},
   "source": [
    "#### Cross Validation"
   ]
  },
  {
   "cell_type": "code",
   "execution_count": 306,
   "metadata": {
    "collapsed": false
   },
   "outputs": [
    {
     "name": "stdout",
     "output_type": "stream",
     "text": [
      "training with max_depth=5\n",
      "training with max_depth=10\n",
      "training with max_depth=15\n",
      "training with max_depth=20\n",
      "training with max_depth=25\n",
      "training with max_depth=30\n",
      "training with max_depth=35\n",
      "training with max_depth=40\n",
      "training with max_depth=45\n",
      "training with max_depth=50\n",
      "training with max_depth=55\n",
      "training with max_depth=60\n",
      "training with max_depth=65\n",
      "training with max_depth=70\n",
      "training with max_depth=75\n",
      "training with max_depth=80\n",
      "training with max_depth=85\n",
      "training with max_depth=90\n",
      "training with max_depth=95\n"
     ]
    },
    {
     "data": {
      "image/png": "[encoded data removed]",
      "text/plain": [
       "<matplotlib.figure.Figure at 0x1455f5a10>"
      ]
     },
     "metadata": {},
     "output_type": "display_data"
    },
    {
     "name": "stdout",
     "output_type": "stream",
     "text": [
      "30\n",
      "0.836820229515\n"
     ]
    }
   ],
   "source": [
    "importlib.reload(cu)\n",
    "best_depth, max_cv_accuracy, plot_dat = cu.cross_val_sweep(X_train, Y_train)\n",
    "print (best_depth)\n",
    "print (max_cv_accuracy)"
   ]
  },
  {
   "cell_type": "code",
   "execution_count": 313,
   "metadata": {
    "collapsed": false
   },
   "outputs": [
    {
     "data": {
      "text/html": [
       "<div style=\"max-height:1000px;max-width:1500px;overflow:auto;\">\n",
       "<table border=\"1\" class=\"dataframe\">\n",
       "  <thead>\n",
       "    <tr style=\"text-align: right;\">\n",
       "      <th></th>\n",
       "      <th>max depth</th>\n",
       "      <th>accuracy</th>\n",
       "      <th>std</th>\n",
       "    </tr>\n",
       "  </thead>\n",
       "  <tbody>\n",
       "    <tr>\n",
       "      <th>0</th>\n",
       "      <td>5</td>\n",
       "      <td>0.734026</td>\n",
       "      <td>0.035246</td>\n",
       "    </tr>\n",
       "    <tr>\n",
       "      <th>1</th>\n",
       "      <td>10</td>\n",
       "      <td>0.772233</td>\n",
       "      <td>0.029862</td>\n",
       "    </tr>\n",
       "    <tr>\n",
       "      <th>2</th>\n",
       "      <td>15</td>\n",
       "      <td>0.809903</td>\n",
       "      <td>0.024414</td>\n",
       "    </tr>\n",
       "    <tr>\n",
       "      <th>3</th>\n",
       "      <td>20</td>\n",
       "      <td>0.831242</td>\n",
       "      <td>0.019259</td>\n",
       "    </tr>\n",
       "    <tr>\n",
       "      <th>4</th>\n",
       "      <td>25</td>\n",
       "      <td>0.835160</td>\n",
       "      <td>0.016312</td>\n",
       "    </tr>\n",
       "    <tr>\n",
       "      <th>5</th>\n",
       "      <td>30</td>\n",
       "      <td>0.836820</td>\n",
       "      <td>0.015206</td>\n",
       "    </tr>\n",
       "    <tr>\n",
       "      <th>6</th>\n",
       "      <td>35</td>\n",
       "      <td>0.835175</td>\n",
       "      <td>0.014558</td>\n",
       "    </tr>\n",
       "    <tr>\n",
       "      <th>7</th>\n",
       "      <td>40</td>\n",
       "      <td>0.835773</td>\n",
       "      <td>0.013879</td>\n",
       "    </tr>\n",
       "    <tr>\n",
       "      <th>8</th>\n",
       "      <td>45</td>\n",
       "      <td>0.836357</td>\n",
       "      <td>0.014542</td>\n",
       "    </tr>\n",
       "    <tr>\n",
       "      <th>9</th>\n",
       "      <td>50</td>\n",
       "      <td>0.835863</td>\n",
       "      <td>0.015028</td>\n",
       "    </tr>\n",
       "    <tr>\n",
       "      <th>10</th>\n",
       "      <td>55</td>\n",
       "      <td>0.835833</td>\n",
       "      <td>0.014388</td>\n",
       "    </tr>\n",
       "    <tr>\n",
       "      <th>11</th>\n",
       "      <td>60</td>\n",
       "      <td>0.835100</td>\n",
       "      <td>0.014228</td>\n",
       "    </tr>\n",
       "    <tr>\n",
       "      <th>12</th>\n",
       "      <td>65</td>\n",
       "      <td>0.835459</td>\n",
       "      <td>0.014344</td>\n",
       "    </tr>\n",
       "    <tr>\n",
       "      <th>13</th>\n",
       "      <td>70</td>\n",
       "      <td>0.835609</td>\n",
       "      <td>0.015132</td>\n",
       "    </tr>\n",
       "    <tr>\n",
       "      <th>14</th>\n",
       "      <td>75</td>\n",
       "      <td>0.835639</td>\n",
       "      <td>0.014471</td>\n",
       "    </tr>\n",
       "    <tr>\n",
       "      <th>15</th>\n",
       "      <td>80</td>\n",
       "      <td>0.836536</td>\n",
       "      <td>0.015086</td>\n",
       "    </tr>\n",
       "    <tr>\n",
       "      <th>16</th>\n",
       "      <td>85</td>\n",
       "      <td>0.835609</td>\n",
       "      <td>0.014701</td>\n",
       "    </tr>\n",
       "    <tr>\n",
       "      <th>17</th>\n",
       "      <td>90</td>\n",
       "      <td>0.836147</td>\n",
       "      <td>0.014771</td>\n",
       "    </tr>\n",
       "    <tr>\n",
       "      <th>18</th>\n",
       "      <td>95</td>\n",
       "      <td>0.835833</td>\n",
       "      <td>0.014152</td>\n",
       "    </tr>\n",
       "  </tbody>\n",
       "</table>\n",
       "</div>"
      ],
      "text/plain": [
       "    max depth  accuracy       std\n",
       "0           5  0.734026  0.035246\n",
       "1          10  0.772233  0.029862\n",
       "2          15  0.809903  0.024414\n",
       "3          20  0.831242  0.019259\n",
       "4          25  0.835160  0.016312\n",
       "5          30  0.836820  0.015206\n",
       "6          35  0.835175  0.014558\n",
       "7          40  0.835773  0.013879\n",
       "8          45  0.836357  0.014542\n",
       "9          50  0.835863  0.015028\n",
       "10         55  0.835833  0.014388\n",
       "11         60  0.835100  0.014228\n",
       "12         65  0.835459  0.014344\n",
       "13         70  0.835609  0.015132\n",
       "14         75  0.835639  0.014471\n",
       "15         80  0.836536  0.015086\n",
       "16         85  0.835609  0.014701\n",
       "17         90  0.836147  0.014771\n",
       "18         95  0.835833  0.014152"
      ]
     },
     "execution_count": 313,
     "metadata": {},
     "output_type": "execute_result"
    }
   ],
   "source": [
    "df = pd.DataFrame(np.array(plot_dat).transpose(), columns=['max depth', 'accuracy', 'std'])\n",
    "df"
   ]
  },
  {
   "cell_type": "markdown",
   "metadata": {},
   "source": [
    "#### Training"
   ]
  },
  {
   "cell_type": "code",
   "execution_count": 33,
   "metadata": {
    "collapsed": false
   },
   "outputs": [],
   "source": [
    "clf = cu.train_clf(X_train, Y_train, best_depth)"
   ]
  },
  {
   "cell_type": "markdown",
   "metadata": {},
   "source": [
    "#### Predict and Score"
   ]
  },
  {
   "cell_type": "code",
   "execution_count": 305,
   "metadata": {
    "collapsed": false
   },
   "outputs": [
    {
     "name": "stdout",
     "output_type": "stream",
     "text": [
      "{'f1': array([ 0.86423152,  0.32573686]), 'recall': array([ 0.94431074,  0.22920676]), 'support': array([14958,  4677]), 'mcc': 0.24972490489355906, 'precision': array([ 0.79667231,  0.56272966]), 'auc score': 0.72591522244752704, 'confusion matrix': array([[14125,   833],\n",
      "       [ 3605,  1072]]), 'accuracy': 0.77397504456327981}\n"
     ]
    }
   ],
   "source": [
    "importlib.reload(cu)\n",
    "P_train, P_valid, P_test = cu.clf_predictions(X_train, X_valid, X_test, clf)\n",
    "clf_scores = cu.clf_metrics(P_train, P_test, Y_train, Y_test)\n",
    "print (clf_scores['test'])"
   ]
  },
  {
   "cell_type": "markdown",
   "metadata": {},
   "source": [
    "#### Get threshold that maximizes F1 score"
   ]
  },
  {
   "cell_type": "code",
   "execution_count": 42,
   "metadata": {
    "collapsed": false,
    "scrolled": true
   },
   "outputs": [
    {
     "name": "stdout",
     "output_type": "stream",
     "text": [
      "max prediction value = 1.0\n",
      "min prediction value = 0.0\n"
     ]
    },
    {
     "data": {
      "image/png": "[encoded data removed]",
      "text/plain": [
       "<matplotlib.figure.Figure at 0x10aa3bdd0>"
      ]
     },
     "metadata": {},
     "output_type": "display_data"
    },
    {
     "name": "stdout",
     "output_type": "stream",
     "text": [
      "besth threshold = 0.09\n",
      "maximum achieved f score = 0.691807179184\n"
     ]
    }
   ],
   "source": [
    "importlib.reload(eu)\n",
    "best_thresh, max_fscore = eu.get_best_threshold(Y_valid, P_valid)\n",
    "print (\"besth threshold = %s\" % best_thresh)\n",
    "print (\"maximum achieved f score = %s\" % max_fscore)"
   ]
  },
  {
   "cell_type": "markdown",
   "metadata": {},
   "source": [
    "### Generate Melody Output"
   ]
  },
  {
   "cell_type": "markdown",
   "metadata": {},
   "source": [
    "#### Add predicted melody probabilites to test set contour data"
   ]
  },
  {
   "cell_type": "code",
   "execution_count": 43,
   "metadata": {
    "collapsed": false
   },
   "outputs": [],
   "source": [
    "for key in test_contour_dict.keys():\n",
    "    test_contour_dict[key] = eu.contour_probs(clf, test_contour_dict[key])"
   ]
  },
  {
   "cell_type": "markdown",
   "metadata": {},
   "source": [
    "#### Generate melody output using predictions"
   ]
  },
  {
   "cell_type": "code",
   "execution_count": 295,
   "metadata": {
    "collapsed": false
   },
   "outputs": [
    {
     "name": "stdout",
     "output_type": "stream",
     "text": [
      "MusicDelta_Country1\n",
      "Handel_TornamiAVagheggiar\n",
      "Mozart_BesterJungling\n",
      "Schubert_Erstarrung\n",
      "MusicDelta_Britpop\n",
      "SweetLights_YouLetMeDown\n",
      "MusicDelta_Pachelbel\n",
      "ChrisJacoby_PigsFoot\n",
      "Mozart_DiesBildnis\n",
      "MatthewEntwistle_TheArch\n",
      "MusicDelta_ModalJazz\n",
      "MatthewEntwistle_DontYouEver\n",
      "Schumann_Mignon\n",
      "MatthewEntwistle_FairerHopes\n",
      "Wolf_DieBekherte\n",
      "Debussy_LenfantProdigue\n",
      "MatthewEntwistle_Lontano\n",
      "ChrisJacoby_BoothShotLincoln\n",
      "MatthewEntwistle_ImpressionsOfSaturn\n",
      "MusicDelta_Gospel\n",
      "HezekiahJones_BorrowedHeart\n",
      "MatthewEntwistle_TheFlaxenField\n",
      "MusicDelta_CoolJazz\n"
     ]
    }
   ],
   "source": [
    "importlib.reload(gm)\n",
    "mel_output_dict = {}\n",
    "for i, key in enumerate(test_contour_dict.keys()):\n",
    "    print (key)\n",
    "    mel_output_dict[key] = gm.melody_from_clf(test_contour_dict[key], prob_thresh=best_thresh)"
   ]
  },
  {
   "cell_type": "code",
   "execution_count": 301,
   "metadata": {
    "collapsed": false
   },
   "outputs": [
    {
     "data": {
      "image/png": "[encoded data removed]",
      "text/plain": [
       "<matplotlib.figure.Figure at 0x13e3f5d90>"
      ]
     },
     "metadata": {},
     "output_type": "display_data"
    }
   ],
   "source": [
    "key=\"ChrisJacoby_PigsFoot\"\n",
    "df = mel_output_dict[key]\n",
    "df_pos = df[df > 0]\n",
    "df_zero = df[df == 0]\n",
    "df_neg = df[df < 0]\n",
    "plt.plot(df_pos.index, df_pos.values, ',g')\n",
    "plt.plot(df_zero.index, df_zero.values, ',y')\n",
    "plt.plot(df_neg.index, -1.0*df_neg.values, ',r')\n",
    "plt.show()"
   ]
  },
  {
   "cell_type": "markdown",
   "metadata": {},
   "source": [
    "### Score Melody Output"
   ]
  },
  {
   "cell_type": "code",
   "execution_count": 297,
   "metadata": {
    "collapsed": false
   },
   "outputs": [
    {
     "name": "stdout",
     "output_type": "stream",
     "text": [
      "Scoring...\n",
      "MusicDelta_Country1\n",
      "Handel_TornamiAVagheggiar\n",
      "Mozart_BesterJungling\n",
      "Schubert_Erstarrung\n",
      "MusicDelta_Britpop\n",
      "SweetLights_YouLetMeDown\n",
      "MusicDelta_Pachelbel\n",
      "ChrisJacoby_PigsFoot\n",
      "Mozart_DiesBildnis\n",
      "MatthewEntwistle_TheArch\n",
      "HezekiahJones_BorrowedHeart\n",
      "MatthewEntwistle_DontYouEver\n",
      "Schumann_Mignon\n",
      "MatthewEntwistle_FairerHopes\n",
      "Wolf_DieBekherte\n",
      "Debussy_LenfantProdigue\n",
      "MatthewEntwistle_Lontano\n",
      "ChrisJacoby_BoothShotLincoln\n",
      "MatthewEntwistle_ImpressionsOfSaturn\n",
      "MusicDelta_Gospel\n",
      "MusicDelta_ModalJazz\n",
      "MatthewEntwistle_TheFlaxenField\n",
      "MusicDelta_CoolJazz\n"
     ]
    }
   ],
   "source": [
    "importlib.reload(gm)\n",
    "mel_scores = gm.score_melodies(mel_output_dict, test_annot_dict)"
   ]
  },
  {
   "cell_type": "code",
   "execution_count": 298,
   "metadata": {
    "collapsed": false
   },
   "outputs": [
    {
     "data": {
      "text/html": [
       "<div style=\"max-height:1000px;max-width:1500px;overflow:auto;\">\n",
       "<table border=\"1\" class=\"dataframe\">\n",
       "  <thead>\n",
       "    <tr style=\"text-align: right;\">\n",
       "      <th></th>\n",
       "      <th>VR</th>\n",
       "      <th>VFA</th>\n",
       "      <th>RPA</th>\n",
       "      <th>RCA</th>\n",
       "      <th>OA</th>\n",
       "    </tr>\n",
       "  </thead>\n",
       "  <tbody>\n",
       "    <tr>\n",
       "      <th>count</th>\n",
       "      <td>23.000000</td>\n",
       "      <td>23.000000</td>\n",
       "      <td>23.000000</td>\n",
       "      <td>23.000000</td>\n",
       "      <td>23.000000</td>\n",
       "    </tr>\n",
       "    <tr>\n",
       "      <th>mean</th>\n",
       "      <td>0.839397</td>\n",
       "      <td>0.463562</td>\n",
       "      <td>0.533420</td>\n",
       "      <td>0.618318</td>\n",
       "      <td>0.520093</td>\n",
       "    </tr>\n",
       "    <tr>\n",
       "      <th>std</th>\n",
       "      <td>0.086113</td>\n",
       "      <td>0.137818</td>\n",
       "      <td>0.209234</td>\n",
       "      <td>0.175654</td>\n",
       "      <td>0.157097</td>\n",
       "    </tr>\n",
       "    <tr>\n",
       "      <th>min</th>\n",
       "      <td>0.683997</td>\n",
       "      <td>0.150386</td>\n",
       "      <td>0.167805</td>\n",
       "      <td>0.290410</td>\n",
       "      <td>0.236871</td>\n",
       "    </tr>\n",
       "    <tr>\n",
       "      <th>25%</th>\n",
       "      <td>0.753735</td>\n",
       "      <td>0.412517</td>\n",
       "      <td>0.355891</td>\n",
       "      <td>0.457874</td>\n",
       "      <td>0.410476</td>\n",
       "    </tr>\n",
       "    <tr>\n",
       "      <th>50%</th>\n",
       "      <td>0.854633</td>\n",
       "      <td>0.464505</td>\n",
       "      <td>0.552770</td>\n",
       "      <td>0.643999</td>\n",
       "      <td>0.485953</td>\n",
       "    </tr>\n",
       "    <tr>\n",
       "      <th>75%</th>\n",
       "      <td>0.895813</td>\n",
       "      <td>0.500122</td>\n",
       "      <td>0.665926</td>\n",
       "      <td>0.731187</td>\n",
       "      <td>0.616115</td>\n",
       "    </tr>\n",
       "    <tr>\n",
       "      <th>max</th>\n",
       "      <td>0.986070</td>\n",
       "      <td>0.806235</td>\n",
       "      <td>0.982873</td>\n",
       "      <td>0.983900</td>\n",
       "      <td>0.904193</td>\n",
       "    </tr>\n",
       "  </tbody>\n",
       "</table>\n",
       "</div>"
      ],
      "text/plain": [
       "              VR        VFA        RPA        RCA         OA\n",
       "count  23.000000  23.000000  23.000000  23.000000  23.000000\n",
       "mean    0.839397   0.463562   0.533420   0.618318   0.520093\n",
       "std     0.086113   0.137818   0.209234   0.175654   0.157097\n",
       "min     0.683997   0.150386   0.167805   0.290410   0.236871\n",
       "25%     0.753735   0.412517   0.355891   0.457874   0.410476\n",
       "50%     0.854633   0.464505   0.552770   0.643999   0.485953\n",
       "75%     0.895813   0.500122   0.665926   0.731187   0.616115\n",
       "max     0.986070   0.806235   0.982873   0.983900   0.904193"
      ]
     },
     "execution_count": 298,
     "metadata": {},
     "output_type": "execute_result"
    }
   ],
   "source": [
    "overall_scores = \\\n",
    "    pd.DataFrame(columns=['VR', 'VFA', 'RPA', 'RCA', 'OA'],\n",
    "                 index=mel_scores.keys())\n",
    "overall_scores['VR'] = \\\n",
    "    [mel_scores[key]['Voicing Recall'] for key in mel_scores.keys()]\n",
    "overall_scores['VFA'] = \\\n",
    "    [mel_scores[key]['Voicing False Alarm'] for key in mel_scores.keys()]\n",
    "overall_scores['RPA'] = \\\n",
    "    [mel_scores[key]['Raw Pitch Accuracy'] for key in mel_scores.keys()]\n",
    "overall_scores['RCA'] = \\\n",
    "    [mel_scores[key]['Raw Chroma Accuracy'] for key in mel_scores.keys()]\n",
    "overall_scores['OA'] = \\\n",
    "    [mel_scores[key]['Overall Accuracy'] for key in mel_scores.keys()]\n",
    "\n",
    "overall_scores.describe()"
   ]
  },
  {
   "cell_type": "code",
   "execution_count": 299,
   "metadata": {
    "collapsed": false
   },
   "outputs": [
    {
     "data": {
      "text/html": [
       "<div style=\"max-height:1000px;max-width:1500px;overflow:auto;\">\n",
       "<table border=\"1\" class=\"dataframe\">\n",
       "  <thead>\n",
       "    <tr style=\"text-align: right;\">\n",
       "      <th></th>\n",
       "      <th>VR</th>\n",
       "      <th>VFA</th>\n",
       "      <th>RPA</th>\n",
       "      <th>RCA</th>\n",
       "      <th>OA</th>\n",
       "    </tr>\n",
       "  </thead>\n",
       "  <tbody>\n",
       "    <tr>\n",
       "      <th>MusicDelta_Country1</th>\n",
       "      <td>0.974351</td>\n",
       "      <td>0.471808</td>\n",
       "      <td>0.872682</td>\n",
       "      <td>0.879790</td>\n",
       "      <td>0.714453</td>\n",
       "    </tr>\n",
       "    <tr>\n",
       "      <th>Handel_TornamiAVagheggiar</th>\n",
       "      <td>0.683997</td>\n",
       "      <td>0.498484</td>\n",
       "      <td>0.443070</td>\n",
       "      <td>0.511351</td>\n",
       "      <td>0.457622</td>\n",
       "    </tr>\n",
       "    <tr>\n",
       "      <th>Mozart_BesterJungling</th>\n",
       "      <td>0.777066</td>\n",
       "      <td>0.381579</td>\n",
       "      <td>0.552770</td>\n",
       "      <td>0.643999</td>\n",
       "      <td>0.568571</td>\n",
       "    </tr>\n",
       "    <tr>\n",
       "      <th>Schubert_Erstarrung</th>\n",
       "      <td>0.897123</td>\n",
       "      <td>0.611121</td>\n",
       "      <td>0.486436</td>\n",
       "      <td>0.566834</td>\n",
       "      <td>0.448424</td>\n",
       "    </tr>\n",
       "    <tr>\n",
       "      <th>MusicDelta_Britpop</th>\n",
       "      <td>0.971609</td>\n",
       "      <td>0.806235</td>\n",
       "      <td>0.629075</td>\n",
       "      <td>0.725026</td>\n",
       "      <td>0.455033</td>\n",
       "    </tr>\n",
       "    <tr>\n",
       "      <th>SweetLights_YouLetMeDown</th>\n",
       "      <td>0.876759</td>\n",
       "      <td>0.623655</td>\n",
       "      <td>0.570335</td>\n",
       "      <td>0.670301</td>\n",
       "      <td>0.485953</td>\n",
       "    </tr>\n",
       "    <tr>\n",
       "      <th>MusicDelta_Pachelbel</th>\n",
       "      <td>0.836917</td>\n",
       "      <td>0.402566</td>\n",
       "      <td>0.348918</td>\n",
       "      <td>0.387921</td>\n",
       "      <td>0.380483</td>\n",
       "    </tr>\n",
       "    <tr>\n",
       "      <th>ChrisJacoby_PigsFoot</th>\n",
       "      <td>0.744049</td>\n",
       "      <td>0.471997</td>\n",
       "      <td>0.351448</td>\n",
       "      <td>0.437976</td>\n",
       "      <td>0.400398</td>\n",
       "    </tr>\n",
       "    <tr>\n",
       "      <th>Mozart_DiesBildnis</th>\n",
       "      <td>0.915567</td>\n",
       "      <td>0.456210</td>\n",
       "      <td>0.675468</td>\n",
       "      <td>0.742013</td>\n",
       "      <td>0.637034</td>\n",
       "    </tr>\n",
       "    <tr>\n",
       "      <th>MatthewEntwistle_TheArch</th>\n",
       "      <td>0.854633</td>\n",
       "      <td>0.444682</td>\n",
       "      <td>0.730082</td>\n",
       "      <td>0.775303</td>\n",
       "      <td>0.644499</td>\n",
       "    </tr>\n",
       "    <tr>\n",
       "      <th>MusicDelta_ModalJazz</th>\n",
       "      <td>0.894502</td>\n",
       "      <td>0.453193</td>\n",
       "      <td>0.628026</td>\n",
       "      <td>0.704691</td>\n",
       "      <td>0.600850</td>\n",
       "    </tr>\n",
       "    <tr>\n",
       "      <th>MatthewEntwistle_DontYouEver</th>\n",
       "      <td>0.869578</td>\n",
       "      <td>0.498819</td>\n",
       "      <td>0.617738</td>\n",
       "      <td>0.707107</td>\n",
       "      <td>0.562468</td>\n",
       "    </tr>\n",
       "    <tr>\n",
       "      <th>Schumann_Mignon</th>\n",
       "      <td>0.842151</td>\n",
       "      <td>0.501425</td>\n",
       "      <td>0.664896</td>\n",
       "      <td>0.715100</td>\n",
       "      <td>0.622377</td>\n",
       "    </tr>\n",
       "    <tr>\n",
       "      <th>MatthewEntwistle_FairerHopes</th>\n",
       "      <td>0.748062</td>\n",
       "      <td>0.150386</td>\n",
       "      <td>0.198983</td>\n",
       "      <td>0.436833</td>\n",
       "      <td>0.298197</td>\n",
       "    </tr>\n",
       "    <tr>\n",
       "      <th>Wolf_DieBekherte</th>\n",
       "      <td>0.863327</td>\n",
       "      <td>0.251390</td>\n",
       "      <td>0.792345</td>\n",
       "      <td>0.821085</td>\n",
       "      <td>0.778082</td>\n",
       "    </tr>\n",
       "    <tr>\n",
       "      <th>Debussy_LenfantProdigue</th>\n",
       "      <td>0.900140</td>\n",
       "      <td>0.487432</td>\n",
       "      <td>0.666955</td>\n",
       "      <td>0.737348</td>\n",
       "      <td>0.609853</td>\n",
       "    </tr>\n",
       "    <tr>\n",
       "      <th>MatthewEntwistle_Lontano</th>\n",
       "      <td>0.716297</td>\n",
       "      <td>0.637789</td>\n",
       "      <td>0.167805</td>\n",
       "      <td>0.290410</td>\n",
       "      <td>0.236871</td>\n",
       "    </tr>\n",
       "    <tr>\n",
       "      <th>ChrisJacoby_BoothShotLincoln</th>\n",
       "      <td>0.753179</td>\n",
       "      <td>0.462179</td>\n",
       "      <td>0.322122</td>\n",
       "      <td>0.423695</td>\n",
       "      <td>0.362150</td>\n",
       "    </tr>\n",
       "    <tr>\n",
       "      <th>MatthewEntwistle_ImpressionsOfSaturn</th>\n",
       "      <td>0.889966</td>\n",
       "      <td>0.355654</td>\n",
       "      <td>0.447455</td>\n",
       "      <td>0.618842</td>\n",
       "      <td>0.516064</td>\n",
       "    </tr>\n",
       "    <tr>\n",
       "      <th>MusicDelta_Gospel</th>\n",
       "      <td>0.986070</td>\n",
       "      <td>0.256470</td>\n",
       "      <td>0.982873</td>\n",
       "      <td>0.983900</td>\n",
       "      <td>0.904193</td>\n",
       "    </tr>\n",
       "    <tr>\n",
       "      <th>HezekiahJones_BorrowedHeart</th>\n",
       "      <td>0.806663</td>\n",
       "      <td>0.551878</td>\n",
       "      <td>0.326559</td>\n",
       "      <td>0.477772</td>\n",
       "      <td>0.386750</td>\n",
       "    </tr>\n",
       "    <tr>\n",
       "      <th>MatthewEntwistle_TheFlaxenField</th>\n",
       "      <td>0.749834</td>\n",
       "      <td>0.422467</td>\n",
       "      <td>0.432278</td>\n",
       "      <td>0.541751</td>\n",
       "      <td>0.471255</td>\n",
       "    </tr>\n",
       "    <tr>\n",
       "      <th>MusicDelta_CoolJazz</th>\n",
       "      <td>0.754290</td>\n",
       "      <td>0.464505</td>\n",
       "      <td>0.360334</td>\n",
       "      <td>0.422263</td>\n",
       "      <td>0.420553</td>\n",
       "    </tr>\n",
       "  </tbody>\n",
       "</table>\n",
       "</div>"
      ],
      "text/plain": [
       "                                            VR       VFA       RPA       RCA  \\\n",
       "MusicDelta_Country1                   0.974351  0.471808  0.872682  0.879790   \n",
       "Handel_TornamiAVagheggiar             0.683997  0.498484  0.443070  0.511351   \n",
       "Mozart_BesterJungling                 0.777066  0.381579  0.552770  0.643999   \n",
       "Schubert_Erstarrung                   0.897123  0.611121  0.486436  0.566834   \n",
       "MusicDelta_Britpop                    0.971609  0.806235  0.629075  0.725026   \n",
       "SweetLights_YouLetMeDown              0.876759  0.623655  0.570335  0.670301   \n",
       "MusicDelta_Pachelbel                  0.836917  0.402566  0.348918  0.387921   \n",
       "ChrisJacoby_PigsFoot                  0.744049  0.471997  0.351448  0.437976   \n",
       "Mozart_DiesBildnis                    0.915567  0.456210  0.675468  0.742013   \n",
       "MatthewEntwistle_TheArch              0.854633  0.444682  0.730082  0.775303   \n",
       "MusicDelta_ModalJazz                  0.894502  0.453193  0.628026  0.704691   \n",
       "MatthewEntwistle_DontYouEver          0.869578  0.498819  0.617738  0.707107   \n",
       "Schumann_Mignon                       0.842151  0.501425  0.664896  0.715100   \n",
       "MatthewEntwistle_FairerHopes          0.748062  0.150386  0.198983  0.436833   \n",
       "Wolf_DieBekherte                      0.863327  0.251390  0.792345  0.821085   \n",
       "Debussy_LenfantProdigue               0.900140  0.487432  0.666955  0.737348   \n",
       "MatthewEntwistle_Lontano              0.716297  0.637789  0.167805  0.290410   \n",
       "ChrisJacoby_BoothShotLincoln          0.753179  0.462179  0.322122  0.423695   \n",
       "MatthewEntwistle_ImpressionsOfSaturn  0.889966  0.355654  0.447455  0.618842   \n",
       "MusicDelta_Gospel                     0.986070  0.256470  0.982873  0.983900   \n",
       "HezekiahJones_BorrowedHeart           0.806663  0.551878  0.326559  0.477772   \n",
       "MatthewEntwistle_TheFlaxenField       0.749834  0.422467  0.432278  0.541751   \n",
       "MusicDelta_CoolJazz                   0.754290  0.464505  0.360334  0.422263   \n",
       "\n",
       "                                            OA  \n",
       "MusicDelta_Country1                   0.714453  \n",
       "Handel_TornamiAVagheggiar             0.457622  \n",
       "Mozart_BesterJungling                 0.568571  \n",
       "Schubert_Erstarrung                   0.448424  \n",
       "MusicDelta_Britpop                    0.455033  \n",
       "SweetLights_YouLetMeDown              0.485953  \n",
       "MusicDelta_Pachelbel                  0.380483  \n",
       "ChrisJacoby_PigsFoot                  0.400398  \n",
       "Mozart_DiesBildnis                    0.637034  \n",
       "MatthewEntwistle_TheArch              0.644499  \n",
       "MusicDelta_ModalJazz                  0.600850  \n",
       "MatthewEntwistle_DontYouEver          0.562468  \n",
       "Schumann_Mignon                       0.622377  \n",
       "MatthewEntwistle_FairerHopes          0.298197  \n",
       "Wolf_DieBekherte                      0.778082  \n",
       "Debussy_LenfantProdigue               0.609853  \n",
       "MatthewEntwistle_Lontano              0.236871  \n",
       "ChrisJacoby_BoothShotLincoln          0.362150  \n",
       "MatthewEntwistle_ImpressionsOfSaturn  0.516064  \n",
       "MusicDelta_Gospel                     0.904193  \n",
       "HezekiahJones_BorrowedHeart           0.386750  \n",
       "MatthewEntwistle_TheFlaxenField       0.471255  \n",
       "MusicDelta_CoolJazz                   0.420553  "
      ]
     },
     "execution_count": 299,
     "metadata": {},
     "output_type": "execute_result"
    }
   ],
   "source": [
    "overall_scores"
   ]
  },
  {
   "cell_type": "code",
   "execution_count": null,
   "metadata": {
    "collapsed": false
   },
   "outputs": [],
   "source": []
  }
 ],
 "metadata": {
  "kernelspec": {
   "display_name": "Python 3",
   "language": "python",
   "name": "python3"
  },
  "language_info": {
   "codemirror_mode": {
    "name": "ipython",
    "version": 3
   },
   "file_extension": ".py",
   "mimetype": "text/x-python",
   "name": "python",
   "nbconvert_exporter": "python",
   "pygments_lexer": "ipython3",
   "version": "3.5.1"
  }
 },
 "nbformat": 4,
 "nbformat_minor": 0
}
