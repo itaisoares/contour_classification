{
 "cells": [
  {
   "cell_type": "code",
   "execution_count": null,
   "metadata": {
    "collapsed": true
   },
   "outputs": [],
   "source": [
    "from motif.run import process\n",
    "import json\n",
    "import numpy as np\n",
    "import properties as prop\n",
    "import os\n",
    "\n",
    "def relpath(f):\n",
    "    return os.path.join(os.getcwd(), f)\n",
    "\n",
    "\n",
    "#nomes dos arquivos de treinamento\n",
    "jsonDir = os.getcwd().split(prop.projectDirName)[0] + prop.projectDirName + \"/\" + prop.testDataName + \"/\"\n",
    "with open(jsonDir + prop.melodyTrackIdsJson, 'r') as fhandle:\n",
    "    track_list = json.load(fhandle)\n",
    "track_list = track_list['tracks']\n",
    "\n",
    "\n",
    "\n",
    "contours_root = prop.contoursRoot\n",
    "audio_root = prop.audioRoot\n",
    "\n",
    "#itera e cria os contornos\n",
    "for nome in(track_list):\n",
    "    #cria o diretorio\n",
    "    contour_dir = contours_root + nome\n",
    "    try:\n",
    "        os.stat(contour_dir)\n",
    "    except:\n",
    "        os.mkdir(contour_dir)\n",
    "    contour_file = contour_dir + \"/\"+ nome + \".csv\"\n",
    "    audio_file = audio_root + nome + \"/\" + nome + \"_MIX.wav\"\n",
    "    #print(contour_file)\n",
    "    #print(audio_file)"
   ]
  },
  {
   "cell_type": "code",
   "execution_count": 1,
   "metadata": {
    "collapsed": false
   },
   "outputs": [
    {
     "name": "stdout",
     "output_type": "stream",
     "text": [
      "[('/Volumes/Dados/Google Drive/Estudos/Mestrado/workspace/python/contour_classification/data/input.wav', '/Volumes/Dados/Google Drive/Estudos/Mestrado/workspace/python/contour_classification/data/input_annotation.csv')]\n",
      "/Volumes/Dados/Google Drive/Estudos/Mestrado/workspace/python/contour_classification/data/input.wav\n",
      "/Volumes/Dados/Google Drive/Estudos/Mestrado/workspace/python/contour_classification/data/input_annotation.csv\n"
     ]
    },
    {
     "ename": "TypeError",
     "evalue": "compute_contours() missing 1 required positional argument: 'audio_filepath'",
     "output_type": "error",
     "traceback": [
      "\u001b[0;31m---------------------------------------------------------------------------\u001b[0m",
      "\u001b[0;31mTypeError\u001b[0m                                 Traceback (most recent call last)",
      "\u001b[0;32m<ipython-input-1-e6d3947e91b3>\u001b[0m in \u001b[0;36m<module>\u001b[0;34m()\u001b[0m\n\u001b[1;32m     20\u001b[0m             \u001b[0maudio_files\u001b[0m\u001b[0;34m=\u001b[0m\u001b[0maudio_files\u001b[0m\u001b[0;34m,\u001b[0m \u001b[0mtraining_pairs\u001b[0m\u001b[0;34m=\u001b[0m\u001b[0mtraining_pairs\u001b[0m\u001b[0;34m,\u001b[0m\u001b[0;34m\u001b[0m\u001b[0m\n\u001b[1;32m     21\u001b[0m             \u001b[0mtesting_pairs\u001b[0m\u001b[0;34m=\u001b[0m\u001b[0mtesting_pairs\u001b[0m\u001b[0;34m,\u001b[0m \u001b[0mextract_id\u001b[0m\u001b[0;34m=\u001b[0m\u001b[0;34m'salamon'\u001b[0m\u001b[0;34m,\u001b[0m\u001b[0;34m\u001b[0m\u001b[0m\n\u001b[0;32m---> 22\u001b[0;31m             \u001b[0mfeature_id\u001b[0m\u001b[0;34m=\u001b[0m\u001b[0;34m'melodia'\u001b[0m\u001b[0;34m,\u001b[0m \u001b[0mclassifier_id\u001b[0m\u001b[0;34m=\u001b[0m\u001b[0;34m'random_forest'\u001b[0m\u001b[0;34m\u001b[0m\u001b[0m\n\u001b[0m\u001b[1;32m     23\u001b[0m         )\n",
      "\u001b[0;32m/Volumes/Dados/Google Drive/Estudos/Mestrado/workspace/python/contour_classification/motif/run.py\u001b[0m in \u001b[0;36mprocess\u001b[0;34m(audio_files, training_pairs, testing_pairs, extract_id, feature_id, classifier_id)\u001b[0m\n\u001b[1;32m     17\u001b[0m     \u001b[0;32mif\u001b[0m \u001b[0mtraining_pairs\u001b[0m \u001b[0;32mis\u001b[0m \u001b[0;32mnot\u001b[0m \u001b[0;32mNone\u001b[0m\u001b[0;34m:\u001b[0m\u001b[0;34m\u001b[0m\u001b[0m\n\u001b[1;32m     18\u001b[0m         X_train, Y_train, train_contours = process_with_labels(\n\u001b[0;32m---> 19\u001b[0;31m             \u001b[0mcontour_extractor\u001b[0m\u001b[0;34m,\u001b[0m \u001b[0mfeature_extractor\u001b[0m\u001b[0;34m,\u001b[0m \u001b[0mtraining_pairs\u001b[0m\u001b[0;34m\u001b[0m\u001b[0m\n\u001b[0m\u001b[1;32m     20\u001b[0m         )\n\u001b[1;32m     21\u001b[0m         \u001b[0mcontour_classifier\u001b[0m\u001b[0;34m.\u001b[0m\u001b[0mfit\u001b[0m\u001b[0;34m(\u001b[0m\u001b[0mX_train\u001b[0m\u001b[0;34m,\u001b[0m \u001b[0mY_train\u001b[0m\u001b[0;34m)\u001b[0m\u001b[0;34m\u001b[0m\u001b[0m\n",
      "\u001b[0;32m/Volumes/Dados/Google Drive/Estudos/Mestrado/workspace/python/contour_classification/motif/run.py\u001b[0m in \u001b[0;36mprocess_with_labels\u001b[0;34m(contour_extractor, feature_extractor, file_pairs)\u001b[0m\n\u001b[1;32m     68\u001b[0m         \u001b[0mprint\u001b[0m\u001b[0;34m(\u001b[0m\u001b[0maudio_filepath\u001b[0m\u001b[0;34m)\u001b[0m\u001b[0;34m\u001b[0m\u001b[0m\n\u001b[1;32m     69\u001b[0m         \u001b[0mprint\u001b[0m\u001b[0;34m(\u001b[0m\u001b[0mannotation\u001b[0m\u001b[0;34m)\u001b[0m\u001b[0;34m\u001b[0m\u001b[0m\n\u001b[0;32m---> 70\u001b[0;31m         \u001b[0mctr\u001b[0m \u001b[0;34m=\u001b[0m \u001b[0mcontour_extractor\u001b[0m\u001b[0;34m.\u001b[0m\u001b[0mcompute_contours\u001b[0m\u001b[0;34m(\u001b[0m\u001b[0maudio_filepath\u001b[0m\u001b[0;34m)\u001b[0m\u001b[0;34m\u001b[0m\u001b[0m\n\u001b[0m\u001b[1;32m     71\u001b[0m         \u001b[0mY_train\u001b[0m\u001b[0;34m,\u001b[0m \u001b[0m_\u001b[0m \u001b[0;34m=\u001b[0m \u001b[0mctr\u001b[0m\u001b[0;34m.\u001b[0m\u001b[0mcompute_labels\u001b[0m\u001b[0;34m(\u001b[0m\u001b[0mannotation\u001b[0m\u001b[0;34m)\u001b[0m\u001b[0;34m\u001b[0m\u001b[0m\n\u001b[1;32m     72\u001b[0m         \u001b[0mX_train\u001b[0m \u001b[0;34m=\u001b[0m \u001b[0mfeature_extractor\u001b[0m\u001b[0;34m.\u001b[0m\u001b[0mcompute_features\u001b[0m\u001b[0;34m(\u001b[0m\u001b[0mctr\u001b[0m\u001b[0;34m)\u001b[0m\u001b[0;34m\u001b[0m\u001b[0m\n",
      "\u001b[0;31mTypeError\u001b[0m: compute_contours() missing 1 required positional argument: 'audio_filepath'"
     ]
    }
   ],
   "source": [
    "from motif.run import process\n",
    "import os\n",
    "\n",
    "\n",
    "def relpath(f):\n",
    "    return os.path.join(os.getcwd(), f)\n",
    "\n",
    "SHORT_AUDIO_FILE = relpath(\"data/short.wav\")\n",
    "TRAIN_AUDIO_FILE = relpath(\"data/input.wav\")\n",
    "ANNOTATION_FILE = relpath('data/input_annotation.csv')\n",
    "\n",
    "\n",
    "\n",
    "audio_files = [SHORT_AUDIO_FILE]\n",
    "training_pairs = [(TRAIN_AUDIO_FILE, ANNOTATION_FILE)]\n",
    "testing_pairs = [(SHORT_AUDIO_FILE, ANNOTATION_FILE)]\n",
    "# print(training_pairs)\n",
    "# print(testing_pairs)\n",
    "process(\n",
    "            audio_files=audio_files, training_pairs=training_pairs,\n",
    "            testing_pairs=testing_pairs, extract_id='salamon',\n",
    "            feature_id='melodia', classifier_id='random_forest'\n",
    "        )"
   ]
  },
  {
   "cell_type": "code",
   "execution_count": null,
   "metadata": {
    "collapsed": true
   },
   "outputs": [],
   "source": []
  }
 ],
 "metadata": {
  "kernelspec": {
   "display_name": "Python 3",
   "language": "python",
   "name": "python3"
  },
  "language_info": {
   "codemirror_mode": {
    "name": "ipython",
    "version": 3
   },
   "file_extension": ".py",
   "mimetype": "text/x-python",
   "name": "python",
   "nbconvert_exporter": "python",
   "pygments_lexer": "ipython3",
   "version": "3.5.1"
  }
 },
 "nbformat": 4,
 "nbformat_minor": 0
}
