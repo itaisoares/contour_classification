{
 "cells": [
  {
   "cell_type": "code",
   "execution_count": null,
   "metadata": {
    "collapsed": true
   },
   "outputs": [],
   "source": [
    "from motif-master.run import process\n",
    "import json\n",
    "import numpy as np\n",
    "import properties as prop\n",
    "import os\n",
    "\n",
    "def relpath(f):\n",
    "    return os.path.join(os.getcwd(), f)\n",
    "\n",
    "\n",
    "#nomes dos arquivos de treinamento\n",
    "jsonDir = os.getcwd().split(prop.projectDirName)[0] + prop.projectDirName + \"/\" + prop.testDataName + \"/\"\n",
    "with open(jsonDir + prop.melodyTrackIdsJson, 'r') as fhandle:\n",
    "    track_list = json.load(fhandle)\n",
    "track_list = track_list['tracks']\n",
    "\n",
    "\n",
    "\n",
    "contours_root = prop.contoursRoot\n",
    "audio_root = prop.audioRoot\n",
    "\n",
    "#itera e cria os contornos\n",
    "for nome in(track_list):\n",
    "    #cria o diretorio\n",
    "    contour_dir = contours_root + nome\n",
    "    try:\n",
    "        os.stat(contour_dir)\n",
    "    except:\n",
    "        os.mkdir(contour_dir)\n",
    "    contour_file = contour_dir + \"/\"+ nome + \".csv\"\n",
    "    audio_file = audio_root + nome + \"/\" + nome + \"_MIX.wav\"\n",
    "    #print(contour_file)\n",
    "    #print(audio_file)"
   ]
  },
  {
   "cell_type": "code",
   "execution_count": 13,
   "metadata": {
    "collapsed": false
   },
   "outputs": [
    {
     "name": "stdout",
     "output_type": "stream",
     "text": [
      "/Volumes/Dados/Google Drive/Estudos/Mestrado/workspace/python/contour_classification/data/input.wav\n",
      "/Volumes/Dados/Google Drive/Estudos/Mestrado/workspace/python/contour_classification/data/short.wav"
     ]
    },
    {
     "name": "stderr",
     "output_type": "stream",
     "text": [
      "/Volumes/Dados/Google Drive/Estudos/Mestrado/workspace/python/contour_classification/mir_eval/melody.py:77: UserWarning: Reference melody has no voiced frames.\n",
      "  warnings.warn(\"Reference melody has no voiced frames.\")\n",
      "/Volumes/Dados/Google Drive/Estudos/Mestrado/workspace/python/contour_classification/mir_eval/melody.py:231: UserWarning: Non-uniform timescale passed to resample_melody_series.  Pitch will be linearly interpolated, which will result in undesirable behavior if silences are indicated by missing values.  Silences should be indicated by nonpositive frequency values.\n",
      "  \"Non-uniform timescale passed to resample_melody_series.  Pitch \"\n",
      "/Volumes/Dados/Google Drive/Estudos/Mestrado/workspace/python/contour_classification/mir_eval/melody.py:77: UserWarning: Reference melody has no voiced frames.\n",
      "  warnings.warn(\"Reference melody has no voiced frames.\")\n"
     ]
    },
    {
     "name": "stdout",
     "output_type": "stream",
     "text": [
      "\n",
      "TO USANDOA QUI MERMO\n"
     ]
    },
    {
     "name": "stderr",
     "output_type": "stream",
     "text": [
      "/Volumes/Dados/Google Drive/Estudos/Mestrado/workspace/python/contour_classification/mir_eval/melody.py:231: UserWarning: Non-uniform timescale passed to resample_melody_series.  Pitch will be linearly interpolated, which will result in undesirable behavior if silences are indicated by missing values.  Silences should be indicated by nonpositive frequency values.\n",
      "  \"Non-uniform timescale passed to resample_melody_series.  Pitch \"\n"
     ]
    }
   ],
   "source": [
    "from motif.run import process\n",
    "import os\n",
    "\n",
    "\n",
    "def relpath(f):\n",
    "    return os.path.join(os.getcwd(), f)\n",
    "\n",
    "SHORT_AUDIO_FILE = relpath(\"data/short.wav\")\n",
    "TRAIN_AUDIO_FILE = relpath(\"data/input.wav\")\n",
    "ANNOTATION_FILE = relpath('data/input_annotation.csv')\n",
    "\n",
    "\n",
    "\n",
    "audio_files = [SHORT_AUDIO_FILE]\n",
    "training_pairs = [(TRAIN_AUDIO_FILE, ANNOTATION_FILE)]\n",
    "testing_pairs = [(SHORT_AUDIO_FILE, ANNOTATION_FILE)]\n",
    "# print(training_pairs)\n",
    "# print(testing_pairs)\n",
    "# cara = process(\n",
    "#             audio_files=audio_files, training_pairs=training_pairs,\n",
    "#             testing_pairs=testing_pairs, extract_id='salamon',\n",
    "#             feature_id='melodia', classifier_id='random_forest'\n",
    "#         )\n",
    "cara = process(\n",
    "            audio_files=audio_files, training_pairs=training_pairs,\n",
    "            testing_pairs=testing_pairs, extract_id='salamon',\n",
    "            feature_id='melodia', classifier_id='random_forest'\n",
    "        )\n"
   ]
  },
  {
   "cell_type": "code",
   "execution_count": 20,
   "metadata": {
    "collapsed": false
   },
   "outputs": [
    {
     "name": "stdout",
     "output_type": "stream",
     "text": [
      "None\n"
     ]
    }
   ],
   "source": [
    "# print(cara[0].save(\"tests/output.csv\"))\n",
    "print(cara[2][0][0].save(\"data/output.csv\"))"
   ]
  },
  {
   "cell_type": "code",
   "execution_count": 21,
   "metadata": {
    "collapsed": false
   },
   "outputs": [
    {
     "name": "stdout",
     "output_type": "stream",
     "text": [
      "[(<motif.core.Contours object at 0x11af33780>, array([[  3.25079000e-01,   6.96599000e-01,   3.71520000e-01,\n",
      "          2.20240523e+03,   8.78410496e+00,   5.16166095e-01,\n",
      "          4.40570097e-02,   6.65854263e+01,   1.00000000e+00,\n",
      "          9.43189889e+00,   3.99998785e+01,   7.50000000e-01],\n",
      "       [  3.45397000e-01,   9.11383000e-01,   5.65986000e-01,\n",
      "          1.14035825e+03,   1.87730060e+02,   5.06114076e-01,\n",
      "          6.57901470e-02,   9.91983589e+01,   1.00000000e+00,\n",
      "          5.46219654e+00,   4.28928783e+02,   1.00000000e+00],\n",
      "       [  7.11111000e-01,   1.78794000e+00,   1.07682900e+00,\n",
      "          2.20032484e+03,   6.98678921e+00,   6.58018014e-01,\n",
      "          1.98998313e-01,   2.44782701e+02,   1.00000000e+00,\n",
      "          6.48613158e+00,   2.81154136e+01,   3.38645418e-01],\n",
      "       [  9.31701000e-01,   1.38159000e+00,   4.49889000e-01,\n",
      "          2.59942518e+03,   2.59308198e+00,   4.66145114e-01,\n",
      "          1.49003928e-02,   7.27186378e+01,   1.00000000e+00,\n",
      "          1.33993680e+01,   2.00014403e+01,   4.85714286e-01],\n",
      "       [  1.39610000e+00,   1.79084000e+00,   3.94740000e-01,\n",
      "          9.98905382e+02,   8.42987647e+00,   8.03656907e-01,\n",
      "          9.57099016e-02,   1.10100996e+02,   1.00000000e+00,\n",
      "          4.98288998e+00,   3.99996329e+01,   1.25000000e-01],\n",
      "       [  1.79955000e+00,   2.02594000e+00,   2.26390000e-01,\n",
      "          1.49886371e+03,   1.61479387e+01,   6.14735824e-01,\n",
      "          1.05064320e-01,   4.85641301e+01,   0.00000000e+00,\n",
      "          0.00000000e+00,   0.00000000e+00,   0.00000000e+00],\n",
      "       [  1.99692000e+00,   2.91991000e+00,   9.22990000e-01,\n",
      "          2.19962595e+03,   1.12193736e+01,   6.18892538e-01,\n",
      "          1.12208578e-01,   1.97426720e+02,   1.00000000e+00,\n",
      "          8.86365306e+00,   2.17912178e+01,   7.32323232e-01],\n",
      "       [  2.01143000e+00,   2.38585000e+00,   3.74420000e-01,\n",
      "          3.39999807e+03,   4.54747351e-13,   4.82592892e-01,\n",
      "          1.65577316e-02,   6.27370760e+01,   0.00000000e+00,\n",
      "          0.00000000e+00,   0.00000000e+00,   0.00000000e+00],\n",
      "       [  2.48744000e+00,   2.91701000e+00,   4.29570000e-01,\n",
      "          9.96107639e+02,   1.57467535e+01,   6.79428697e-01,\n",
      "          9.51569443e-02,   1.01234876e+02,   1.00000000e+00,\n",
      "          1.06776214e+01,   5.72744565e+01,   3.92857143e-01]]), array([ 0.        ,  0.        ,  0.03298437,  0.        ,  0.        ,\n",
      "        0.03298437,  0.03298437,  0.        ,  0.        ]))]\n"
     ]
    }
   ],
   "source": [
    "print(cara[2])"
   ]
  },
  {
   "cell_type": "code",
   "execution_count": null,
   "metadata": {
    "collapsed": true
   },
   "outputs": [],
   "source": []
  }
 ],
 "metadata": {
  "kernelspec": {
   "display_name": "Python 3",
   "language": "python",
   "name": "python3"
  },
  "language_info": {
   "codemirror_mode": {
    "name": "ipython",
    "version": 3
   },
   "file_extension": ".py",
   "mimetype": "text/x-python",
   "name": "python",
   "nbconvert_exporter": "python",
   "pygments_lexer": "ipython3",
   "version": "3.5.1"
  }
 },
 "nbformat": 4,
 "nbformat_minor": 0
}
