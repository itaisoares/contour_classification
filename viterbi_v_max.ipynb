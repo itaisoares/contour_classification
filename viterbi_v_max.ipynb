{
 "metadata": {
  "name": ""
 },
 "nbformat": 3,
 "nbformat_minor": 0,
 "worksheets": [
  {
   "cells": [
    {
     "cell_type": "code",
     "collapsed": false,
     "input": [
      "import pandas as pd\n",
      "import matplotlib.pyplot as plt\n",
      "import seaborn as sns\n",
      "import os\n",
      "import numpy as np\n",
      "sns.set()"
     ],
     "language": "python",
     "metadata": {},
     "outputs": [],
     "prompt_number": 5
    },
    {
     "cell_type": "code",
     "collapsed": false,
     "input": [
      "meltype = 2\n",
      "if meltype == 1:\n",
      "    olap = 0.5\n",
      "else:\n",
      "    olap = 0.4"
     ],
     "language": "python",
     "metadata": {},
     "outputs": [],
     "prompt_number": 62
    },
    {
     "cell_type": "code",
     "collapsed": false,
     "input": [
      "viterbi_dir = '/Users/rachelbittner/Desktop/exper_output/ver1/CC_exper_mel%s' % meltype\n",
      "max_dir = '/Users/rachelbittner/Desktop/exper_output/ver1/CC_exper_mel%s_maxdecode_take3' % meltype"
     ],
     "language": "python",
     "metadata": {},
     "outputs": [],
     "prompt_number": 63
    },
    {
     "cell_type": "code",
     "collapsed": false,
     "input": [
      "res_dict_viterbi = {}\n",
      "res_dict_max = {}\n",
      "viterbi_sum = 0\n",
      "viterbi_count = 0\n",
      "max_sum = 0\n",
      "max_count = 0\n",
      "for split in np.arange(1, 6):\n",
      "    viterbi_res = os.path.join(viterbi_dir, \"splitnum_%s\" % split, \n",
      "                               \"olap_%s\" % olap, \"all_mel_scores.csv\")\n",
      "    max_res = os.path.join(max_dir, \"splitnum_%s\" % split, \n",
      "                           \"olap_%s\" % olap, \"all_mel_scores.csv\")\n",
      "    res_dict_viterbi[split] = pd.read_csv(viterbi_res, index_col=0)\n",
      "    res_dict_max[split] = pd.read_csv(max_res, index_col=0)\n",
      "    \n",
      "    viterbi_sum += np.sum(res_dict_viterbi[split].loc[:, 'OA'])\n",
      "    viterbi_count += len(np.array(res_dict_viterbi[split].loc[:, 'OA']))\n",
      "    max_sum += np.sum(res_dict_max[split].loc[:, 'OA'])\n",
      "    max_count += len(np.array(res_dict_max[split].loc[:, 'OA']))\n",
      "    #print res_dict_viterbi[split]\n",
      "\n",
      "pnl_viterbi = pd.Panel(data=res_dict_viterbi)\n",
      "pnl_max = pd.Panel(data=res_dict_max)"
     ],
     "language": "python",
     "metadata": {},
     "outputs": [],
     "prompt_number": 68
    },
    {
     "cell_type": "code",
     "collapsed": false,
     "input": [
      "print viterbi_sum/float(viterbi_count) - max_sum/float(max_count)\n",
      "print max_sum/float(max_count)"
     ],
     "language": "python",
     "metadata": {},
     "outputs": [
      {
       "output_type": "stream",
       "stream": "stdout",
       "text": [
        "0.0237328469519\n",
        "0.482375635097\n"
       ]
      }
     ],
     "prompt_number": 69
    },
    {
     "cell_type": "code",
     "collapsed": false,
     "input": [
      "(pnl_viterbi[:, 'mean', 'OA'] - pnl_max[:, 'mean', 'OA'])"
     ],
     "language": "python",
     "metadata": {},
     "outputs": [
      {
       "metadata": {},
       "output_type": "pyout",
       "prompt_number": 47,
       "text": [
        "1    0.053081\n",
        "2   -0.001087\n",
        "3   -0.006902\n",
        "4    0.006556\n",
        "5    0.027132\n",
        "Name: OA, dtype: float64"
       ]
      }
     ],
     "prompt_number": 47
    },
    {
     "cell_type": "code",
     "collapsed": false,
     "input": [
      "pnl_viterbi.mean(axis=0)"
     ],
     "language": "python",
     "metadata": {},
     "outputs": [
      {
       "html": [
        "<div style=\"max-height:1000px;max-width:1500px;overflow:auto;\">\n",
        "<table border=\"1\" class=\"dataframe\">\n",
        "  <thead>\n",
        "    <tr style=\"text-align: right;\">\n",
        "      <th></th>\n",
        "      <th>VR</th>\n",
        "      <th>VFA</th>\n",
        "      <th>RPA</th>\n",
        "      <th>RCA</th>\n",
        "      <th>OA</th>\n",
        "    </tr>\n",
        "  </thead>\n",
        "  <tbody>\n",
        "    <tr>\n",
        "      <th>count</th>\n",
        "      <td>22.400000</td>\n",
        "      <td>22.400000</td>\n",
        "      <td>22.400000</td>\n",
        "      <td>22.400000</td>\n",
        "      <td>22.400000</td>\n",
        "    </tr>\n",
        "    <tr>\n",
        "      <th>mean</th>\n",
        "      <td>0.785310</td>\n",
        "      <td>0.477338</td>\n",
        "      <td>0.512567</td>\n",
        "      <td>0.607707</td>\n",
        "      <td>0.505986</td>\n",
        "    </tr>\n",
        "    <tr>\n",
        "      <th>std</th>\n",
        "      <td>0.131591</td>\n",
        "      <td>0.114073</td>\n",
        "      <td>0.220537</td>\n",
        "      <td>0.187430</td>\n",
        "      <td>0.146689</td>\n",
        "    </tr>\n",
        "    <tr>\n",
        "      <th>min</th>\n",
        "      <td>0.483070</td>\n",
        "      <td>0.280538</td>\n",
        "      <td>0.100288</td>\n",
        "      <td>0.201590</td>\n",
        "      <td>0.152783</td>\n",
        "    </tr>\n",
        "    <tr>\n",
        "      <th>25%</th>\n",
        "      <td>0.722995</td>\n",
        "      <td>0.399502</td>\n",
        "      <td>0.355620</td>\n",
        "      <td>0.490731</td>\n",
        "      <td>0.419373</td>\n",
        "    </tr>\n",
        "    <tr>\n",
        "      <th>50%</th>\n",
        "      <td>0.800738</td>\n",
        "      <td>0.475608</td>\n",
        "      <td>0.544608</td>\n",
        "      <td>0.625391</td>\n",
        "      <td>0.516974</td>\n",
        "    </tr>\n",
        "    <tr>\n",
        "      <th>75%</th>\n",
        "      <td>0.885711</td>\n",
        "      <td>0.556761</td>\n",
        "      <td>0.677551</td>\n",
        "      <td>0.745145</td>\n",
        "      <td>0.610796</td>\n",
        "    </tr>\n",
        "    <tr>\n",
        "      <th>max</th>\n",
        "      <td>0.962928</td>\n",
        "      <td>0.732882</td>\n",
        "      <td>0.886583</td>\n",
        "      <td>0.915699</td>\n",
        "      <td>0.739686</td>\n",
        "    </tr>\n",
        "  </tbody>\n",
        "</table>\n",
        "</div>"
       ],
       "metadata": {},
       "output_type": "pyout",
       "prompt_number": 42,
       "text": [
        "              VR        VFA        RPA        RCA         OA\n",
        "count  22.400000  22.400000  22.400000  22.400000  22.400000\n",
        "mean    0.785310   0.477338   0.512567   0.607707   0.505986\n",
        "std     0.131591   0.114073   0.220537   0.187430   0.146689\n",
        "min     0.483070   0.280538   0.100288   0.201590   0.152783\n",
        "25%     0.722995   0.399502   0.355620   0.490731   0.419373\n",
        "50%     0.800738   0.475608   0.544608   0.625391   0.516974\n",
        "75%     0.885711   0.556761   0.677551   0.745145   0.610796\n",
        "max     0.962928   0.732882   0.886583   0.915699   0.739686"
       ]
      }
     ],
     "prompt_number": 42
    },
    {
     "cell_type": "code",
     "collapsed": false,
     "input": [
      "pnl_viterbi.mean(axis=0) - pnl_max.mean(axis=0)"
     ],
     "language": "python",
     "metadata": {},
     "outputs": [
      {
       "html": [
        "<div style=\"max-height:1000px;max-width:1500px;overflow:auto;\">\n",
        "<table border=\"1\" class=\"dataframe\">\n",
        "  <thead>\n",
        "    <tr style=\"text-align: right;\">\n",
        "      <th></th>\n",
        "      <th>VR</th>\n",
        "      <th>VFA</th>\n",
        "      <th>RPA</th>\n",
        "      <th>RCA</th>\n",
        "      <th>OA</th>\n",
        "    </tr>\n",
        "  </thead>\n",
        "  <tbody>\n",
        "    <tr>\n",
        "      <th>count</th>\n",
        "      <td>0.000000</td>\n",
        "      <td>0.000000</td>\n",
        "      <td>0.000000</td>\n",
        "      <td>0.000000</td>\n",
        "      <td>0.000000</td>\n",
        "    </tr>\n",
        "    <tr>\n",
        "      <th>mean</th>\n",
        "      <td>-0.010565</td>\n",
        "      <td>-0.004302</td>\n",
        "      <td>0.028261</td>\n",
        "      <td>0.007231</td>\n",
        "      <td>0.015756</td>\n",
        "    </tr>\n",
        "    <tr>\n",
        "      <th>std</th>\n",
        "      <td>0.008113</td>\n",
        "      <td>-0.005726</td>\n",
        "      <td>0.019407</td>\n",
        "      <td>0.009045</td>\n",
        "      <td>0.005080</td>\n",
        "    </tr>\n",
        "    <tr>\n",
        "      <th>min</th>\n",
        "      <td>-0.056500</td>\n",
        "      <td>0.013678</td>\n",
        "      <td>-0.012733</td>\n",
        "      <td>0.000368</td>\n",
        "      <td>-0.004552</td>\n",
        "    </tr>\n",
        "    <tr>\n",
        "      <th>25%</th>\n",
        "      <td>-0.003283</td>\n",
        "      <td>-0.003700</td>\n",
        "      <td>0.017097</td>\n",
        "      <td>0.015407</td>\n",
        "      <td>0.018538</td>\n",
        "    </tr>\n",
        "    <tr>\n",
        "      <th>50%</th>\n",
        "      <td>-0.024295</td>\n",
        "      <td>0.002933</td>\n",
        "      <td>0.032117</td>\n",
        "      <td>0.001152</td>\n",
        "      <td>0.021078</td>\n",
        "    </tr>\n",
        "    <tr>\n",
        "      <th>75%</th>\n",
        "      <td>-0.000433</td>\n",
        "      <td>-0.011644</td>\n",
        "      <td>0.047634</td>\n",
        "      <td>0.019464</td>\n",
        "      <td>0.037953</td>\n",
        "    </tr>\n",
        "    <tr>\n",
        "      <th>max</th>\n",
        "      <td>-0.004376</td>\n",
        "      <td>-0.003316</td>\n",
        "      <td>0.055643</td>\n",
        "      <td>0.009652</td>\n",
        "      <td>0.004289</td>\n",
        "    </tr>\n",
        "  </tbody>\n",
        "</table>\n",
        "</div>"
       ],
       "metadata": {},
       "output_type": "pyout",
       "prompt_number": 44,
       "text": [
        "             VR       VFA       RPA       RCA        OA\n",
        "count  0.000000  0.000000  0.000000  0.000000  0.000000\n",
        "mean  -0.010565 -0.004302  0.028261  0.007231  0.015756\n",
        "std    0.008113 -0.005726  0.019407  0.009045  0.005080\n",
        "min   -0.056500  0.013678 -0.012733  0.000368 -0.004552\n",
        "25%   -0.003283 -0.003700  0.017097  0.015407  0.018538\n",
        "50%   -0.024295  0.002933  0.032117  0.001152  0.021078\n",
        "75%   -0.000433 -0.011644  0.047634  0.019464  0.037953\n",
        "max   -0.004376 -0.003316  0.055643  0.009652  0.004289"
       ]
      }
     ],
     "prompt_number": 44
    },
    {
     "cell_type": "code",
     "collapsed": false,
     "input": [],
     "language": "python",
     "metadata": {},
     "outputs": []
    },
    {
     "cell_type": "code",
     "collapsed": false,
     "input": [],
     "language": "python",
     "metadata": {},
     "outputs": []
    }
   ],
   "metadata": {}
  }
 ]
}